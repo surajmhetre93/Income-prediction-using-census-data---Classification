{
 "cells": [
  {
   "cell_type": "code",
   "execution_count": 1,
   "metadata": {},
   "outputs": [],
   "source": [
    "import numpy as np\n",
    "import pandas as pd\n",
    "import matplotlib as mp\n",
    "from sklearn.linear_model import LogisticRegression, LassoLarsIC\n",
    "from sklearn.model_selection import train_test_split\n",
    "from sklearn.metrics import confusion_matrix\n",
    "from sklearn.feature_selection import RFECV\n",
    "from sklearn.metrics import classification_report\n",
    "from sklearn.neighbors import KNeighborsClassifier\n",
    "from sklearn.discriminant_analysis import LinearDiscriminantAnalysis as LDA\n",
    "from sklearn.ensemble import RandomForestClassifier\n",
    "from sklearn.metrics import accuracy_score\n",
    "import sklearn.metrics as metrics\n",
    "from sklearn.tree import DecisionTreeClassifier\n",
    "from sklearn.model_selection import GridSearchCV\n",
    "from sklearn import datasets, linear_model\n",
    "from sklearn.model_selection import KFold\n",
    "from sklearn.model_selection import train_test_split\n",
    "from matplotlib import pyplot as plt\n",
    "from sklearn.metrics import mean_squared_error, r2_score\n",
    "from sklearn.preprocessing import StandardScaler, MinMaxScaler\n",
    "from sklearn.svm import LinearSVC, SVC"
   ]
  },
  {
   "cell_type": "code",
   "execution_count": 2,
   "metadata": {},
   "outputs": [],
   "source": [
    "pd.set_option('display.max_columns', None)"
   ]
  },
  {
   "cell_type": "markdown",
   "metadata": {},
   "source": [
    "# Data Extraction"
   ]
  },
  {
   "cell_type": "code",
   "execution_count": 3,
   "metadata": {
    "scrolled": true
   },
   "outputs": [
    {
     "data": {
      "text/html": [
       "<div>\n",
       "<style scoped>\n",
       "    .dataframe tbody tr th:only-of-type {\n",
       "        vertical-align: middle;\n",
       "    }\n",
       "\n",
       "    .dataframe tbody tr th {\n",
       "        vertical-align: top;\n",
       "    }\n",
       "\n",
       "    .dataframe thead th {\n",
       "        text-align: right;\n",
       "    }\n",
       "</style>\n",
       "<table border=\"1\" class=\"dataframe\">\n",
       "  <thead>\n",
       "    <tr style=\"text-align: right;\">\n",
       "      <th></th>\n",
       "      <th>Unnamed: 0</th>\n",
       "      <th>AAGE</th>\n",
       "      <th>ACLSWKR</th>\n",
       "      <th>ADTIND</th>\n",
       "      <th>ADTOCC</th>\n",
       "      <th>AHGA</th>\n",
       "      <th>AGI</th>\n",
       "      <th>*(pred)</th>\n",
       "      <th>AHRSPAY</th>\n",
       "      <th>AHSCOL</th>\n",
       "      <th>AMARITL</th>\n",
       "      <th>AMJIND</th>\n",
       "      <th>AMJOCC</th>\n",
       "      <th>ARACE</th>\n",
       "      <th>AREORGN</th>\n",
       "      <th>ASEX</th>\n",
       "      <th>AUNMEM</th>\n",
       "      <th>AUNTYPE</th>\n",
       "      <th>AWKSTAT</th>\n",
       "      <th>CAPGAIN</th>\n",
       "      <th>CAPLOSS</th>\n",
       "      <th>DIVVAL</th>\n",
       "      <th>FEDTAX</th>\n",
       "      <th>GRINGREG</th>\n",
       "      <th>GRINST</th>\n",
       "      <th>HHDFMX</th>\n",
       "      <th>HHDREL</th>\n",
       "      <th>MARSUPWT</th>\n",
       "      <th>MIGMTR1</th>\n",
       "      <th>MIGMTR3</th>\n",
       "      <th>MIGMTR4</th>\n",
       "      <th>MIGSAME</th>\n",
       "      <th>MIGSUN</th>\n",
       "      <th>NOEMP</th>\n",
       "      <th>PARENT</th>\n",
       "      <th>FATHER</th>\n",
       "      <th>MOTHER</th>\n",
       "      <th>SELF</th>\n",
       "      <th>PRCITSHP</th>\n",
       "      <th>SEOTR</th>\n",
       "      <th>VETQVA</th>\n",
       "      <th>VETYN</th>\n",
       "      <th>WKSWORK</th>\n",
       "      <th>YEAR</th>\n",
       "      <th>INCOME</th>\n",
       "    </tr>\n",
       "  </thead>\n",
       "  <tbody>\n",
       "    <tr>\n",
       "      <th>0</th>\n",
       "      <td>52591</td>\n",
       "      <td>42.0</td>\n",
       "      <td>Private</td>\n",
       "      <td>29</td>\n",
       "      <td>31</td>\n",
       "      <td>High school graduate</td>\n",
       "      <td>NaN</td>\n",
       "      <td>0</td>\n",
       "      <td>NaN</td>\n",
       "      <td>Not in universe</td>\n",
       "      <td>Married-civilian spouse present</td>\n",
       "      <td>Transportation</td>\n",
       "      <td>Other service</td>\n",
       "      <td>White</td>\n",
       "      <td>All other</td>\n",
       "      <td>Male</td>\n",
       "      <td>No</td>\n",
       "      <td>Not in universe</td>\n",
       "      <td>Full-time schedules</td>\n",
       "      <td>0</td>\n",
       "      <td>0</td>\n",
       "      <td>0</td>\n",
       "      <td>Joint both under 65</td>\n",
       "      <td>Not in universe</td>\n",
       "      <td>Not in universe</td>\n",
       "      <td>Householder</td>\n",
       "      <td>Householder</td>\n",
       "      <td>541.06</td>\n",
       "      <td>?</td>\n",
       "      <td>?</td>\n",
       "      <td>?</td>\n",
       "      <td>Not in universe under 1 year old</td>\n",
       "      <td>?</td>\n",
       "      <td>6</td>\n",
       "      <td>Not in universe</td>\n",
       "      <td>United-States</td>\n",
       "      <td>United-States</td>\n",
       "      <td>United-States</td>\n",
       "      <td>Native- Born in the United States</td>\n",
       "      <td>1</td>\n",
       "      <td>Not in universe</td>\n",
       "      <td>2</td>\n",
       "      <td>52.0</td>\n",
       "      <td>95</td>\n",
       "      <td>0</td>\n",
       "    </tr>\n",
       "    <tr>\n",
       "      <th>1</th>\n",
       "      <td>142526</td>\n",
       "      <td>56.0</td>\n",
       "      <td>Not in universe</td>\n",
       "      <td>0</td>\n",
       "      <td>0</td>\n",
       "      <td>High school graduate</td>\n",
       "      <td>NaN</td>\n",
       "      <td>0</td>\n",
       "      <td>NaN</td>\n",
       "      <td>Not in universe</td>\n",
       "      <td>Separated</td>\n",
       "      <td>Not in universe or children</td>\n",
       "      <td>Not in universe</td>\n",
       "      <td>Black</td>\n",
       "      <td>All other</td>\n",
       "      <td>Female</td>\n",
       "      <td>Not in universe</td>\n",
       "      <td>Not in universe</td>\n",
       "      <td>Not in labor force</td>\n",
       "      <td>0</td>\n",
       "      <td>0</td>\n",
       "      <td>0</td>\n",
       "      <td>Nonfiler</td>\n",
       "      <td>Not in universe</td>\n",
       "      <td>Not in universe</td>\n",
       "      <td>Nonfamily householder</td>\n",
       "      <td>Householder</td>\n",
       "      <td>1060.97</td>\n",
       "      <td>?</td>\n",
       "      <td>?</td>\n",
       "      <td>?</td>\n",
       "      <td>Not in universe under 1 year old</td>\n",
       "      <td>?</td>\n",
       "      <td>0</td>\n",
       "      <td>Not in universe</td>\n",
       "      <td>United-States</td>\n",
       "      <td>United-States</td>\n",
       "      <td>United-States</td>\n",
       "      <td>Native- Born in the United States</td>\n",
       "      <td>0</td>\n",
       "      <td>Not in universe</td>\n",
       "      <td>2</td>\n",
       "      <td>0.0</td>\n",
       "      <td>95</td>\n",
       "      <td>0</td>\n",
       "    </tr>\n",
       "    <tr>\n",
       "      <th>2</th>\n",
       "      <td>112987</td>\n",
       "      <td>69.0</td>\n",
       "      <td>Not in universe</td>\n",
       "      <td>0</td>\n",
       "      <td>0</td>\n",
       "      <td>High school graduate</td>\n",
       "      <td>NaN</td>\n",
       "      <td>0</td>\n",
       "      <td>NaN</td>\n",
       "      <td>Not in universe</td>\n",
       "      <td>Married-civilian spouse present</td>\n",
       "      <td>Not in universe or children</td>\n",
       "      <td>Not in universe</td>\n",
       "      <td>White</td>\n",
       "      <td>All other</td>\n",
       "      <td>Male</td>\n",
       "      <td>Not in universe</td>\n",
       "      <td>Not in universe</td>\n",
       "      <td>Not in labor force</td>\n",
       "      <td>0</td>\n",
       "      <td>0</td>\n",
       "      <td>0</td>\n",
       "      <td>Joint both 65+</td>\n",
       "      <td>Not in universe</td>\n",
       "      <td>Not in universe</td>\n",
       "      <td>Householder</td>\n",
       "      <td>Householder</td>\n",
       "      <td>1639.85</td>\n",
       "      <td>?</td>\n",
       "      <td>?</td>\n",
       "      <td>?</td>\n",
       "      <td>Not in universe under 1 year old</td>\n",
       "      <td>?</td>\n",
       "      <td>0</td>\n",
       "      <td>Not in universe</td>\n",
       "      <td>?</td>\n",
       "      <td>?</td>\n",
       "      <td>United-States</td>\n",
       "      <td>Native- Born in the United States</td>\n",
       "      <td>0</td>\n",
       "      <td>Not in universe</td>\n",
       "      <td>2</td>\n",
       "      <td>0.0</td>\n",
       "      <td>95</td>\n",
       "      <td>0</td>\n",
       "    </tr>\n",
       "    <tr>\n",
       "      <th>3</th>\n",
       "      <td>27075</td>\n",
       "      <td>10.0</td>\n",
       "      <td>Not in universe</td>\n",
       "      <td>0</td>\n",
       "      <td>0</td>\n",
       "      <td>Children</td>\n",
       "      <td>NaN</td>\n",
       "      <td>0</td>\n",
       "      <td>NaN</td>\n",
       "      <td>Not in universe</td>\n",
       "      <td>Never married</td>\n",
       "      <td>Not in universe or children</td>\n",
       "      <td>Not in universe</td>\n",
       "      <td>Asian or Pacific Islander</td>\n",
       "      <td>All other</td>\n",
       "      <td>Female</td>\n",
       "      <td>Not in universe</td>\n",
       "      <td>Not in universe</td>\n",
       "      <td>Children or Armed Forces</td>\n",
       "      <td>0</td>\n",
       "      <td>0</td>\n",
       "      <td>0</td>\n",
       "      <td>Nonfiler</td>\n",
       "      <td>Not in universe</td>\n",
       "      <td>Not in universe</td>\n",
       "      <td>Child &lt;18 never marr not in subfamily</td>\n",
       "      <td>Child under 18 never married</td>\n",
       "      <td>625.14</td>\n",
       "      <td>?</td>\n",
       "      <td>?</td>\n",
       "      <td>?</td>\n",
       "      <td>Not in universe under 1 year old</td>\n",
       "      <td>?</td>\n",
       "      <td>0</td>\n",
       "      <td>Both parents present</td>\n",
       "      <td>United-States</td>\n",
       "      <td>United-States</td>\n",
       "      <td>United-States</td>\n",
       "      <td>Native- Born in the United States</td>\n",
       "      <td>0</td>\n",
       "      <td>Not in universe</td>\n",
       "      <td>0</td>\n",
       "      <td>0.0</td>\n",
       "      <td>95</td>\n",
       "      <td>0</td>\n",
       "    </tr>\n",
       "    <tr>\n",
       "      <th>4</th>\n",
       "      <td>96695</td>\n",
       "      <td>34.0</td>\n",
       "      <td>Private</td>\n",
       "      <td>4</td>\n",
       "      <td>34</td>\n",
       "      <td>High school graduate</td>\n",
       "      <td>NaN</td>\n",
       "      <td>0</td>\n",
       "      <td>NaN</td>\n",
       "      <td>Not in universe</td>\n",
       "      <td>Never married</td>\n",
       "      <td>Construction</td>\n",
       "      <td>Precision production craft &amp; repair</td>\n",
       "      <td>White</td>\n",
       "      <td>All other</td>\n",
       "      <td>Male</td>\n",
       "      <td>Not in universe</td>\n",
       "      <td>Not in universe</td>\n",
       "      <td>Full-time schedules</td>\n",
       "      <td>0</td>\n",
       "      <td>0</td>\n",
       "      <td>0</td>\n",
       "      <td>Single</td>\n",
       "      <td>Not in universe</td>\n",
       "      <td>Not in universe</td>\n",
       "      <td>Secondary individual</td>\n",
       "      <td>Nonrelative of householder</td>\n",
       "      <td>5438.96</td>\n",
       "      <td>?</td>\n",
       "      <td>?</td>\n",
       "      <td>?</td>\n",
       "      <td>Not in universe under 1 year old</td>\n",
       "      <td>?</td>\n",
       "      <td>1</td>\n",
       "      <td>Not in universe</td>\n",
       "      <td>United-States</td>\n",
       "      <td>United-States</td>\n",
       "      <td>United-States</td>\n",
       "      <td>Native- Born in the United States</td>\n",
       "      <td>0</td>\n",
       "      <td>Not in universe</td>\n",
       "      <td>2</td>\n",
       "      <td>13.0</td>\n",
       "      <td>95</td>\n",
       "      <td>0</td>\n",
       "    </tr>\n",
       "  </tbody>\n",
       "</table>\n",
       "</div>"
      ],
      "text/plain": [
       "   Unnamed: 0  AAGE           ACLSWKR  ADTIND  ADTOCC                   AHGA  \\\n",
       "0       52591  42.0           Private      29      31   High school graduate   \n",
       "1      142526  56.0   Not in universe       0       0   High school graduate   \n",
       "2      112987  69.0   Not in universe       0       0   High school graduate   \n",
       "3       27075  10.0   Not in universe       0       0               Children   \n",
       "4       96695  34.0           Private       4      34   High school graduate   \n",
       "\n",
       "   AGI  *(pred)  AHRSPAY            AHSCOL                           AMARITL  \\\n",
       "0  NaN        0      NaN   Not in universe   Married-civilian spouse present   \n",
       "1  NaN        0      NaN   Not in universe                         Separated   \n",
       "2  NaN        0      NaN   Not in universe   Married-civilian spouse present   \n",
       "3  NaN        0      NaN   Not in universe                     Never married   \n",
       "4  NaN        0      NaN   Not in universe                     Never married   \n",
       "\n",
       "                         AMJIND                                AMJOCC  \\\n",
       "0                Transportation                         Other service   \n",
       "1   Not in universe or children                       Not in universe   \n",
       "2   Not in universe or children                       Not in universe   \n",
       "3   Not in universe or children                       Not in universe   \n",
       "4                  Construction   Precision production craft & repair   \n",
       "\n",
       "                        ARACE     AREORGN     ASEX            AUNMEM  \\\n",
       "0                       White   All other     Male                No   \n",
       "1                       Black   All other   Female   Not in universe   \n",
       "2                       White   All other     Male   Not in universe   \n",
       "3   Asian or Pacific Islander   All other   Female   Not in universe   \n",
       "4                       White   All other     Male   Not in universe   \n",
       "\n",
       "            AUNTYPE                    AWKSTAT  CAPGAIN  CAPLOSS  DIVVAL  \\\n",
       "0   Not in universe        Full-time schedules        0        0       0   \n",
       "1   Not in universe         Not in labor force        0        0       0   \n",
       "2   Not in universe         Not in labor force        0        0       0   \n",
       "3   Not in universe   Children or Armed Forces        0        0       0   \n",
       "4   Not in universe        Full-time schedules        0        0       0   \n",
       "\n",
       "                 FEDTAX          GRINGREG            GRINST  \\\n",
       "0   Joint both under 65   Not in universe   Not in universe   \n",
       "1              Nonfiler   Not in universe   Not in universe   \n",
       "2        Joint both 65+   Not in universe   Not in universe   \n",
       "3              Nonfiler   Not in universe   Not in universe   \n",
       "4                Single   Not in universe   Not in universe   \n",
       "\n",
       "                                   HHDFMX                         HHDREL  \\\n",
       "0                             Householder                    Householder   \n",
       "1                   Nonfamily householder                    Householder   \n",
       "2                             Householder                    Householder   \n",
       "3   Child <18 never marr not in subfamily   Child under 18 never married   \n",
       "4                    Secondary individual     Nonrelative of householder   \n",
       "\n",
       "   MARSUPWT MIGMTR1 MIGMTR3 MIGMTR4                            MIGSAME MIGSUN  \\\n",
       "0    541.06       ?       ?       ?   Not in universe under 1 year old      ?   \n",
       "1   1060.97       ?       ?       ?   Not in universe under 1 year old      ?   \n",
       "2   1639.85       ?       ?       ?   Not in universe under 1 year old      ?   \n",
       "3    625.14       ?       ?       ?   Not in universe under 1 year old      ?   \n",
       "4   5438.96       ?       ?       ?   Not in universe under 1 year old      ?   \n",
       "\n",
       "   NOEMP                 PARENT          FATHER          MOTHER  \\\n",
       "0      6        Not in universe   United-States   United-States   \n",
       "1      0        Not in universe   United-States   United-States   \n",
       "2      0        Not in universe               ?               ?   \n",
       "3      0   Both parents present   United-States   United-States   \n",
       "4      1        Not in universe   United-States   United-States   \n",
       "\n",
       "             SELF                            PRCITSHP  SEOTR  \\\n",
       "0   United-States   Native- Born in the United States      1   \n",
       "1   United-States   Native- Born in the United States      0   \n",
       "2   United-States   Native- Born in the United States      0   \n",
       "3   United-States   Native- Born in the United States      0   \n",
       "4   United-States   Native- Born in the United States      0   \n",
       "\n",
       "             VETQVA  VETYN  WKSWORK  YEAR  INCOME  \n",
       "0   Not in universe      2     52.0    95       0  \n",
       "1   Not in universe      2      0.0    95       0  \n",
       "2   Not in universe      2      0.0    95       0  \n",
       "3   Not in universe      0      0.0    95       0  \n",
       "4   Not in universe      2     13.0    95       0  "
      ]
     },
     "execution_count": 3,
     "metadata": {},
     "output_type": "execute_result"
    }
   ],
   "source": [
    "census=pd.read_csv(r\"data_census.csv\")\n",
    "census.head(5)"
   ]
  },
  {
   "cell_type": "markdown",
   "metadata": {},
   "source": [
    "We have in total 5000 records and 45 features."
   ]
  },
  {
   "cell_type": "code",
   "execution_count": 4,
   "metadata": {},
   "outputs": [
    {
     "data": {
      "text/plain": [
       "(5000, 45)"
      ]
     },
     "execution_count": 4,
     "metadata": {},
     "output_type": "execute_result"
    }
   ],
   "source": [
    "census.shape"
   ]
  },
  {
   "cell_type": "markdown",
   "metadata": {},
   "source": [
    "# Handling missing values "
   ]
  },
  {
   "cell_type": "code",
   "execution_count": 5,
   "metadata": {
    "scrolled": true
   },
   "outputs": [
    {
     "name": "stdout",
     "output_type": "stream",
     "text": [
      "Percentage missing values across the dataset: 4.4960%\n"
     ]
    }
   ],
   "source": [
    "print(\"Percentage missing values across the dataset: %5.4f\" % (census.isna().mean().mean()*100),\"%\", sep='')"
   ]
  },
  {
   "cell_type": "markdown",
   "metadata": {},
   "source": [
    "Apart from NaN values there are many more missing values as well which are represented by \"?\" in data. Lets see how many columns have that."
   ]
  },
  {
   "cell_type": "code",
   "execution_count": 6,
   "metadata": {},
   "outputs": [
    {
     "name": "stdout",
     "output_type": "stream",
     "text": [
      "['AAGE', 'AGI', 'AHRSPAY', 'MIGMTR1', 'MIGMTR3', 'MIGMTR4', 'MIGSUN', 'FATHER', 'MOTHER', 'SELF', 'WKSWORK']\n"
     ]
    }
   ],
   "source": [
    "lst_na_columns = []\n",
    "for col in census.columns.tolist():\n",
    "    if census[col].isna().any() or ' ?' in [i for i in census[col].unique().tolist()]:\n",
    "        lst_na_columns.append(col)\n",
    "\n",
    "print(lst_na_columns)"
   ]
  },
  {
   "cell_type": "markdown",
   "metadata": {},
   "source": [
    "Lets replace \"?\" in these columns with NaN and see how much null values do we get overall."
   ]
  },
  {
   "cell_type": "code",
   "execution_count": 7,
   "metadata": {},
   "outputs": [],
   "source": [
    "for column in lst_na_columns:\n",
    "    census[column].replace(' ?', np.nan, inplace= True)"
   ]
  },
  {
   "cell_type": "markdown",
   "metadata": {},
   "source": [
    "Lets see how many missing values do we have in total now. 13.59% "
   ]
  },
  {
   "cell_type": "code",
   "execution_count": 8,
   "metadata": {},
   "outputs": [
    {
     "name": "stdout",
     "output_type": "stream",
     "text": [
      "Percentage missing values across the dataset: 13.5956%\n"
     ]
    }
   ],
   "source": [
    "print(\"Percentage missing values across the dataset: %5.4f\" % (census.isna().mean().mean()*100),\"%\", sep='')"
   ]
  },
  {
   "cell_type": "markdown",
   "metadata": {},
   "source": [
    "Lets look into continuous columns columns in dataset"
   ]
  },
  {
   "cell_type": "code",
   "execution_count": 9,
   "metadata": {},
   "outputs": [
    {
     "name": "stdout",
     "output_type": "stream",
     "text": [
      "Unnamed: 0 : [ 52591 142526 112987 ...  89351 148538 131913]\n",
      "AAGE : [42. 56. 69. 10. 34. 58. 27. 38. 25.  5. 28. nan  3.  8. 15. 81. 19. 46.\n",
      " 63. 73. 45. 31. 23. 79. 53. 82.  4. 12.  1. 20. 44. 13. 78.  2. 48. 75.\n",
      " 21. 29. 60. 55. 50. 77. 51. 37. 47.  6. 70. 54. 59. 57. 62. 17.  7. 67.\n",
      " 39. 18. 36. 14. 66.  9. 30. 16. 43. 24. 22. 49. 76. 65. 52. 41.  0. 11.\n",
      " 83. 33. 71. 32. 68. 88. 61. 86. 26. 74. 40. 72. 87. 80. 64. 84. 85. 90.\n",
      " 89.]\n",
      "ADTIND : [29  0  4 33 49 22 43 44 23 15 42 35 41 36 19 47 48  1 25  9  6  2 39 50\n",
      " 13 38 34 46 32 31 45 18  5 37 16  3 40 21 11 12 30  8 27 26 24 20 14  7\n",
      " 28 17 51]\n",
      "ADTOCC : [31  0 34 16  3  4 10 29 12 33  8 23 38 27 26 36 28 19  2 43 41 15 32 24\n",
      " 17 35 42 45 25 30 14 37 44  7 39 21 18 13 11 22 40  5  1  9 20  6 46]\n",
      "AGI : [nan]\n",
      "*(pred) : [   0 1607  900 1130  800  490 2000  825 1780 1910 1800  950  300  689\n",
      "  700  500  600 1370  725 1250  435  702  447  425 2019  850 1700  450\n",
      "  525 1500 1100 1000  955 1228 1050 2700  995  650  580 1630  550  840\n",
      " 1725 2100 1240  843 4000 1380 1300 1200  890  729  575  769 1385  672\n",
      "  200 1400  635 2536  400  875 2375  965  750  520 1361  925  928 1549\n",
      " 2155 1251  829  475  777  961  869 2050  690 1256 1506  918 1625 7700\n",
      " 1677  560  920 1254  440  834 2400  540 1684  653  715 1390 1120 2288\n",
      " 1510 1134  625 1165  954 2500  735  643  941 1600  727  642  515 1900\n",
      " 1201 1885 5250  956  545  770  755 2226 1275 3600 2480 1160 1637  835\n",
      " 1191 1750 1439 1080 2800  730  595  805 1463  782  230]\n",
      "AHRSPAY : [nan]\n",
      "CAPGAIN : [    0 15024  7688  3137  7298  1111 13550  2414  3325  4386  1424  3103\n",
      "  1848  3273 99999 10520  2635  2202  2907  1086  2977  6723  2653   991\n",
      "  1055  2176  2009  2463  2993  4064 10605  1264 27828  2580  1455  2829\n",
      "  8614  6767  2174  7978  2936  2329  4101 25124 20051 10566  6849  4508\n",
      "   594  6097  2885  4650  3818  2050 14084  4865  6418  1090  4931  5178\n",
      "  1831 15020  2105  2228 11678  4934  9386  1173   401  3464]\n",
      "CAPLOSS : [   0 2339 1977 1721 1602 1408 2824 1876 1504 4356  419 1887 1848 2179\n",
      " 1617 1740 1672 1902 1258 1980 1974 2149 1628 1762  625 1564 1669 2603\n",
      " 1755 2377 2205 3175 2258 2352 2129 4608 1870 2559 2057 1340 1590 2457\n",
      " 2001]\n",
      "DIVVAL : [    0     5    10  3000   193   100  1500   200     2   125   350    25\n",
      "   272    40    36    50    80   145     6  1300  5531   900  1000   325\n",
      "  2000    44  1437  1573   873   250  4000    30  2400    28  1600  1800\n",
      "   400   915   406     3   417  1250    47   300   609  8000   700   500\n",
      "    93   118  4730  1516 17500  3851 14000    12  7852   493   119  5000\n",
      "   154    15  3515    16  8500   187  7150     1    20 35000   714   150\n",
      "   750   133  1750  1100 12500   175  3700  2500   206   124   820  7500\n",
      "   576   302    75   225  8326   303   273  1726   540    17  1242  6764\n",
      "    18     8  7000    60  2760    21  5723  2709  2145   800  7452   410\n",
      "   550   795   450  1570  2100 10000   704  4100   600   434  5168  2052\n",
      "  1050   120  1200    88     9     4   431  2035    19  7600 12000   177\n",
      "  2863  4348  5149   110   578 19000     7    99   330 51000  6000    23\n",
      "   858   198  1550   673   573    64   256   520  1400   140  2200  5041\n",
      "  1248   752    11    61   107    82   157    65    87  6603    13   809\n",
      "   115  1141   135  5294 14473   404  8100  1051 25000    48   360 60000\n",
      "   531   680  1857   575  6500 14400   138   105    81  4650   441   375\n",
      "  1222   681  2150   287 28000   658   453   780  1253    26   230 12508]\n",
      "MARSUPWT : [ 541.06 1060.97 1639.85 ... 1083.6  1780.63 3193.88]\n",
      "MIGMTR1 : [nan]\n",
      "MIGMTR3 : [nan]\n",
      "MIGMTR4 : [nan]\n",
      "MIGSUN : [nan]\n",
      "NOEMP : [6 0 1 2 3 5 4]\n",
      "SEOTR : [1 0 2]\n",
      "VETYN : [2 0 1]\n",
      "WKSWORK : [52.  0. 13. 45. 50. 51. 14. 25. 38. 12. 40.  8. 48.  2. 30. 37. 17. 36.\n",
      " 20. 43. 49. 47. 28. 26.  6.  7. 44. 24. 46.  4.  3.  5. 42. 11. 16. 35.\n",
      " 34. 32. 39.  1. 15. nan 27.  9. 10. 21. 41. 31. 33. 18.]\n",
      "YEAR : [95]\n",
      "INCOME : [0 1]\n"
     ]
    }
   ],
   "source": [
    "for column in census.columns:\n",
    "    if census[column].dtype != object:\n",
    "        print(column,\":\",census[column].unique())"
   ]
  },
  {
   "cell_type": "markdown",
   "metadata": {},
   "source": [
    "We see that 20 columns are of continuous type. We'll drop all those columns which have all nans or single value."
   ]
  },
  {
   "cell_type": "code",
   "execution_count": 10,
   "metadata": {},
   "outputs": [],
   "source": [
    "lst_columns_to_drop = []\n",
    "for column in census.columns.tolist():\n",
    "    if census[column].dtype != object and census[column].notna().any() == False:\n",
    "        lst_columns_to_drop.append(column)"
   ]
  },
  {
   "cell_type": "markdown",
   "metadata": {},
   "source": [
    "These columns are completely null. Lets drop them"
   ]
  },
  {
   "cell_type": "code",
   "execution_count": 11,
   "metadata": {},
   "outputs": [
    {
     "data": {
      "text/plain": [
       "['AGI', 'AHRSPAY', 'MIGMTR1', 'MIGMTR3', 'MIGMTR4', 'MIGSUN']"
      ]
     },
     "execution_count": 11,
     "metadata": {},
     "output_type": "execute_result"
    }
   ],
   "source": [
    "lst_columns_to_drop"
   ]
  },
  {
   "cell_type": "code",
   "execution_count": 12,
   "metadata": {},
   "outputs": [],
   "source": [
    "census.drop(columns=lst_columns_to_drop, inplace = True)"
   ]
  },
  {
   "cell_type": "markdown",
   "metadata": {},
   "source": [
    "Lets drop YEAR as it has only one value and \"Unnamed: 0\", \"*(pred)\" as they are just ids and hence will not play any role in machine learning modeling"
   ]
  },
  {
   "cell_type": "code",
   "execution_count": 13,
   "metadata": {},
   "outputs": [],
   "source": [
    "census.drop(columns = [\"YEAR\", \"Unnamed: 0\", \"*(pred)\"], inplace = True)"
   ]
  },
  {
   "cell_type": "markdown",
   "metadata": {},
   "source": [
    "# Cleaning continuous features"
   ]
  },
  {
   "cell_type": "markdown",
   "metadata": {},
   "source": [
    "Lets replace missing values in continuous columns with their means."
   ]
  },
  {
   "cell_type": "code",
   "execution_count": 14,
   "metadata": {
    "scrolled": true
   },
   "outputs": [
    {
     "name": "stdout",
     "output_type": "stream",
     "text": [
      "AAGE : [42. 56. 69. 10. 34. 58. 27. 38. 25.  5. 28. nan  3.  8. 15. 81. 19. 46.\n",
      " 63. 73. 45. 31. 23. 79. 53. 82.  4. 12.  1. 20. 44. 13. 78.  2. 48. 75.\n",
      " 21. 29. 60. 55. 50. 77. 51. 37. 47.  6. 70. 54. 59. 57. 62. 17.  7. 67.\n",
      " 39. 18. 36. 14. 66.  9. 30. 16. 43. 24. 22. 49. 76. 65. 52. 41.  0. 11.\n",
      " 83. 33. 71. 32. 68. 88. 61. 86. 26. 74. 40. 72. 87. 80. 64. 84. 85. 90.\n",
      " 89.]\n",
      "FATHER : [' United-States' nan ' South Korea' ' Mexico' ' Germany' ' Italy'\n",
      " ' Taiwan' ' Portugal' ' China' ' England' ' Scotland' ' Puerto-Rico'\n",
      " ' Philippines' ' Columbia' ' Hong Kong' ' Canada' ' Guatemala' ' Haiti'\n",
      " ' El-Salvador' ' Dominican-Republic' ' Outlying-U S (Guam USVI etc)'\n",
      " ' Hungary' ' Jamaica' ' Cuba' ' Nicaragua' ' Iran' ' Ecuador' ' Poland'\n",
      " ' France' ' Peru' ' Cambodia' ' India' ' Ireland' ' Trinadad&Tobago'\n",
      " ' Greece' ' Vietnam' ' Thailand' ' Japan' ' Laos' ' Honduras'\n",
      " ' Holand-Netherlands' ' Yugoslavia']\n",
      "MOTHER : [' United-States' nan ' South Korea' ' Mexico' ' England' ' Taiwan'\n",
      " ' Portugal' ' China' ' Germany' ' Canada' ' Puerto-Rico' ' Philippines'\n",
      " ' Columbia' ' Hong Kong' ' El-Salvador' ' Guatemala' ' Haiti' ' Ireland'\n",
      " ' Dominican-Republic' ' Outlying-U S (Guam USVI etc)' ' India' ' Jamaica'\n",
      " ' Cuba' ' Italy' ' Nicaragua' ' Scotland' ' Holand-Netherlands' ' Iran'\n",
      " ' Ecuador' ' Poland' ' Peru' ' Cambodia' ' Trinadad&Tobago' ' France'\n",
      " ' Greece' ' Thailand' ' Vietnam' ' Japan' ' Laos' ' Honduras' ' Hungary'\n",
      " ' Yugoslavia']\n",
      "SELF : [' United-States' ' South Korea' nan ' Canada' ' Taiwan' ' Portugal'\n",
      " ' China' ' Puerto-Rico' ' Columbia' ' Mexico' ' Haiti' ' El-Salvador'\n",
      " ' Dominican-Republic' ' Outlying-U S (Guam USVI etc)' ' Germany'\n",
      " ' Jamaica' ' Vietnam' ' Cuba' ' Japan' ' Nicaragua' ' England' ' Italy'\n",
      " ' Iran' ' Ecuador' ' Poland' ' Peru' ' Philippines' ' Cambodia' ' India'\n",
      " ' Trinadad&Tobago' ' France' ' Greece' ' Thailand' ' Guatemala'\n",
      " ' Holand-Netherlands' ' Hong Kong' ' Honduras' ' Yugoslavia' ' Scotland'\n",
      " ' Hungary' ' Laos' ' Ireland']\n",
      "WKSWORK : [52.  0. 13. 45. 50. 51. 14. 25. 38. 12. 40.  8. 48.  2. 30. 37. 17. 36.\n",
      " 20. 43. 49. 47. 28. 26.  6.  7. 44. 24. 46.  4.  3.  5. 42. 11. 16. 35.\n",
      " 34. 32. 39.  1. 15. nan 27.  9. 10. 21. 41. 31. 33. 18.]\n"
     ]
    }
   ],
   "source": [
    "for column in census.columns.tolist():\n",
    "    if census[column].isna().any() == True:\n",
    "        print(column,\":\",census[column].unique())"
   ]
  },
  {
   "cell_type": "markdown",
   "metadata": {},
   "source": [
    "We have two features viz. 'AAGE', 'WKSWORK' which have NaN values. Lets impute them with their means."
   ]
  },
  {
   "cell_type": "code",
   "execution_count": 15,
   "metadata": {},
   "outputs": [],
   "source": [
    "census[['AAGE', 'WKSWORK']] = census[['AAGE', 'WKSWORK']].replace(np.nan, census[['AAGE', 'WKSWORK']].mean())"
   ]
  },
  {
   "cell_type": "markdown",
   "metadata": {},
   "source": [
    "We now have all continuous features cleaned"
   ]
  },
  {
   "cell_type": "code",
   "execution_count": 16,
   "metadata": {
    "scrolled": true
   },
   "outputs": [
    {
     "data": {
      "text/plain": [
       "(5000, 36)"
      ]
     },
     "execution_count": 16,
     "metadata": {},
     "output_type": "execute_result"
    }
   ],
   "source": [
    "census.shape"
   ]
  },
  {
   "cell_type": "markdown",
   "metadata": {},
   "source": [
    "# Cleaning categorical features"
   ]
  },
  {
   "cell_type": "markdown",
   "metadata": {},
   "source": [
    "Lets look into categorical features of the dataset and do the feature engineering as required"
   ]
  },
  {
   "cell_type": "code",
   "execution_count": 17,
   "metadata": {},
   "outputs": [
    {
     "name": "stdout",
     "output_type": "stream",
     "text": [
      "ACLSWKR : [' Private' ' Not in universe' ' Self-employed-incorporated'\n",
      " ' Federal government' ' Local government'\n",
      " ' Self-employed-not incorporated' ' State government' ' Never worked'\n",
      " ' Without pay']\n",
      "AHGA : [' High school graduate' ' Children'\n",
      " ' Masters degree(MA MS MEng MEd MSW MBA)' ' Some college but no degree'\n",
      " ' Associates degree-academic program' ' Bachelors degree(BA AB BS)'\n",
      " ' 7th and 8th grade' ' 11th grade' ' 10th grade'\n",
      " ' Associates degree-occup /vocational' ' 1st 2nd 3rd or 4th grade'\n",
      " ' 9th grade' ' 5th or 6th grade'\n",
      " ' Prof school degree (MD DDS DVM LLB JD)' ' 12th grade no diploma'\n",
      " ' Doctorate degree(PhD EdD)' ' Less than 1st grade']\n",
      "AHSCOL : [' Not in universe' ' College or university' ' High school']\n",
      "AMARITL : [' Married-civilian spouse present' ' Separated' ' Never married'\n",
      " ' Divorced' ' Widowed' ' Married-spouse absent'\n",
      " ' Married-A F spouse present']\n",
      "AMJIND : [' Transportation' ' Not in universe or children' ' Construction'\n",
      " ' Retail trade' ' Public administration'\n",
      " ' Manufacturing-nondurable goods' ' Education' ' Social services'\n",
      " ' Manufacturing-durable goods' ' Medical except hospital'\n",
      " ' Finance insurance and real estate' ' Hospital services'\n",
      " ' Private household services' ' Agriculture'\n",
      " ' Personal services except private HH' ' Business and repair services'\n",
      " ' Forestry and fisheries' ' Wholesale trade'\n",
      " ' Utilities and sanitary services' ' Other professional services'\n",
      " ' Mining' ' Entertainment' ' Communications' ' Armed Forces']\n",
      "AMJOCC : [' Other service' ' Not in universe'\n",
      " ' Precision production craft & repair' ' Sales'\n",
      " ' Executive admin and managerial' ' Professional specialty'\n",
      " ' Adm support including clerical' ' Transportation and material moving'\n",
      " ' Private household services' ' Machine operators assmblrs & inspctrs'\n",
      " ' Protective services' ' Farming forestry and fishing'\n",
      " ' Handlers equip cleaners etc ' ' Technicians and related support'\n",
      " ' Armed Forces']\n",
      "ARACE : [' White' ' Black' ' Asian or Pacific Islander' ' Other'\n",
      " ' Amer Indian Aleut or Eskimo']\n",
      "AREORGN : [' All other' ' Mexican-American' ' Mexican (Mexicano)'\n",
      " ' Central or South American' ' NA' ' Puerto Rican' ' Other Spanish'\n",
      " ' Chicano' ' Do not know' ' Cuban']\n",
      "ASEX : [' Male' ' Female']\n",
      "AUNMEM : [' No' ' Not in universe' ' Yes']\n",
      "AUNTYPE : [' Not in universe' ' Job loser - on layoff' ' Other job loser'\n",
      " ' Re-entrant' ' New entrant' ' Job leaver']\n",
      "AWKSTAT : [' Full-time schedules' ' Not in labor force' ' Children or Armed Forces'\n",
      " ' PT for non-econ reasons usually FT' ' Unemployed full-time'\n",
      " ' Unemployed part- time' ' PT for econ reasons usually PT'\n",
      " ' PT for econ reasons usually FT']\n",
      "FEDTAX : [' Joint both under 65' ' Nonfiler' ' Joint both 65+' ' Single'\n",
      " ' Head of household' ' Joint one under 65 & one 65+']\n",
      "GRINGREG : [' Not in universe']\n",
      "GRINST : [' Not in universe']\n",
      "HHDFMX : [' Householder' ' Nonfamily householder'\n",
      " ' Child <18 never marr not in subfamily' ' Secondary individual'\n",
      " ' Spouse of householder' ' Other Rel <18 never marr not in subfamily'\n",
      " ' Child 18+ never marr Not in a subfamily'\n",
      " ' Other Rel 18+ ever marr not in subfamily'\n",
      " ' Child under 18 of RP of unrel subfamily'\n",
      " ' Other Rel 18+ never marr not in subfamily'\n",
      " ' Grandchild <18 never marr child of subfamily RP'\n",
      " ' Other Rel <18 never marr child of subfamily RP'\n",
      " ' Child 18+ never marr RP of subfamily'\n",
      " ' Child 18+ ever marr Not in a subfamily'\n",
      " ' Child 18+ ever marr RP of subfamily'\n",
      " ' Child 18+ spouse of subfamily RP'\n",
      " ' Grandchild <18 never marr not in subfamily'\n",
      " ' Grandchild 18+ never marr not in subfamily'\n",
      " ' Other Rel 18+ ever marr RP of subfamily'\n",
      " ' Other Rel 18+ spouse of subfamily RP'\n",
      " ' Spouse of RP of unrelated subfamily'\n",
      " ' Other Rel 18+ never marr RP of subfamily' ' RP of unrelated subfamily'\n",
      " ' Child <18 ever marr not in subfamily'\n",
      " ' Child <18 never marr RP of subfamily'\n",
      " ' Other Rel <18 spouse of subfamily RP' ' In group quarters']\n",
      "HHDREL : [' Householder' ' Child under 18 never married'\n",
      " ' Nonrelative of householder' ' Spouse of householder'\n",
      " ' Other relative of householder' ' Child 18 or older'\n",
      " ' Child under 18 ever married']\n",
      "MIGSAME : [' Not in universe under 1 year old']\n",
      "PARENT : [' Not in universe' ' Both parents present' ' Neither parent present'\n",
      " ' Mother only present' ' Father only present']\n",
      "FATHER : [' United-States' nan ' South Korea' ' Mexico' ' Germany' ' Italy'\n",
      " ' Taiwan' ' Portugal' ' China' ' England' ' Scotland' ' Puerto-Rico'\n",
      " ' Philippines' ' Columbia' ' Hong Kong' ' Canada' ' Guatemala' ' Haiti'\n",
      " ' El-Salvador' ' Dominican-Republic' ' Outlying-U S (Guam USVI etc)'\n",
      " ' Hungary' ' Jamaica' ' Cuba' ' Nicaragua' ' Iran' ' Ecuador' ' Poland'\n",
      " ' France' ' Peru' ' Cambodia' ' India' ' Ireland' ' Trinadad&Tobago'\n",
      " ' Greece' ' Vietnam' ' Thailand' ' Japan' ' Laos' ' Honduras'\n",
      " ' Holand-Netherlands' ' Yugoslavia']\n",
      "MOTHER : [' United-States' nan ' South Korea' ' Mexico' ' England' ' Taiwan'\n",
      " ' Portugal' ' China' ' Germany' ' Canada' ' Puerto-Rico' ' Philippines'\n",
      " ' Columbia' ' Hong Kong' ' El-Salvador' ' Guatemala' ' Haiti' ' Ireland'\n",
      " ' Dominican-Republic' ' Outlying-U S (Guam USVI etc)' ' India' ' Jamaica'\n",
      " ' Cuba' ' Italy' ' Nicaragua' ' Scotland' ' Holand-Netherlands' ' Iran'\n",
      " ' Ecuador' ' Poland' ' Peru' ' Cambodia' ' Trinadad&Tobago' ' France'\n",
      " ' Greece' ' Thailand' ' Vietnam' ' Japan' ' Laos' ' Honduras' ' Hungary'\n",
      " ' Yugoslavia']\n",
      "SELF : [' United-States' ' South Korea' nan ' Canada' ' Taiwan' ' Portugal'\n",
      " ' China' ' Puerto-Rico' ' Columbia' ' Mexico' ' Haiti' ' El-Salvador'\n",
      " ' Dominican-Republic' ' Outlying-U S (Guam USVI etc)' ' Germany'\n",
      " ' Jamaica' ' Vietnam' ' Cuba' ' Japan' ' Nicaragua' ' England' ' Italy'\n",
      " ' Iran' ' Ecuador' ' Poland' ' Peru' ' Philippines' ' Cambodia' ' India'\n",
      " ' Trinadad&Tobago' ' France' ' Greece' ' Thailand' ' Guatemala'\n",
      " ' Holand-Netherlands' ' Hong Kong' ' Honduras' ' Yugoslavia' ' Scotland'\n",
      " ' Hungary' ' Laos' ' Ireland']\n",
      "PRCITSHP : [' Native- Born in the United States'\n",
      " ' Foreign born- U S citizen by naturalization'\n",
      " ' Foreign born- Not a citizen of U S '\n",
      " ' Native- Born abroad of American Parent(s)'\n",
      " ' Native- Born in Puerto Rico or U S Outlying']\n",
      "VETQVA : [' Not in universe' ' No' ' Yes']\n"
     ]
    }
   ],
   "source": [
    "for column in census.columns.tolist():\n",
    "    if census[column].dtype == object:\n",
    "        print(column,\":\",census[column].unique())"
   ]
  },
  {
   "cell_type": "markdown",
   "metadata": {},
   "source": [
    "In total we have 24 categorical columns. Lets see how many of them have NaN values - Only 3"
   ]
  },
  {
   "cell_type": "code",
   "execution_count": 18,
   "metadata": {
    "scrolled": true
   },
   "outputs": [
    {
     "name": "stdout",
     "output_type": "stream",
     "text": [
      "FATHER : [' United-States' nan ' South Korea' ' Mexico' ' Germany' ' Italy'\n",
      " ' Taiwan' ' Portugal' ' China' ' England' ' Scotland' ' Puerto-Rico'\n",
      " ' Philippines' ' Columbia' ' Hong Kong' ' Canada' ' Guatemala' ' Haiti'\n",
      " ' El-Salvador' ' Dominican-Republic' ' Outlying-U S (Guam USVI etc)'\n",
      " ' Hungary' ' Jamaica' ' Cuba' ' Nicaragua' ' Iran' ' Ecuador' ' Poland'\n",
      " ' France' ' Peru' ' Cambodia' ' India' ' Ireland' ' Trinadad&Tobago'\n",
      " ' Greece' ' Vietnam' ' Thailand' ' Japan' ' Laos' ' Honduras'\n",
      " ' Holand-Netherlands' ' Yugoslavia']\n",
      "MOTHER : [' United-States' nan ' South Korea' ' Mexico' ' England' ' Taiwan'\n",
      " ' Portugal' ' China' ' Germany' ' Canada' ' Puerto-Rico' ' Philippines'\n",
      " ' Columbia' ' Hong Kong' ' El-Salvador' ' Guatemala' ' Haiti' ' Ireland'\n",
      " ' Dominican-Republic' ' Outlying-U S (Guam USVI etc)' ' India' ' Jamaica'\n",
      " ' Cuba' ' Italy' ' Nicaragua' ' Scotland' ' Holand-Netherlands' ' Iran'\n",
      " ' Ecuador' ' Poland' ' Peru' ' Cambodia' ' Trinadad&Tobago' ' France'\n",
      " ' Greece' ' Thailand' ' Vietnam' ' Japan' ' Laos' ' Honduras' ' Hungary'\n",
      " ' Yugoslavia']\n",
      "SELF : [' United-States' ' South Korea' nan ' Canada' ' Taiwan' ' Portugal'\n",
      " ' China' ' Puerto-Rico' ' Columbia' ' Mexico' ' Haiti' ' El-Salvador'\n",
      " ' Dominican-Republic' ' Outlying-U S (Guam USVI etc)' ' Germany'\n",
      " ' Jamaica' ' Vietnam' ' Cuba' ' Japan' ' Nicaragua' ' England' ' Italy'\n",
      " ' Iran' ' Ecuador' ' Poland' ' Peru' ' Philippines' ' Cambodia' ' India'\n",
      " ' Trinadad&Tobago' ' France' ' Greece' ' Thailand' ' Guatemala'\n",
      " ' Holand-Netherlands' ' Hong Kong' ' Honduras' ' Yugoslavia' ' Scotland'\n",
      " ' Hungary' ' Laos' ' Ireland']\n"
     ]
    }
   ],
   "source": [
    "for column in census.columns.tolist():\n",
    "    if census[column].dtype == object and census[column].isna().any() == True:\n",
    "        print(column,\":\",census[column].unique())"
   ]
  },
  {
   "cell_type": "markdown",
   "metadata": {},
   "source": [
    "Lets impute NaNs in these columns with modes values of respective columns"
   ]
  },
  {
   "cell_type": "code",
   "execution_count": 19,
   "metadata": {},
   "outputs": [],
   "source": [
    "census[['FATHER', 'MOTHER', 'SELF']] = census[['FATHER', 'MOTHER', 'SELF']].replace(np.nan, census[['FATHER', 'MOTHER', 'SELF']].mode())"
   ]
  },
  {
   "cell_type": "markdown",
   "metadata": {},
   "source": [
    "Columns GRINGREG, GRINST, MIGSAME have only single value. We can omit them from our model"
   ]
  },
  {
   "cell_type": "code",
   "execution_count": 20,
   "metadata": {},
   "outputs": [],
   "source": [
    "census.drop(columns = [\"GRINGREG\", \"GRINST\", \"MIGSAME\"], inplace = True)"
   ]
  },
  {
   "cell_type": "code",
   "execution_count": 21,
   "metadata": {},
   "outputs": [
    {
     "name": "stdout",
     "output_type": "stream",
     "text": [
      "Total NA values after cleaning: 0\n"
     ]
    }
   ],
   "source": [
    "print(\"Total NA values after cleaning:\",census.isna().sum().sum())"
   ]
  },
  {
   "cell_type": "markdown",
   "metadata": {},
   "source": [
    "Now only last step remaining before running the models which is doing one hot encoding of categorical/nominal columns"
   ]
  },
  {
   "cell_type": "code",
   "execution_count": 22,
   "metadata": {},
   "outputs": [],
   "source": [
    "census = pd.get_dummies(census, drop_first=True)"
   ]
  },
  {
   "cell_type": "code",
   "execution_count": 23,
   "metadata": {},
   "outputs": [
    {
     "data": {
      "text/plain": [
       "(5000, 276)"
      ]
     },
     "execution_count": 23,
     "metadata": {},
     "output_type": "execute_result"
    }
   ],
   "source": [
    "census.shape"
   ]
  },
  {
   "cell_type": "markdown",
   "metadata": {},
   "source": [
    "# Data Analysis and Data Visualization"
   ]
  },
  {
   "cell_type": "code",
   "execution_count": 24,
   "metadata": {},
   "outputs": [],
   "source": [
    "import matplotlib.pyplot as plt\n",
    "plt.rcParams['figure.figsize']=(15,10)"
   ]
  },
  {
   "cell_type": "code",
   "execution_count": 25,
   "metadata": {},
   "outputs": [],
   "source": [
    "new_df=pd.read_csv(r\"data_census.csv\")"
   ]
  },
  {
   "cell_type": "code",
   "execution_count": 26,
   "metadata": {},
   "outputs": [
    {
     "data": {
      "text/html": [
       "<div>\n",
       "<style scoped>\n",
       "    .dataframe tbody tr th:only-of-type {\n",
       "        vertical-align: middle;\n",
       "    }\n",
       "\n",
       "    .dataframe tbody tr th {\n",
       "        vertical-align: top;\n",
       "    }\n",
       "\n",
       "    .dataframe thead th {\n",
       "        text-align: right;\n",
       "    }\n",
       "</style>\n",
       "<table border=\"1\" class=\"dataframe\">\n",
       "  <thead>\n",
       "    <tr style=\"text-align: right;\">\n",
       "      <th></th>\n",
       "      <th>Unnamed: 0</th>\n",
       "      <th>AAGE</th>\n",
       "      <th>ADTIND</th>\n",
       "      <th>ADTOCC</th>\n",
       "      <th>AGI</th>\n",
       "      <th>*(pred)</th>\n",
       "      <th>AHRSPAY</th>\n",
       "      <th>CAPGAIN</th>\n",
       "      <th>CAPLOSS</th>\n",
       "      <th>DIVVAL</th>\n",
       "      <th>MARSUPWT</th>\n",
       "      <th>NOEMP</th>\n",
       "      <th>SEOTR</th>\n",
       "      <th>VETYN</th>\n",
       "      <th>WKSWORK</th>\n",
       "      <th>YEAR</th>\n",
       "      <th>INCOME</th>\n",
       "    </tr>\n",
       "  </thead>\n",
       "  <tbody>\n",
       "    <tr>\n",
       "      <th>Unnamed: 0</th>\n",
       "      <td>1.000000</td>\n",
       "      <td>-0.004501</td>\n",
       "      <td>-0.002645</td>\n",
       "      <td>0.005932</td>\n",
       "      <td>NaN</td>\n",
       "      <td>0.008704</td>\n",
       "      <td>NaN</td>\n",
       "      <td>-0.009120</td>\n",
       "      <td>-0.010385</td>\n",
       "      <td>-0.011837</td>\n",
       "      <td>-0.003545</td>\n",
       "      <td>0.003339</td>\n",
       "      <td>-0.020347</td>\n",
       "      <td>0.008984</td>\n",
       "      <td>0.000118</td>\n",
       "      <td>NaN</td>\n",
       "      <td>-0.003006</td>\n",
       "    </tr>\n",
       "    <tr>\n",
       "      <th>AAGE</th>\n",
       "      <td>-0.004501</td>\n",
       "      <td>1.000000</td>\n",
       "      <td>0.150357</td>\n",
       "      <td>0.119405</td>\n",
       "      <td>NaN</td>\n",
       "      <td>0.041732</td>\n",
       "      <td>NaN</td>\n",
       "      <td>0.058872</td>\n",
       "      <td>0.075143</td>\n",
       "      <td>0.125177</td>\n",
       "      <td>-0.005295</td>\n",
       "      <td>0.142980</td>\n",
       "      <td>0.001303</td>\n",
       "      <td>0.680771</td>\n",
       "      <td>0.204007</td>\n",
       "      <td>NaN</td>\n",
       "      <td>0.136040</td>\n",
       "    </tr>\n",
       "    <tr>\n",
       "      <th>ADTIND</th>\n",
       "      <td>-0.002645</td>\n",
       "      <td>0.150357</td>\n",
       "      <td>1.000000</td>\n",
       "      <td>0.557044</td>\n",
       "      <td>NaN</td>\n",
       "      <td>0.166021</td>\n",
       "      <td>NaN</td>\n",
       "      <td>0.067945</td>\n",
       "      <td>0.046956</td>\n",
       "      <td>0.006459</td>\n",
       "      <td>0.025491</td>\n",
       "      <td>0.646588</td>\n",
       "      <td>0.268218</td>\n",
       "      <td>0.466038</td>\n",
       "      <td>0.745300</td>\n",
       "      <td>NaN</td>\n",
       "      <td>0.194367</td>\n",
       "    </tr>\n",
       "    <tr>\n",
       "      <th>ADTOCC</th>\n",
       "      <td>0.005932</td>\n",
       "      <td>0.119405</td>\n",
       "      <td>0.557044</td>\n",
       "      <td>1.000000</td>\n",
       "      <td>NaN</td>\n",
       "      <td>0.195381</td>\n",
       "      <td>NaN</td>\n",
       "      <td>0.000320</td>\n",
       "      <td>0.056064</td>\n",
       "      <td>-0.039281</td>\n",
       "      <td>0.009746</td>\n",
       "      <td>0.500644</td>\n",
       "      <td>0.231464</td>\n",
       "      <td>0.434918</td>\n",
       "      <td>0.672820</td>\n",
       "      <td>NaN</td>\n",
       "      <td>0.027484</td>\n",
       "    </tr>\n",
       "    <tr>\n",
       "      <th>AGI</th>\n",
       "      <td>NaN</td>\n",
       "      <td>NaN</td>\n",
       "      <td>NaN</td>\n",
       "      <td>NaN</td>\n",
       "      <td>NaN</td>\n",
       "      <td>NaN</td>\n",
       "      <td>NaN</td>\n",
       "      <td>NaN</td>\n",
       "      <td>NaN</td>\n",
       "      <td>NaN</td>\n",
       "      <td>NaN</td>\n",
       "      <td>NaN</td>\n",
       "      <td>NaN</td>\n",
       "      <td>NaN</td>\n",
       "      <td>NaN</td>\n",
       "      <td>NaN</td>\n",
       "      <td>NaN</td>\n",
       "    </tr>\n",
       "    <tr>\n",
       "      <th>*(pred)</th>\n",
       "      <td>0.008704</td>\n",
       "      <td>0.041732</td>\n",
       "      <td>0.166021</td>\n",
       "      <td>0.195381</td>\n",
       "      <td>NaN</td>\n",
       "      <td>1.000000</td>\n",
       "      <td>NaN</td>\n",
       "      <td>-0.006214</td>\n",
       "      <td>0.000525</td>\n",
       "      <td>-0.006182</td>\n",
       "      <td>0.012522</td>\n",
       "      <td>0.199078</td>\n",
       "      <td>0.025012</td>\n",
       "      <td>0.112770</td>\n",
       "      <td>0.202096</td>\n",
       "      <td>NaN</td>\n",
       "      <td>0.041622</td>\n",
       "    </tr>\n",
       "    <tr>\n",
       "      <th>AHRSPAY</th>\n",
       "      <td>NaN</td>\n",
       "      <td>NaN</td>\n",
       "      <td>NaN</td>\n",
       "      <td>NaN</td>\n",
       "      <td>NaN</td>\n",
       "      <td>NaN</td>\n",
       "      <td>NaN</td>\n",
       "      <td>NaN</td>\n",
       "      <td>NaN</td>\n",
       "      <td>NaN</td>\n",
       "      <td>NaN</td>\n",
       "      <td>NaN</td>\n",
       "      <td>NaN</td>\n",
       "      <td>NaN</td>\n",
       "      <td>NaN</td>\n",
       "      <td>NaN</td>\n",
       "      <td>NaN</td>\n",
       "    </tr>\n",
       "    <tr>\n",
       "      <th>CAPGAIN</th>\n",
       "      <td>-0.009120</td>\n",
       "      <td>0.058872</td>\n",
       "      <td>0.067945</td>\n",
       "      <td>0.000320</td>\n",
       "      <td>NaN</td>\n",
       "      <td>-0.006214</td>\n",
       "      <td>NaN</td>\n",
       "      <td>1.000000</td>\n",
       "      <td>-0.011723</td>\n",
       "      <td>0.142435</td>\n",
       "      <td>0.017245</td>\n",
       "      <td>0.048035</td>\n",
       "      <td>0.047193</td>\n",
       "      <td>0.054073</td>\n",
       "      <td>0.084966</td>\n",
       "      <td>NaN</td>\n",
       "      <td>0.260295</td>\n",
       "    </tr>\n",
       "    <tr>\n",
       "      <th>CAPLOSS</th>\n",
       "      <td>-0.010385</td>\n",
       "      <td>0.075143</td>\n",
       "      <td>0.046956</td>\n",
       "      <td>0.056064</td>\n",
       "      <td>NaN</td>\n",
       "      <td>0.000525</td>\n",
       "      <td>NaN</td>\n",
       "      <td>-0.011723</td>\n",
       "      <td>1.000000</td>\n",
       "      <td>0.018598</td>\n",
       "      <td>0.017568</td>\n",
       "      <td>0.051311</td>\n",
       "      <td>0.015258</td>\n",
       "      <td>0.067410</td>\n",
       "      <td>0.071813</td>\n",
       "      <td>NaN</td>\n",
       "      <td>0.113867</td>\n",
       "    </tr>\n",
       "    <tr>\n",
       "      <th>DIVVAL</th>\n",
       "      <td>-0.011837</td>\n",
       "      <td>0.125177</td>\n",
       "      <td>0.006459</td>\n",
       "      <td>-0.039281</td>\n",
       "      <td>NaN</td>\n",
       "      <td>-0.006182</td>\n",
       "      <td>NaN</td>\n",
       "      <td>0.142435</td>\n",
       "      <td>0.018598</td>\n",
       "      <td>1.000000</td>\n",
       "      <td>-0.008370</td>\n",
       "      <td>0.003092</td>\n",
       "      <td>-0.007248</td>\n",
       "      <td>0.063386</td>\n",
       "      <td>-0.003408</td>\n",
       "      <td>NaN</td>\n",
       "      <td>0.190031</td>\n",
       "    </tr>\n",
       "    <tr>\n",
       "      <th>MARSUPWT</th>\n",
       "      <td>-0.003545</td>\n",
       "      <td>-0.005295</td>\n",
       "      <td>0.025491</td>\n",
       "      <td>0.009746</td>\n",
       "      <td>NaN</td>\n",
       "      <td>0.012522</td>\n",
       "      <td>NaN</td>\n",
       "      <td>0.017245</td>\n",
       "      <td>0.017568</td>\n",
       "      <td>-0.008370</td>\n",
       "      <td>1.000000</td>\n",
       "      <td>0.038324</td>\n",
       "      <td>0.005992</td>\n",
       "      <td>0.030024</td>\n",
       "      <td>0.023757</td>\n",
       "      <td>NaN</td>\n",
       "      <td>0.014928</td>\n",
       "    </tr>\n",
       "    <tr>\n",
       "      <th>NOEMP</th>\n",
       "      <td>0.003339</td>\n",
       "      <td>0.142980</td>\n",
       "      <td>0.646588</td>\n",
       "      <td>0.500644</td>\n",
       "      <td>NaN</td>\n",
       "      <td>0.199078</td>\n",
       "      <td>NaN</td>\n",
       "      <td>0.048035</td>\n",
       "      <td>0.051311</td>\n",
       "      <td>0.003092</td>\n",
       "      <td>0.038324</td>\n",
       "      <td>1.000000</td>\n",
       "      <td>0.244549</td>\n",
       "      <td>0.456709</td>\n",
       "      <td>0.750910</td>\n",
       "      <td>NaN</td>\n",
       "      <td>0.240062</td>\n",
       "    </tr>\n",
       "    <tr>\n",
       "      <th>SEOTR</th>\n",
       "      <td>-0.020347</td>\n",
       "      <td>0.001303</td>\n",
       "      <td>0.268218</td>\n",
       "      <td>0.231464</td>\n",
       "      <td>NaN</td>\n",
       "      <td>0.025012</td>\n",
       "      <td>NaN</td>\n",
       "      <td>0.047193</td>\n",
       "      <td>0.015258</td>\n",
       "      <td>-0.007248</td>\n",
       "      <td>0.005992</td>\n",
       "      <td>0.244549</td>\n",
       "      <td>1.000000</td>\n",
       "      <td>0.181802</td>\n",
       "      <td>0.289031</td>\n",
       "      <td>NaN</td>\n",
       "      <td>0.061635</td>\n",
       "    </tr>\n",
       "    <tr>\n",
       "      <th>VETYN</th>\n",
       "      <td>0.008984</td>\n",
       "      <td>0.680771</td>\n",
       "      <td>0.466038</td>\n",
       "      <td>0.434918</td>\n",
       "      <td>NaN</td>\n",
       "      <td>0.112770</td>\n",
       "      <td>NaN</td>\n",
       "      <td>0.054073</td>\n",
       "      <td>0.067410</td>\n",
       "      <td>0.063386</td>\n",
       "      <td>0.030024</td>\n",
       "      <td>0.456709</td>\n",
       "      <td>0.181802</td>\n",
       "      <td>1.000000</td>\n",
       "      <td>0.525311</td>\n",
       "      <td>NaN</td>\n",
       "      <td>0.141162</td>\n",
       "    </tr>\n",
       "    <tr>\n",
       "      <th>WKSWORK</th>\n",
       "      <td>0.000118</td>\n",
       "      <td>0.204007</td>\n",
       "      <td>0.745300</td>\n",
       "      <td>0.672820</td>\n",
       "      <td>NaN</td>\n",
       "      <td>0.202096</td>\n",
       "      <td>NaN</td>\n",
       "      <td>0.084966</td>\n",
       "      <td>0.071813</td>\n",
       "      <td>-0.003408</td>\n",
       "      <td>0.023757</td>\n",
       "      <td>0.750910</td>\n",
       "      <td>0.289031</td>\n",
       "      <td>0.525311</td>\n",
       "      <td>1.000000</td>\n",
       "      <td>NaN</td>\n",
       "      <td>0.271607</td>\n",
       "    </tr>\n",
       "    <tr>\n",
       "      <th>YEAR</th>\n",
       "      <td>NaN</td>\n",
       "      <td>NaN</td>\n",
       "      <td>NaN</td>\n",
       "      <td>NaN</td>\n",
       "      <td>NaN</td>\n",
       "      <td>NaN</td>\n",
       "      <td>NaN</td>\n",
       "      <td>NaN</td>\n",
       "      <td>NaN</td>\n",
       "      <td>NaN</td>\n",
       "      <td>NaN</td>\n",
       "      <td>NaN</td>\n",
       "      <td>NaN</td>\n",
       "      <td>NaN</td>\n",
       "      <td>NaN</td>\n",
       "      <td>NaN</td>\n",
       "      <td>NaN</td>\n",
       "    </tr>\n",
       "    <tr>\n",
       "      <th>INCOME</th>\n",
       "      <td>-0.003006</td>\n",
       "      <td>0.136040</td>\n",
       "      <td>0.194367</td>\n",
       "      <td>0.027484</td>\n",
       "      <td>NaN</td>\n",
       "      <td>0.041622</td>\n",
       "      <td>NaN</td>\n",
       "      <td>0.260295</td>\n",
       "      <td>0.113867</td>\n",
       "      <td>0.190031</td>\n",
       "      <td>0.014928</td>\n",
       "      <td>0.240062</td>\n",
       "      <td>0.061635</td>\n",
       "      <td>0.141162</td>\n",
       "      <td>0.271607</td>\n",
       "      <td>NaN</td>\n",
       "      <td>1.000000</td>\n",
       "    </tr>\n",
       "  </tbody>\n",
       "</table>\n",
       "</div>"
      ],
      "text/plain": [
       "            Unnamed: 0      AAGE    ADTIND    ADTOCC  AGI   *(pred)  AHRSPAY  \\\n",
       "Unnamed: 0    1.000000 -0.004501 -0.002645  0.005932  NaN  0.008704      NaN   \n",
       "AAGE         -0.004501  1.000000  0.150357  0.119405  NaN  0.041732      NaN   \n",
       "ADTIND       -0.002645  0.150357  1.000000  0.557044  NaN  0.166021      NaN   \n",
       "ADTOCC        0.005932  0.119405  0.557044  1.000000  NaN  0.195381      NaN   \n",
       "AGI                NaN       NaN       NaN       NaN  NaN       NaN      NaN   \n",
       "*(pred)       0.008704  0.041732  0.166021  0.195381  NaN  1.000000      NaN   \n",
       "AHRSPAY            NaN       NaN       NaN       NaN  NaN       NaN      NaN   \n",
       "CAPGAIN      -0.009120  0.058872  0.067945  0.000320  NaN -0.006214      NaN   \n",
       "CAPLOSS      -0.010385  0.075143  0.046956  0.056064  NaN  0.000525      NaN   \n",
       "DIVVAL       -0.011837  0.125177  0.006459 -0.039281  NaN -0.006182      NaN   \n",
       "MARSUPWT     -0.003545 -0.005295  0.025491  0.009746  NaN  0.012522      NaN   \n",
       "NOEMP         0.003339  0.142980  0.646588  0.500644  NaN  0.199078      NaN   \n",
       "SEOTR        -0.020347  0.001303  0.268218  0.231464  NaN  0.025012      NaN   \n",
       "VETYN         0.008984  0.680771  0.466038  0.434918  NaN  0.112770      NaN   \n",
       "WKSWORK       0.000118  0.204007  0.745300  0.672820  NaN  0.202096      NaN   \n",
       "YEAR               NaN       NaN       NaN       NaN  NaN       NaN      NaN   \n",
       "INCOME       -0.003006  0.136040  0.194367  0.027484  NaN  0.041622      NaN   \n",
       "\n",
       "             CAPGAIN   CAPLOSS    DIVVAL  MARSUPWT     NOEMP     SEOTR  \\\n",
       "Unnamed: 0 -0.009120 -0.010385 -0.011837 -0.003545  0.003339 -0.020347   \n",
       "AAGE        0.058872  0.075143  0.125177 -0.005295  0.142980  0.001303   \n",
       "ADTIND      0.067945  0.046956  0.006459  0.025491  0.646588  0.268218   \n",
       "ADTOCC      0.000320  0.056064 -0.039281  0.009746  0.500644  0.231464   \n",
       "AGI              NaN       NaN       NaN       NaN       NaN       NaN   \n",
       "*(pred)    -0.006214  0.000525 -0.006182  0.012522  0.199078  0.025012   \n",
       "AHRSPAY          NaN       NaN       NaN       NaN       NaN       NaN   \n",
       "CAPGAIN     1.000000 -0.011723  0.142435  0.017245  0.048035  0.047193   \n",
       "CAPLOSS    -0.011723  1.000000  0.018598  0.017568  0.051311  0.015258   \n",
       "DIVVAL      0.142435  0.018598  1.000000 -0.008370  0.003092 -0.007248   \n",
       "MARSUPWT    0.017245  0.017568 -0.008370  1.000000  0.038324  0.005992   \n",
       "NOEMP       0.048035  0.051311  0.003092  0.038324  1.000000  0.244549   \n",
       "SEOTR       0.047193  0.015258 -0.007248  0.005992  0.244549  1.000000   \n",
       "VETYN       0.054073  0.067410  0.063386  0.030024  0.456709  0.181802   \n",
       "WKSWORK     0.084966  0.071813 -0.003408  0.023757  0.750910  0.289031   \n",
       "YEAR             NaN       NaN       NaN       NaN       NaN       NaN   \n",
       "INCOME      0.260295  0.113867  0.190031  0.014928  0.240062  0.061635   \n",
       "\n",
       "               VETYN   WKSWORK  YEAR    INCOME  \n",
       "Unnamed: 0  0.008984  0.000118   NaN -0.003006  \n",
       "AAGE        0.680771  0.204007   NaN  0.136040  \n",
       "ADTIND      0.466038  0.745300   NaN  0.194367  \n",
       "ADTOCC      0.434918  0.672820   NaN  0.027484  \n",
       "AGI              NaN       NaN   NaN       NaN  \n",
       "*(pred)     0.112770  0.202096   NaN  0.041622  \n",
       "AHRSPAY          NaN       NaN   NaN       NaN  \n",
       "CAPGAIN     0.054073  0.084966   NaN  0.260295  \n",
       "CAPLOSS     0.067410  0.071813   NaN  0.113867  \n",
       "DIVVAL      0.063386 -0.003408   NaN  0.190031  \n",
       "MARSUPWT    0.030024  0.023757   NaN  0.014928  \n",
       "NOEMP       0.456709  0.750910   NaN  0.240062  \n",
       "SEOTR       0.181802  0.289031   NaN  0.061635  \n",
       "VETYN       1.000000  0.525311   NaN  0.141162  \n",
       "WKSWORK     0.525311  1.000000   NaN  0.271607  \n",
       "YEAR             NaN       NaN   NaN       NaN  \n",
       "INCOME      0.141162  0.271607   NaN  1.000000  "
      ]
     },
     "execution_count": 26,
     "metadata": {},
     "output_type": "execute_result"
    }
   ],
   "source": [
    "new_df.corr()"
   ]
  },
  {
   "cell_type": "markdown",
   "metadata": {},
   "source": [
    "Lets drop fetures that are not helping in correlation matrix"
   ]
  },
  {
   "cell_type": "code",
   "execution_count": 27,
   "metadata": {},
   "outputs": [],
   "source": [
    "new_df.drop(columns = [\"AGI\", \"AHRSPAY\", \"*(pred)\", \"Unnamed: 0\", \"YEAR\"], inplace = True)"
   ]
  },
  {
   "cell_type": "markdown",
   "metadata": {},
   "source": [
    "### Correlation matrix using Heat map"
   ]
  },
  {
   "cell_type": "code",
   "execution_count": 28,
   "metadata": {},
   "outputs": [
    {
     "data": {
      "text/plain": [
       "<matplotlib.axes._subplots.AxesSubplot at 0x180f0dc5080>"
      ]
     },
     "execution_count": 28,
     "metadata": {},
     "output_type": "execute_result"
    },
    {
     "data": {
      "image/png": "[encoded data removed]",
      "text/plain": [
       "<Figure size 720x576 with 2 Axes>"
      ]
     },
     "metadata": {
      "needs_background": "light"
     },
     "output_type": "display_data"
    }
   ],
   "source": [
    "#Correlation coefficients are used in statistics to measure how strong a relationship is between two variables\n",
    "\n",
    "%matplotlib inline\n",
    "import seaborn as sns\n",
    "f, ax = plt.subplots(figsize=(10, 8))\n",
    "corr = new_df.corr()\n",
    "sns.heatmap(corr,\n",
    "            xticklabels=corr.columns.values,\n",
    "            yticklabels=corr.columns.values, annot=True, linewidth=0.5)"
   ]
  },
  {
   "cell_type": "markdown",
   "metadata": {},
   "source": [
    "### Pie chart showing income distribution"
   ]
  },
  {
   "cell_type": "code",
   "execution_count": 29,
   "metadata": {},
   "outputs": [
    {
     "data": {
      "image/png": "[encoded data removed]",
      "text/plain": [
       "<Figure size 432x288 with 1 Axes>"
      ]
     },
     "metadata": {},
     "output_type": "display_data"
    }
   ],
   "source": [
    "m = 0\n",
    "l = 0\n",
    "for i in new_df.INCOME:\n",
    "    if i == 0:\n",
    "        l += 1\n",
    "    if i == 1:\n",
    "        m += 1\n",
    "\n",
    "#Set up pie chart\n",
    "colors = ['lightskyblue', 'lightcoral']\n",
    "values = [l, m]\n",
    "labels = ['income<=50k', 'income>50k']\n",
    "explode = (0, 0.2)\n",
    "plt.pie(values, labels=labels,explode=explode, colors=colors, shadow=True, startangle=90, autopct='%.2f')\n",
    "plt.axis('equal')\n",
    "plt.tight_layout()\n",
    "plt.show()"
   ]
  },
  {
   "cell_type": "code",
   "execution_count": 30,
   "metadata": {},
   "outputs": [
    {
     "data": {
      "text/plain": [
       " High school graduate                      1238\n",
       " Children                                  1194\n",
       " Some college but no degree                 690\n",
       " Bachelors degree(BA AB BS)                 469\n",
       " 7th and 8th grade                          198\n",
       " 10th grade                                 189\n",
       " 11th grade                                 180\n",
       " 9th grade                                  172\n",
       " Masters degree(MA MS MEng MEd MSW MBA)     167\n",
       " Associates degree-occup /vocational        126\n",
       " Associates degree-academic program         109\n",
       " 5th or 6th grade                            79\n",
       " 12th grade no diploma                       52\n",
       " 1st 2nd 3rd or 4th grade                    51\n",
       " Prof school degree (MD DDS DVM LLB JD)      39\n",
       " Doctorate degree(PhD EdD)                   29\n",
       " Less than 1st grade                         18\n",
       "Name: AHGA, dtype: int64"
      ]
     },
     "execution_count": 30,
     "metadata": {},
     "output_type": "execute_result"
    }
   ],
   "source": [
    "census_counts = new_df['AHGA'].value_counts()\n",
    "census_counts[:20]"
   ]
  },
  {
   "cell_type": "markdown",
   "metadata": {},
   "source": [
    "### Distribution of Population across various education levels"
   ]
  },
  {
   "cell_type": "code",
   "execution_count": 31,
   "metadata": {},
   "outputs": [
    {
     "data": {
      "text/plain": [
       "<matplotlib.axes._subplots.AxesSubplot at 0x180f15a9e48>"
      ]
     },
     "execution_count": 31,
     "metadata": {},
     "output_type": "execute_result"
    },
    {
     "data": {
      "image/png": "[encoded data removed]",
      "text/plain": [
       "<Figure size 432x288 with 1 Axes>"
      ]
     },
     "metadata": {
      "needs_background": "light"
     },
     "output_type": "display_data"
    }
   ],
   "source": [
    "new_df['AHGA'].value_counts().plot.bar(title=\"Distribution of Education\")"
   ]
  },
  {
   "cell_type": "markdown",
   "metadata": {},
   "source": [
    "### Frequency distribution based on marital status"
   ]
  },
  {
   "cell_type": "code",
   "execution_count": 32,
   "metadata": {},
   "outputs": [
    {
     "data": {
      "text/plain": [
       "<matplotlib.axes._subplots.AxesSubplot at 0x180f1332f98>"
      ]
     },
     "execution_count": 32,
     "metadata": {},
     "output_type": "execute_result"
    },
    {
     "data": {
      "image/png": "[encoded data removed]",
      "text/plain": [
       "<Figure size 432x288 with 1 Axes>"
      ]
     },
     "metadata": {
      "needs_background": "light"
     },
     "output_type": "display_data"
    }
   ],
   "source": [
    "new_df['AMARITL'].value_counts().plot.bar(title=\"Distribution of Marital Status\")"
   ]
  },
  {
   "cell_type": "markdown",
   "metadata": {},
   "source": [
    "### Barplot displaying count of population across race"
   ]
  },
  {
   "cell_type": "code",
   "execution_count": 33,
   "metadata": {},
   "outputs": [
    {
     "data": {
      "text/plain": [
       "<matplotlib.axes._subplots.AxesSubplot at 0x180f157dac8>"
      ]
     },
     "execution_count": 33,
     "metadata": {},
     "output_type": "execute_result"
    },
    {
     "data": {
      "image/png": "[encoded data removed]",
      "text/plain": [
       "<Figure size 432x288 with 1 Axes>"
      ]
     },
     "metadata": {
      "needs_background": "light"
     },
     "output_type": "display_data"
    }
   ],
   "source": [
    "new_df['ARACE'].value_counts().plot.bar(title=\"Distribution of Race\")"
   ]
  },
  {
   "cell_type": "markdown",
   "metadata": {},
   "source": [
    "### Frequency distribution of gender"
   ]
  },
  {
   "cell_type": "code",
   "execution_count": 34,
   "metadata": {},
   "outputs": [
    {
     "data": {
      "text/plain": [
       "<matplotlib.axes._subplots.AxesSubplot at 0x180f139d6d8>"
      ]
     },
     "execution_count": 34,
     "metadata": {},
     "output_type": "execute_result"
    },
    {
     "data": {
      "image/png": "[encoded data removed]",
      "text/plain": [
       "<Figure size 432x288 with 1 Axes>"
      ]
     },
     "metadata": {
      "needs_background": "light"
     },
     "output_type": "display_data"
    }
   ],
   "source": [
    "new_df['ASEX'].value_counts().plot.bar(title=\"Distribution of Gender\")"
   ]
  },
  {
   "cell_type": "markdown",
   "metadata": {},
   "source": [
    "### Frequency distribution of Income"
   ]
  },
  {
   "cell_type": "code",
   "execution_count": 35,
   "metadata": {},
   "outputs": [
    {
     "data": {
      "text/plain": [
       "<matplotlib.axes._subplots.AxesSubplot at 0x180f13f9240>"
      ]
     },
     "execution_count": 35,
     "metadata": {},
     "output_type": "execute_result"
    },
    {
     "data": {
      "image/png": "[encoded data removed]",
      "text/plain": [
       "<Figure size 432x288 with 1 Axes>"
      ]
     },
     "metadata": {
      "needs_background": "light"
     },
     "output_type": "display_data"
    }
   ],
   "source": [
    "new_df['INCOME'].value_counts().plot.bar(title=\"Distribution of INCOME\")"
   ]
  },
  {
   "cell_type": "markdown",
   "metadata": {},
   "source": [
    "### Frequency distribution of age"
   ]
  },
  {
   "cell_type": "code",
   "execution_count": 36,
   "metadata": {},
   "outputs": [
    {
     "data": {
      "text/plain": [
       "array([[<matplotlib.axes._subplots.AxesSubplot object at 0x00000180F14044E0>]],\n",
       "      dtype=object)"
      ]
     },
     "execution_count": 36,
     "metadata": {},
     "output_type": "execute_result"
    },
    {
     "data": {
      "image/png": "[encoded data removed]",
      "text/plain": [
       "<Figure size 720x432 with 1 Axes>"
      ]
     },
     "metadata": {
      "needs_background": "light"
     },
     "output_type": "display_data"
    }
   ],
   "source": [
    "new_df.hist(column = 'AAGE' ,edgecolor='black', linewidth=1.2, figsize = (10,6))"
   ]
  },
  {
   "cell_type": "markdown",
   "metadata": {},
   "source": [
    "### Box plot showing distribution of age"
   ]
  },
  {
   "cell_type": "code",
   "execution_count": 37,
   "metadata": {},
   "outputs": [
    {
     "data": {
      "image/png": "[encoded data removed]",
      "text/plain": [
       "<Figure size 432x288 with 1 Axes>"
      ]
     },
     "metadata": {},
     "output_type": "display_data"
    }
   ],
   "source": [
    "sns.set(style=\"whitegrid\")\n",
    "ax = sns.boxplot(x=new_df[\"AAGE\"])"
   ]
  },
  {
   "cell_type": "code",
   "execution_count": 38,
   "metadata": {},
   "outputs": [
    {
     "data": {
      "text/html": [
       "<div>\n",
       "<style scoped>\n",
       "    .dataframe tbody tr th:only-of-type {\n",
       "        vertical-align: middle;\n",
       "    }\n",
       "\n",
       "    .dataframe tbody tr th {\n",
       "        vertical-align: top;\n",
       "    }\n",
       "\n",
       "    .dataframe thead th {\n",
       "        text-align: right;\n",
       "    }\n",
       "</style>\n",
       "<table border=\"1\" class=\"dataframe\">\n",
       "  <thead>\n",
       "    <tr style=\"text-align: right;\">\n",
       "      <th></th>\n",
       "      <th>WKSWORK</th>\n",
       "      <th>ARACE</th>\n",
       "      <th>AAGE</th>\n",
       "    </tr>\n",
       "  </thead>\n",
       "  <tbody>\n",
       "    <tr>\n",
       "      <th>0</th>\n",
       "      <td>52.0</td>\n",
       "      <td>White</td>\n",
       "      <td>42.0</td>\n",
       "    </tr>\n",
       "    <tr>\n",
       "      <th>1</th>\n",
       "      <td>0.0</td>\n",
       "      <td>Black</td>\n",
       "      <td>56.0</td>\n",
       "    </tr>\n",
       "    <tr>\n",
       "      <th>2</th>\n",
       "      <td>0.0</td>\n",
       "      <td>White</td>\n",
       "      <td>69.0</td>\n",
       "    </tr>\n",
       "    <tr>\n",
       "      <th>3</th>\n",
       "      <td>0.0</td>\n",
       "      <td>Asian or Pacific Islander</td>\n",
       "      <td>10.0</td>\n",
       "    </tr>\n",
       "    <tr>\n",
       "      <th>4</th>\n",
       "      <td>13.0</td>\n",
       "      <td>White</td>\n",
       "      <td>34.0</td>\n",
       "    </tr>\n",
       "  </tbody>\n",
       "</table>\n",
       "</div>"
      ],
      "text/plain": [
       "   WKSWORK                       ARACE  AAGE\n",
       "0     52.0                       White  42.0\n",
       "1      0.0                       Black  56.0\n",
       "2      0.0                       White  69.0\n",
       "3      0.0   Asian or Pacific Islander  10.0\n",
       "4     13.0                       White  34.0"
      ]
     },
     "execution_count": 38,
     "metadata": {},
     "output_type": "execute_result"
    }
   ],
   "source": [
    "newdf_rel = new_df[['WKSWORK','ARACE','AAGE']]\n",
    "newdf_rel.head()"
   ]
  },
  {
   "cell_type": "markdown",
   "metadata": {},
   "source": [
    "### Pair Plot between Weeks worked per year & Age"
   ]
  },
  {
   "cell_type": "code",
   "execution_count": 39,
   "metadata": {},
   "outputs": [
    {
     "name": "stderr",
     "output_type": "stream",
     "text": [
      "C:\\Users\\suraj\\Anaconda3\\lib\\site-packages\\statsmodels\\nonparametric\\kde.py:448: RuntimeWarning: invalid value encountered in greater\n",
      "  X = X[np.logical_and(X > clip[0], X < clip[1])] # won't work for two columns.\n",
      "C:\\Users\\suraj\\Anaconda3\\lib\\site-packages\\statsmodels\\nonparametric\\kde.py:448: RuntimeWarning: invalid value encountered in less\n",
      "  X = X[np.logical_and(X > clip[0], X < clip[1])] # won't work for two columns.\n",
      "C:\\Users\\suraj\\Anaconda3\\lib\\site-packages\\scipy\\stats\\stats.py:1713: FutureWarning: Using a non-tuple sequence for multidimensional indexing is deprecated; use `arr[tuple(seq)]` instead of `arr[seq]`. In the future this will be interpreted as an array index, `arr[np.array(seq)]`, which will result either in an error or a different result.\n",
      "  return np.add.reduce(sorted[indexer] * weights, axis=axis) / sumval\n"
     ]
    },
    {
     "data": {
      "text/plain": [
       "<seaborn.axisgrid.PairGrid at 0x180f17c64e0>"
      ]
     },
     "execution_count": 39,
     "metadata": {},
     "output_type": "execute_result"
    },
    {
     "data": {
      "image/png": "[encoded data removed]",
      "text/plain": [
       "<Figure size 542.225x360 with 6 Axes>"
      ]
     },
     "metadata": {},
     "output_type": "display_data"
    }
   ],
   "source": [
    "sns.pairplot(newdf_rel, hue='ARACE')"
   ]
  },
  {
   "cell_type": "markdown",
   "metadata": {},
   "source": [
    "### Stacked bar to show Income values based on SEX and RACE"
   ]
  },
  {
   "cell_type": "code",
   "execution_count": 40,
   "metadata": {},
   "outputs": [
    {
     "data": {
      "text/plain": [
       "<matplotlib.axes._subplots.AxesSubplot at 0x180f2a64c50>"
      ]
     },
     "execution_count": 40,
     "metadata": {},
     "output_type": "execute_result"
    },
    {
     "data": {
      "image/png": "[encoded data removed]",
      "text/plain": [
       "<Figure size 432x288 with 1 Axes>"
      ]
     },
     "metadata": {},
     "output_type": "display_data"
    }
   ],
   "source": [
    "#stacked bar to show Income values between SEX and RACE\n",
    "df_g = new_df.groupby(['ARACE', 'ASEX'])['INCOME'].agg([np.mean, lambda x: 1-np.mean(x)])\n",
    "df_g.columns = ['1', '0']\n",
    "df_g.plot.bar(stacked=True)"
   ]
  },
  {
   "cell_type": "markdown",
   "metadata": {},
   "source": [
    "### Strip plot showing density of income across different age groups based on gender"
   ]
  },
  {
   "cell_type": "code",
   "execution_count": 41,
   "metadata": {},
   "outputs": [
    {
     "data": {
      "text/plain": [
       "Text(0.5, 1.0, 'Income controlled by Age and Gender')"
      ]
     },
     "execution_count": 41,
     "metadata": {},
     "output_type": "execute_result"
    },
    {
     "data": {
      "image/png": "[encoded data removed]",
      "text/plain": [
       "<Figure size 432x288 with 1 Axes>"
      ]
     },
     "metadata": {},
     "output_type": "display_data"
    }
   ],
   "source": [
    "ax = sns.stripplot(x='AAGE', y='ASEX', data=new_df,hue='INCOME')\n",
    "ax.set_title('Income controlled by Age and Gender')"
   ]
  },
  {
   "cell_type": "markdown",
   "metadata": {},
   "source": [
    "### Gender distribution based on education levels"
   ]
  },
  {
   "cell_type": "code",
   "execution_count": 42,
   "metadata": {},
   "outputs": [
    {
     "data": {
      "text/plain": [
       "<matplotlib.axes._subplots.AxesSubplot at 0x180f2b51f98>"
      ]
     },
     "execution_count": 42,
     "metadata": {},
     "output_type": "execute_result"
    },
    {
     "data": {
      "image/png": "[encoded data removed]",
      "text/plain": [
       "<Figure size 432x288 with 1 Axes>"
      ]
     },
     "metadata": {},
     "output_type": "display_data"
    }
   ],
   "source": [
    "new_df.groupby([\"AHGA\",\"ASEX\"]).size().unstack(\"ASEX\").plot(kind=\"bar\",fontsize=14)"
   ]
  },
  {
   "cell_type": "markdown",
   "metadata": {},
   "source": [
    "### Income distribution across gender"
   ]
  },
  {
   "cell_type": "code",
   "execution_count": 43,
   "metadata": {
    "scrolled": false
   },
   "outputs": [
    {
     "data": {
      "text/plain": [
       "<matplotlib.axes._subplots.AxesSubplot at 0x180f2c1c1d0>"
      ]
     },
     "execution_count": 43,
     "metadata": {},
     "output_type": "execute_result"
    },
    {
     "data": {
      "image/png": "[encoded data removed]",
      "text/plain": [
       "<Figure size 720x576 with 1 Axes>"
      ]
     },
     "metadata": {},
     "output_type": "display_data"
    }
   ],
   "source": [
    "new_df.groupby(['INCOME','ASEX']).size().unstack('INCOME').plot(kind=\"bar\",figsize=(10, 8))"
   ]
  },
  {
   "cell_type": "markdown",
   "metadata": {},
   "source": [
    "# Model implementation"
   ]
  },
  {
   "cell_type": "code",
   "execution_count": 44,
   "metadata": {},
   "outputs": [],
   "source": [
    "features = census.columns.tolist()\n",
    "#features.remove(\"log_transformed_SalePrice\")\n",
    "features.remove(\"INCOME\")\n",
    "target = \"INCOME\""
   ]
  },
  {
   "cell_type": "code",
   "execution_count": 45,
   "metadata": {},
   "outputs": [
    {
     "name": "stderr",
     "output_type": "stream",
     "text": [
      "C:\\Users\\suraj\\Anaconda3\\lib\\site-packages\\sklearn\\preprocessing\\data.py:323: DataConversionWarning: Data with input dtype uint8, int64, float64 were all converted to float64 by MinMaxScaler.\n",
      "  return self.partial_fit(X, y)\n"
     ]
    }
   ],
   "source": [
    "# Now creating X_train by removing target column\n",
    "X = census[features].copy()\n",
    "y = census[target].copy()\n",
    "\n",
    "scaler = MinMaxScaler()\n",
    "X = scaler.fit_transform(X)\n",
    "\n",
    "X = pd.DataFrame(X, index=census[features].index, columns=census[features].columns)"
   ]
  },
  {
   "cell_type": "code",
   "execution_count": 46,
   "metadata": {},
   "outputs": [],
   "source": [
    "report_df = pd.DataFrame(columns = [\"Classifier\",\"Avg train accuracy\", \"Avg test accuracy\", \"Avg train AIC\", \"Avg test AIC\", \n",
    "                                         \"Avg train BIC\", \"Avg test BIC\", \"Avg train sensitivity\", \"Avg test sensitivity\",\n",
    "                                      \"Avg train specificity\", \"Avg test specificity\", \"Avg train precision for positive class\",\n",
    "                                      \"Avg train precision for negative class\", \"Avg test precision for positive class\",\n",
    "                                      \"Avg test precision for negative class\",\"Avg train recall for positive class\",\n",
    "                                        \"Avg train recall for negative class\", \"Avg test recall for positive class\",\n",
    "                                      \"Avg test recall for negative class\", \"Avg train support for positive class\",\n",
    "                                       \"Avg train support for negative class\", \"Avg test support for positive class\",\n",
    "                                      \"Avg test support for negative class\", \"Avg train f1-score for positive class\",\n",
    "                                       \"Avg train f1-score for negative class\", \"Avg test f1-score for positive class\",\n",
    "                                      \"Avg test f1-score for negative class\", \"Best Hyperparameters\"])"
   ]
  },
  {
   "cell_type": "code",
   "execution_count": 47,
   "metadata": {},
   "outputs": [],
   "source": [
    "train_columns = [\"Classifier\", \"Best Hyperparameters\", \"Avg train accuracy\",\"Avg train AIC\", \"Avg train BIC\", \"Avg train sensitivity\",\n",
    "                                      \"Avg train specificity\", \"Avg train precision for positive class\",\n",
    "                                      \"Avg train precision for negative class\", \"Avg train recall for positive class\",\n",
    "                                        \"Avg train recall for negative class\",\"Avg train support for positive class\",\n",
    "                                       \"Avg train support for negative class\",\"Avg train f1-score for positive class\",\n",
    "                                       \"Avg train f1-score for negative class\"]\n",
    "\n",
    "test_columns = [\"Classifier\", \"Best Hyperparameters\", \"Avg test accuracy\",\"Avg test AIC\", \"Avg test BIC\", \"Avg test sensitivity\",\n",
    "                                      \"Avg test specificity\", \"Avg test precision for positive class\",\n",
    "                                      \"Avg test precision for negative class\", \"Avg test recall for positive class\",\n",
    "                                        \"Avg test recall for negative class\",\"Avg test support for positive class\",\n",
    "                                       \"Avg test support for negative class\",\"Avg test f1-score for positive class\",\n",
    "                                       \"Avg test f1-score for negative class\"]"
   ]
  },
  {
   "cell_type": "markdown",
   "metadata": {},
   "source": [
    "# Logistics Regression"
   ]
  },
  {
   "cell_type": "code",
   "execution_count": 48,
   "metadata": {},
   "outputs": [
    {
     "name": "stdout",
     "output_type": "stream",
     "text": [
      "Grid search best score: 0.9452\n",
      "Grid search best parameters: {'C': 0.8, 'penalty': 'l1'}\n"
     ]
    },
    {
     "name": "stderr",
     "output_type": "stream",
     "text": [
      "C:\\Users\\suraj\\Anaconda3\\lib\\site-packages\\sklearn\\linear_model\\logistic.py:433: FutureWarning: Default solver will be changed to 'lbfgs' in 0.22. Specify a solver to silence this warning.\n",
      "  FutureWarning)\n"
     ]
    }
   ],
   "source": [
    "parameters = [{'C':[0.001,0.01,0.1,0.2,0.3,0.4,0.5,0.6,0.7,0.8,0.9,1,10,100], 'penalty':['l1','l2']}]\n",
    "\n",
    "grid_search = GridSearchCV(estimator = LogisticRegression(), param_grid = parameters, scoring='accuracy', cv=3, n_jobs = -1)\n",
    "\n",
    "grid_search = grid_search.fit(X,y)\n",
    "\n",
    "print(\"Grid search best score:\", grid_search.best_score_)\n",
    "print(\"Grid search best parameters:\", grid_search.best_params_)"
   ]
  },
  {
   "cell_type": "code",
   "execution_count": 49,
   "metadata": {},
   "outputs": [
    {
     "name": "stderr",
     "output_type": "stream",
     "text": [
      "C:\\Users\\suraj\\Anaconda3\\lib\\site-packages\\sklearn\\linear_model\\logistic.py:433: FutureWarning: Default solver will be changed to 'lbfgs' in 0.22. Specify a solver to silence this warning.\n",
      "  FutureWarning)\n",
      "C:\\Users\\suraj\\Anaconda3\\lib\\site-packages\\sklearn\\linear_model\\logistic.py:433: FutureWarning: Default solver will be changed to 'lbfgs' in 0.22. Specify a solver to silence this warning.\n",
      "  FutureWarning)\n",
      "C:\\Users\\suraj\\Anaconda3\\lib\\site-packages\\sklearn\\linear_model\\logistic.py:433: FutureWarning: Default solver will be changed to 'lbfgs' in 0.22. Specify a solver to silence this warning.\n",
      "  FutureWarning)\n"
     ]
    }
   ],
   "source": [
    "kf = KFold(n_splits=3) # Define the split - into 6 folds \n",
    "\n",
    "train_score_list = []\n",
    "test_score_list = []\n",
    "train_AIC_score_list = []\n",
    "test_AIC_score_list = []\n",
    "train_BIC_score_list = []\n",
    "test_BIC_score_list = []\n",
    "sensitivity_train_list = []\n",
    "specificity_train_list = []\n",
    "sensitivity_test_list = []\n",
    "specificity_test_list = []\n",
    "precision_train_positive_class = []\n",
    "precision_train_negative_class = []\n",
    "precision_test_positive_class = []\n",
    "precision_test_negative_class = []\n",
    "recall_train_positive_class = []\n",
    "recall_train_negative_class = []\n",
    "recall_test_positive_class = []\n",
    "recall_test_negative_class = []\n",
    "support_train_positive_class = []\n",
    "support_train_negative_class = []\n",
    "support_test_positive_class = []\n",
    "support_test_negative_class = []\n",
    "f1_train_score_positive_class = []\n",
    "f1_train_score_negative_class = []\n",
    "f1_test_score_positive_class = []\n",
    "f1_test_score_negative_class = []\n",
    "\n",
    "for train_index, test_index in kf.split(X):\n",
    "    X_train_cv, X_test_cv = X.iloc[train_index], X.iloc[test_index]\n",
    "    y_train_cv, y_test_cv = y.iloc[train_index], y.iloc[test_index]\n",
    "    \n",
    "    lgr = LogisticRegression(C = grid_search.best_params_['C'], penalty=grid_search.best_params_['penalty'])\n",
    "    lgr.fit(X_train_cv,y_train_cv)\n",
    "    train_score_list.append(lgr.score(X_train_cv,y_train_cv))\n",
    "    test_score_list.append(lgr.score(X_test_cv, y_test_cv))\n",
    "    \n",
    "    y_train_preds = lgr.predict(X_train_cv)\n",
    "    y_test_preds = lgr.predict(X_test_cv)\n",
    "    \n",
    "    resid_train = np.array([i for i in y_train_cv.values.tolist()]) - np.array(y_train_preds.tolist())\n",
    "    resid_test = np.array([i for i in y_test_cv.values.tolist()]) - np.array(y_test_preds.tolist())\n",
    "    sse_train = sum(resid_train**2)\n",
    "    sse_test = sum(resid_test**2)\n",
    "    k = len(X.columns.tolist())\n",
    "    n_train = y_train_cv.shape[0]\n",
    "    n_test = y_test_cv.shape[0]\n",
    "\n",
    "    AIC_train = (2*k) - (2*np.log(sse_train))\n",
    "    BIC_train = (n_train*np.log(sse_train/n_train)) + (k*np.log(n_train))\n",
    "    \n",
    "    AIC_test = (2*k) - (2*np.log(sse_test))\n",
    "    BIC_test = (n_test*np.log(sse_test/n_test)) + (k*np.log(n_test))\n",
    "    \n",
    "    train_AIC_score_list.append(AIC_train)\n",
    "    train_BIC_score_list.append(BIC_train)\n",
    "    test_AIC_score_list.append(AIC_test)\n",
    "    test_BIC_score_list.append(BIC_test)\n",
    "    \n",
    "    clf_report_train = classification_report(y_train_cv,y_train_preds,output_dict=True)\n",
    "    clf_report_test = classification_report(y_test_cv,y_test_preds,output_dict=True)\n",
    "    \n",
    "    sensitivity_train_list.append(clf_report_train['1']['recall'])\n",
    "    specificity_train_list.append(clf_report_train['0']['recall'])\n",
    "    sensitivity_test_list.append(clf_report_test['1']['recall'])\n",
    "    specificity_test_list.append(clf_report_test['0']['recall'])\n",
    "    precision_train_positive_class.append(clf_report_train['1']['precision'])\n",
    "    precision_train_negative_class.append(clf_report_train['0']['precision'])\n",
    "    precision_test_positive_class.append(clf_report_test['1']['precision'])\n",
    "    precision_test_negative_class.append(clf_report_test['0']['precision'])\n",
    "    recall_train_positive_class.append(clf_report_train['1']['recall'])\n",
    "    recall_train_negative_class.append(clf_report_train['0']['recall'])\n",
    "    recall_test_positive_class.append(clf_report_test['1']['recall'])\n",
    "    recall_test_negative_class.append(clf_report_test['0']['recall'])\n",
    "    support_train_positive_class.append(clf_report_train['1']['support'])\n",
    "    support_train_negative_class.append(clf_report_train['0']['support'])\n",
    "    support_test_positive_class.append(clf_report_test['1']['support'])\n",
    "    support_test_negative_class.append(clf_report_test['0']['support'])\n",
    "    f1_train_score_positive_class.append(clf_report_train['1']['f1-score'])\n",
    "    f1_train_score_negative_class.append(clf_report_train['0']['f1-score'])\n",
    "    f1_test_score_positive_class.append(clf_report_test['1']['f1-score'])\n",
    "    f1_test_score_negative_class.append(clf_report_test['0']['f1-score'])\n",
    "\n",
    "report_df = report_df.append({\"Classifier\":\"LogisticRegression\", \n",
    "                              \"Avg train accuracy\":sum(train_score_list) / 3, \"Avg test accuracy\":sum(test_score_list) / 3, \n",
    "                              \"Avg train AIC\":sum(train_AIC_score_list) / 3, \"Avg test AIC\":sum(test_AIC_score_list) / 3, \n",
    "                              \"Avg train BIC\":sum(train_BIC_score_list) / 3, \"Avg test BIC\":sum(test_BIC_score_list) / 3, \n",
    "                              \"Avg train sensitivity\" : sum(sensitivity_train_list) / 3, \"Avg test sensitivity\" : sum(sensitivity_test_list) / 3, \n",
    "                              \"Avg train specificity\" : sum(specificity_train_list) / 3, \"Avg test specificity\" : sum(specificity_test_list) / 3,\n",
    "                              \"Avg train precision for positive class\":sum(precision_train_positive_class) / 3, \"Avg test precision for positive class\":sum(precision_train_negative_class) / 3, \n",
    "                              \"Avg train precision for negative class\":sum(precision_test_positive_class) / 3, \"Avg test precision for negative class\":sum(precision_test_negative_class) / 3,\n",
    "                              \"Avg train recall for positive class\":sum(recall_train_positive_class) / 3, \"Avg test recall for positive class\":sum(recall_train_negative_class) / 3, \n",
    "                              \"Avg train recall for negative class\":sum(recall_test_positive_class) / 3, \"Avg test recall for negative class\":sum(recall_test_negative_class) / 3,\n",
    "                              \"Avg train support for positive class\":sum(support_train_positive_class) / 3, \"Avg test support for positive class\":sum(support_train_negative_class) / 3, \n",
    "                              \"Avg train support for negative class\":sum(support_test_positive_class) / 3, \"Avg test support for negative class\":sum(support_test_negative_class) / 3,\n",
    "                              \"Avg train f1-score for positive class\":sum(f1_train_score_positive_class) / 3, \"Avg test f1-score for positive class\":sum(f1_train_score_negative_class) / 3, \n",
    "                              \"Avg train f1-score for negative class\":sum(f1_test_score_positive_class) / 3, \"Avg test f1-score for negative class\":sum(f1_test_score_negative_class) / 3,\n",
    "                              \"Best Hyperparameters\" : grid_search.best_params_}, ignore_index=True)"
   ]
  },
  {
   "cell_type": "code",
   "execution_count": 50,
   "metadata": {},
   "outputs": [
    {
     "data": {
      "text/html": [
       "<div>\n",
       "<style scoped>\n",
       "    .dataframe tbody tr th:only-of-type {\n",
       "        vertical-align: middle;\n",
       "    }\n",
       "\n",
       "    .dataframe tbody tr th {\n",
       "        vertical-align: top;\n",
       "    }\n",
       "\n",
       "    .dataframe thead th {\n",
       "        text-align: right;\n",
       "    }\n",
       "</style>\n",
       "<table border=\"1\" class=\"dataframe\">\n",
       "  <thead>\n",
       "    <tr style=\"text-align: right;\">\n",
       "      <th></th>\n",
       "      <th>Classifier</th>\n",
       "      <th>Best Hyperparameters</th>\n",
       "      <th>Avg train accuracy</th>\n",
       "      <th>Avg train AIC</th>\n",
       "      <th>Avg train BIC</th>\n",
       "      <th>Avg train sensitivity</th>\n",
       "      <th>Avg train specificity</th>\n",
       "      <th>Avg train precision for positive class</th>\n",
       "      <th>Avg train precision for negative class</th>\n",
       "      <th>Avg train recall for positive class</th>\n",
       "      <th>Avg train recall for negative class</th>\n",
       "      <th>Avg train support for positive class</th>\n",
       "      <th>Avg train support for negative class</th>\n",
       "      <th>Avg train f1-score for positive class</th>\n",
       "      <th>Avg train f1-score for negative class</th>\n",
       "    </tr>\n",
       "  </thead>\n",
       "  <tbody>\n",
       "    <tr>\n",
       "      <th>0</th>\n",
       "      <td>LogisticRegression</td>\n",
       "      <td>{'C': 0.8, 'penalty': 'l1'}</td>\n",
       "      <td>0.951</td>\n",
       "      <td>539.810174</td>\n",
       "      <td>-7825.344602</td>\n",
       "      <td>0.353453</td>\n",
       "      <td>0.993464</td>\n",
       "      <td>0.794353</td>\n",
       "      <td>0.690676</td>\n",
       "      <td>0.353453</td>\n",
       "      <td>0.309779</td>\n",
       "      <td>221.333333</td>\n",
       "      <td>110.666667</td>\n",
       "      <td>0.488869</td>\n",
       "      <td>0.426108</td>\n",
       "    </tr>\n",
       "  </tbody>\n",
       "</table>\n",
       "</div>"
      ],
      "text/plain": [
       "           Classifier         Best Hyperparameters  Avg train accuracy  \\\n",
       "0  LogisticRegression  {'C': 0.8, 'penalty': 'l1'}               0.951   \n",
       "\n",
       "   Avg train AIC  Avg train BIC  Avg train sensitivity  Avg train specificity  \\\n",
       "0     539.810174   -7825.344602               0.353453               0.993464   \n",
       "\n",
       "   Avg train precision for positive class  \\\n",
       "0                                0.794353   \n",
       "\n",
       "   Avg train precision for negative class  \\\n",
       "0                                0.690676   \n",
       "\n",
       "   Avg train recall for positive class  Avg train recall for negative class  \\\n",
       "0                             0.353453                             0.309779   \n",
       "\n",
       "   Avg train support for positive class  Avg train support for negative class  \\\n",
       "0                            221.333333                            110.666667   \n",
       "\n",
       "   Avg train f1-score for positive class  \\\n",
       "0                               0.488869   \n",
       "\n",
       "   Avg train f1-score for negative class  \n",
       "0                               0.426108  "
      ]
     },
     "execution_count": 50,
     "metadata": {},
     "output_type": "execute_result"
    }
   ],
   "source": [
    "report_df[train_columns]"
   ]
  },
  {
   "cell_type": "code",
   "execution_count": 51,
   "metadata": {
    "scrolled": true
   },
   "outputs": [
    {
     "data": {
      "text/html": [
       "<div>\n",
       "<style scoped>\n",
       "    .dataframe tbody tr th:only-of-type {\n",
       "        vertical-align: middle;\n",
       "    }\n",
       "\n",
       "    .dataframe tbody tr th {\n",
       "        vertical-align: top;\n",
       "    }\n",
       "\n",
       "    .dataframe thead th {\n",
       "        text-align: right;\n",
       "    }\n",
       "</style>\n",
       "<table border=\"1\" class=\"dataframe\">\n",
       "  <thead>\n",
       "    <tr style=\"text-align: right;\">\n",
       "      <th></th>\n",
       "      <th>Classifier</th>\n",
       "      <th>Best Hyperparameters</th>\n",
       "      <th>Avg test accuracy</th>\n",
       "      <th>Avg test AIC</th>\n",
       "      <th>Avg test BIC</th>\n",
       "      <th>Avg test sensitivity</th>\n",
       "      <th>Avg test specificity</th>\n",
       "      <th>Avg test precision for positive class</th>\n",
       "      <th>Avg test precision for negative class</th>\n",
       "      <th>Avg test recall for positive class</th>\n",
       "      <th>Avg test recall for negative class</th>\n",
       "      <th>Avg test support for positive class</th>\n",
       "      <th>Avg test support for negative class</th>\n",
       "      <th>Avg test f1-score for positive class</th>\n",
       "      <th>Avg test f1-score for negative class</th>\n",
       "    </tr>\n",
       "  </thead>\n",
       "  <tbody>\n",
       "    <tr>\n",
       "      <th>0</th>\n",
       "      <td>LogisticRegression</td>\n",
       "      <td>{'C': 0.8, 'penalty': 'l1'}</td>\n",
       "      <td>0.944999</td>\n",
       "      <td>540.965681</td>\n",
       "      <td>-2795.611794</td>\n",
       "      <td>0.309779</td>\n",
       "      <td>0.990156</td>\n",
       "      <td>0.955791</td>\n",
       "      <td>0.952803</td>\n",
       "      <td>0.993464</td>\n",
       "      <td>0.990156</td>\n",
       "      <td>3112.0</td>\n",
       "      <td>1556.0</td>\n",
       "      <td>0.974263</td>\n",
       "      <td>0.971112</td>\n",
       "    </tr>\n",
       "  </tbody>\n",
       "</table>\n",
       "</div>"
      ],
      "text/plain": [
       "           Classifier         Best Hyperparameters  Avg test accuracy  \\\n",
       "0  LogisticRegression  {'C': 0.8, 'penalty': 'l1'}           0.944999   \n",
       "\n",
       "   Avg test AIC  Avg test BIC  Avg test sensitivity  Avg test specificity  \\\n",
       "0    540.965681  -2795.611794              0.309779              0.990156   \n",
       "\n",
       "   Avg test precision for positive class  \\\n",
       "0                               0.955791   \n",
       "\n",
       "   Avg test precision for negative class  Avg test recall for positive class  \\\n",
       "0                               0.952803                            0.993464   \n",
       "\n",
       "   Avg test recall for negative class  Avg test support for positive class  \\\n",
       "0                            0.990156                               3112.0   \n",
       "\n",
       "   Avg test support for negative class  Avg test f1-score for positive class  \\\n",
       "0                               1556.0                              0.974263   \n",
       "\n",
       "   Avg test f1-score for negative class  \n",
       "0                              0.971112  "
      ]
     },
     "execution_count": 51,
     "metadata": {},
     "output_type": "execute_result"
    }
   ],
   "source": [
    "report_df[test_columns]"
   ]
  },
  {
   "cell_type": "code",
   "execution_count": 52,
   "metadata": {},
   "outputs": [
    {
     "data": {
      "text/plain": [
       "Text(0, 0.5, 'LogisticRegression Accuracy')"
      ]
     },
     "execution_count": 52,
     "metadata": {},
     "output_type": "execute_result"
    },
    {
     "data": {
      "image/png": "[encoded data removed]",
      "text/plain": [
       "<Figure size 432x288 with 1 Axes>"
      ]
     },
     "metadata": {},
     "output_type": "display_data"
    }
   ],
   "source": [
    "plt.plot([1,2,3], train_score_list, c = 'g', label = 'Train Score')\n",
    "plt.plot([1,2,3], test_score_list, c = 'b', label = 'Test Score')\n",
    "plt.legend()\n",
    "plt.xlabel('CV splits')\n",
    "plt.ylabel('LogisticRegression Accuracy')"
   ]
  },
  {
   "cell_type": "code",
   "execution_count": 53,
   "metadata": {},
   "outputs": [
    {
     "data": {
      "image/png": "[encoded data removed]",
      "text/plain": [
       "<Figure size 432x288 with 1 Axes>"
      ]
     },
     "metadata": {},
     "output_type": "display_data"
    }
   ],
   "source": [
    "y_pred_proba = lgr.predict_proba(X_test_cv)[::,1]\n",
    "fpr, tpr, _ = metrics.roc_curve(y_test_cv,  y_pred_proba)\n",
    "auc = metrics.roc_auc_score(y_test_cv, y_pred_proba)\n",
    "plt.plot(fpr,tpr,label=\"data 1, auc=\"+str(auc))\n",
    "plt.legend(loc=4)\n",
    "plt.show()"
   ]
  },
  {
   "cell_type": "code",
   "execution_count": 54,
   "metadata": {},
   "outputs": [
    {
     "data": {
      "text/html": [
       "<div>\n",
       "<style scoped>\n",
       "    .dataframe tbody tr th:only-of-type {\n",
       "        vertical-align: middle;\n",
       "    }\n",
       "\n",
       "    .dataframe tbody tr th {\n",
       "        vertical-align: top;\n",
       "    }\n",
       "\n",
       "    .dataframe thead th {\n",
       "        text-align: right;\n",
       "    }\n",
       "</style>\n",
       "<table border=\"1\" class=\"dataframe\">\n",
       "  <thead>\n",
       "    <tr style=\"text-align: right;\">\n",
       "      <th></th>\n",
       "      <th>Predicted Income not&gt;50k</th>\n",
       "      <th>Predicted Income&gt;50k</th>\n",
       "    </tr>\n",
       "  </thead>\n",
       "  <tbody>\n",
       "    <tr>\n",
       "      <th>True Income not&gt;50k</th>\n",
       "      <td>1540</td>\n",
       "      <td>13</td>\n",
       "    </tr>\n",
       "    <tr>\n",
       "      <th>True Income&gt;50k</th>\n",
       "      <td>84</td>\n",
       "      <td>29</td>\n",
       "    </tr>\n",
       "  </tbody>\n",
       "</table>\n",
       "</div>"
      ],
      "text/plain": [
       "                     Predicted Income not>50k  Predicted Income>50k\n",
       "True Income not>50k                      1540                    13\n",
       "True Income>50k                            84                    29"
      ]
     },
     "execution_count": 54,
     "metadata": {},
     "output_type": "execute_result"
    }
   ],
   "source": [
    "pd.DataFrame(\n",
    "    confusion_matrix(y_test_cv, y_test_preds),\n",
    "    columns=['Predicted Income not>50k', 'Predicted Income>50k'],\n",
    "    index=['True Income not>50k', 'True Income>50k']\n",
    ")"
   ]
  },
  {
   "cell_type": "markdown",
   "metadata": {},
   "source": [
    "# KNN Classifier"
   ]
  },
  {
   "cell_type": "code",
   "execution_count": 55,
   "metadata": {},
   "outputs": [
    {
     "name": "stdout",
     "output_type": "stream",
     "text": [
      "Grid search best score: 0.9356\n",
      "Grid search best parameters: {'n_neighbors': 9}\n"
     ]
    }
   ],
   "source": [
    "parameters = [{'n_neighbors':[1,2,3,4,5,6,7,8,9,10]}]\n",
    "\n",
    "grid_search = GridSearchCV(estimator = KNeighborsClassifier(), param_grid = parameters, scoring='accuracy', cv=3, n_jobs = -1)\n",
    "\n",
    "grid_search = grid_search.fit(X,y)\n",
    "\n",
    "print(\"Grid search best score:\", grid_search.best_score_)\n",
    "print(\"Grid search best parameters:\", grid_search.best_params_)"
   ]
  },
  {
   "cell_type": "code",
   "execution_count": 56,
   "metadata": {},
   "outputs": [],
   "source": [
    "kf = KFold(n_splits=3) # Define the split - into 6 folds \n",
    "\n",
    "train_score_list = []\n",
    "test_score_list = []\n",
    "train_AIC_score_list = []\n",
    "test_AIC_score_list = []\n",
    "train_BIC_score_list = []\n",
    "test_BIC_score_list = []\n",
    "sensitivity_train_list = []\n",
    "specificity_train_list = []\n",
    "sensitivity_test_list = []\n",
    "specificity_test_list = []\n",
    "precision_train_positive_class = []\n",
    "precision_train_negative_class = []\n",
    "precision_test_positive_class = []\n",
    "precision_test_negative_class = []\n",
    "recall_train_positive_class = []\n",
    "recall_train_negative_class = []\n",
    "recall_test_positive_class = []\n",
    "recall_test_negative_class = []\n",
    "support_train_positive_class = []\n",
    "support_train_negative_class = []\n",
    "support_test_positive_class = []\n",
    "support_test_negative_class = []\n",
    "f1_train_score_positive_class = []\n",
    "f1_train_score_negative_class = []\n",
    "f1_test_score_positive_class = []\n",
    "f1_test_score_negative_class = []\n",
    "\n",
    "for train_index, test_index in kf.split(X):\n",
    "    X_train_cv, X_test_cv = X.iloc[train_index], X.iloc[test_index]\n",
    "    y_train_cv, y_test_cv = y.iloc[train_index], y.iloc[test_index]\n",
    "    \n",
    "    knn = KNeighborsClassifier(grid_search.best_params_['n_neighbors'])\n",
    "    knn.fit(X_train_cv,y_train_cv)\n",
    "    train_score_list.append(knn.score(X_train_cv,y_train_cv))\n",
    "    test_score_list.append(knn.score(X_test_cv, y_test_cv))\n",
    "    \n",
    "    y_train_preds = knn.predict(X_train_cv)\n",
    "    y_test_preds = knn.predict(X_test_cv)\n",
    "    \n",
    "    resid_train = np.array([i for i in y_train_cv.values.tolist()]) - np.array(y_train_preds.tolist())\n",
    "    resid_test = np.array([i for i in y_test_cv.values.tolist()]) - np.array(y_test_preds.tolist())\n",
    "    sse_train = sum(resid_train**2)\n",
    "    sse_test = sum(resid_test**2)\n",
    "    k = len(X.columns.tolist())\n",
    "    n_train = y_train_cv.shape[0]\n",
    "    n_test = y_test_cv.shape[0]\n",
    "\n",
    "    AIC_train = (2*k) - (2*np.log(sse_train))\n",
    "    BIC_train = (n_train*np.log(sse_train/n_train)) + (k*np.log(n_train))\n",
    "    \n",
    "    AIC_test = (2*k) - (2*np.log(sse_test))\n",
    "    BIC_test = (n_test*np.log(sse_test/n_test)) + (k*np.log(n_test))\n",
    "    \n",
    "    train_AIC_score_list.append(AIC_train)\n",
    "    train_BIC_score_list.append(BIC_train)\n",
    "    test_AIC_score_list.append(AIC_test)\n",
    "    test_BIC_score_list.append(BIC_test)\n",
    "    \n",
    "    clf_report_train = classification_report(y_train_cv,y_train_preds,output_dict=True)\n",
    "    clf_report_test = classification_report(y_test_cv,y_test_preds,output_dict=True)\n",
    "    \n",
    "    sensitivity_train_list.append(clf_report_train['1']['recall'])\n",
    "    specificity_train_list.append(clf_report_train['0']['recall'])\n",
    "    sensitivity_test_list.append(clf_report_test['1']['recall'])\n",
    "    specificity_test_list.append(clf_report_test['0']['recall'])\n",
    "    precision_train_positive_class.append(clf_report_train['1']['precision'])\n",
    "    precision_train_negative_class.append(clf_report_train['0']['precision'])\n",
    "    precision_test_positive_class.append(clf_report_test['1']['precision'])\n",
    "    precision_test_negative_class.append(clf_report_test['0']['precision'])\n",
    "    recall_train_positive_class.append(clf_report_train['1']['recall'])\n",
    "    recall_train_negative_class.append(clf_report_train['0']['recall'])\n",
    "    recall_test_positive_class.append(clf_report_test['1']['recall'])\n",
    "    recall_test_negative_class.append(clf_report_test['0']['recall'])\n",
    "    support_train_positive_class.append(clf_report_train['1']['support'])\n",
    "    support_train_negative_class.append(clf_report_train['0']['support'])\n",
    "    support_test_positive_class.append(clf_report_test['1']['support'])\n",
    "    support_test_negative_class.append(clf_report_test['0']['support'])\n",
    "    f1_train_score_positive_class.append(clf_report_train['1']['f1-score'])\n",
    "    f1_train_score_negative_class.append(clf_report_train['0']['f1-score'])\n",
    "    f1_test_score_positive_class.append(clf_report_test['1']['f1-score'])\n",
    "    f1_test_score_negative_class.append(clf_report_test['0']['f1-score'])\n",
    "\n",
    "report_df = report_df.append({\"Classifier\":\"KNNClassifier\", \n",
    "                              \"Avg train accuracy\":sum(train_score_list) / 3, \"Avg test accuracy\":sum(test_score_list) / 3, \n",
    "                              \"Avg train AIC\":sum(train_AIC_score_list) / 3, \"Avg test AIC\":sum(test_AIC_score_list) / 3, \n",
    "                              \"Avg train BIC\":sum(train_BIC_score_list) / 3, \"Avg test BIC\":sum(test_BIC_score_list) / 3, \n",
    "                              \"Avg train sensitivity\" : sum(sensitivity_train_list) / 3, \"Avg test sensitivity\" : sum(sensitivity_test_list) / 3, \n",
    "                              \"Avg train specificity\" : sum(specificity_train_list) / 3, \"Avg test specificity\" : sum(specificity_test_list) / 3,\n",
    "                              \"Avg train precision for positive class\":sum(precision_train_positive_class) / 3, \"Avg test precision for positive class\":sum(precision_train_negative_class) / 3, \n",
    "                              \"Avg train precision for negative class\":sum(precision_test_positive_class) / 3, \"Avg test precision for negative class\":sum(precision_test_negative_class) / 3,\n",
    "                              \"Avg train recall for positive class\":sum(recall_train_positive_class) / 3, \"Avg test recall for positive class\":sum(recall_train_negative_class) / 3, \n",
    "                              \"Avg train recall for negative class\":sum(recall_test_positive_class) / 3, \"Avg test recall for negative class\":sum(recall_test_negative_class) / 3,\n",
    "                              \"Avg train support for positive class\":sum(support_train_positive_class) / 3, \"Avg test support for positive class\":sum(support_train_negative_class) / 3, \n",
    "                              \"Avg train support for negative class\":sum(support_test_positive_class) / 3, \"Avg test support for negative class\":sum(support_test_negative_class) / 3,\n",
    "                              \"Avg train f1-score for positive class\":sum(f1_train_score_positive_class) / 3, \"Avg test f1-score for positive class\":sum(f1_train_score_negative_class) / 3, \n",
    "                              \"Avg train f1-score for negative class\":sum(f1_test_score_positive_class) / 3, \"Avg test f1-score for negative class\":sum(f1_test_score_negative_class) / 3,\n",
    "                              \"Best Hyperparameters\" : grid_search.best_params_}, ignore_index=True)"
   ]
  },
  {
   "cell_type": "code",
   "execution_count": 57,
   "metadata": {},
   "outputs": [
    {
     "data": {
      "text/html": [
       "<div>\n",
       "<style scoped>\n",
       "    .dataframe tbody tr th:only-of-type {\n",
       "        vertical-align: middle;\n",
       "    }\n",
       "\n",
       "    .dataframe tbody tr th {\n",
       "        vertical-align: top;\n",
       "    }\n",
       "\n",
       "    .dataframe thead th {\n",
       "        text-align: right;\n",
       "    }\n",
       "</style>\n",
       "<table border=\"1\" class=\"dataframe\">\n",
       "  <thead>\n",
       "    <tr style=\"text-align: right;\">\n",
       "      <th></th>\n",
       "      <th>Classifier</th>\n",
       "      <th>Best Hyperparameters</th>\n",
       "      <th>Avg train accuracy</th>\n",
       "      <th>Avg train AIC</th>\n",
       "      <th>Avg train BIC</th>\n",
       "      <th>Avg train sensitivity</th>\n",
       "      <th>Avg train specificity</th>\n",
       "      <th>Avg train precision for positive class</th>\n",
       "      <th>Avg train precision for negative class</th>\n",
       "      <th>Avg train recall for positive class</th>\n",
       "      <th>Avg train recall for negative class</th>\n",
       "      <th>Avg train support for positive class</th>\n",
       "      <th>Avg train support for negative class</th>\n",
       "      <th>Avg train f1-score for positive class</th>\n",
       "      <th>Avg train f1-score for negative class</th>\n",
       "    </tr>\n",
       "  </thead>\n",
       "  <tbody>\n",
       "    <tr>\n",
       "      <th>0</th>\n",
       "      <td>LogisticRegression</td>\n",
       "      <td>{'C': 0.8, 'penalty': 'l1'}</td>\n",
       "      <td>0.9510</td>\n",
       "      <td>539.810174</td>\n",
       "      <td>-7825.344602</td>\n",
       "      <td>0.353453</td>\n",
       "      <td>0.993464</td>\n",
       "      <td>0.794353</td>\n",
       "      <td>0.690676</td>\n",
       "      <td>0.353453</td>\n",
       "      <td>0.309779</td>\n",
       "      <td>221.333333</td>\n",
       "      <td>110.666667</td>\n",
       "      <td>0.488869</td>\n",
       "      <td>0.426108</td>\n",
       "    </tr>\n",
       "    <tr>\n",
       "      <th>1</th>\n",
       "      <td>KNNClassifier</td>\n",
       "      <td>{'n_neighbors': 9}</td>\n",
       "      <td>0.9448</td>\n",
       "      <td>539.571094</td>\n",
       "      <td>-7426.871283</td>\n",
       "      <td>0.261500</td>\n",
       "      <td>0.993357</td>\n",
       "      <td>0.741443</td>\n",
       "      <td>0.522125</td>\n",
       "      <td>0.261500</td>\n",
       "      <td>0.187570</td>\n",
       "      <td>221.333333</td>\n",
       "      <td>110.666667</td>\n",
       "      <td>0.383958</td>\n",
       "      <td>0.274761</td>\n",
       "    </tr>\n",
       "  </tbody>\n",
       "</table>\n",
       "</div>"
      ],
      "text/plain": [
       "           Classifier         Best Hyperparameters  Avg train accuracy  \\\n",
       "0  LogisticRegression  {'C': 0.8, 'penalty': 'l1'}              0.9510   \n",
       "1       KNNClassifier           {'n_neighbors': 9}              0.9448   \n",
       "\n",
       "   Avg train AIC  Avg train BIC  Avg train sensitivity  Avg train specificity  \\\n",
       "0     539.810174   -7825.344602               0.353453               0.993464   \n",
       "1     539.571094   -7426.871283               0.261500               0.993357   \n",
       "\n",
       "   Avg train precision for positive class  \\\n",
       "0                                0.794353   \n",
       "1                                0.741443   \n",
       "\n",
       "   Avg train precision for negative class  \\\n",
       "0                                0.690676   \n",
       "1                                0.522125   \n",
       "\n",
       "   Avg train recall for positive class  Avg train recall for negative class  \\\n",
       "0                             0.353453                             0.309779   \n",
       "1                             0.261500                             0.187570   \n",
       "\n",
       "   Avg train support for positive class  Avg train support for negative class  \\\n",
       "0                            221.333333                            110.666667   \n",
       "1                            221.333333                            110.666667   \n",
       "\n",
       "   Avg train f1-score for positive class  \\\n",
       "0                               0.488869   \n",
       "1                               0.383958   \n",
       "\n",
       "   Avg train f1-score for negative class  \n",
       "0                               0.426108  \n",
       "1                               0.274761  "
      ]
     },
     "execution_count": 57,
     "metadata": {},
     "output_type": "execute_result"
    }
   ],
   "source": [
    "report_df[train_columns]"
   ]
  },
  {
   "cell_type": "code",
   "execution_count": 58,
   "metadata": {
    "scrolled": true
   },
   "outputs": [
    {
     "data": {
      "text/html": [
       "<div>\n",
       "<style scoped>\n",
       "    .dataframe tbody tr th:only-of-type {\n",
       "        vertical-align: middle;\n",
       "    }\n",
       "\n",
       "    .dataframe tbody tr th {\n",
       "        vertical-align: top;\n",
       "    }\n",
       "\n",
       "    .dataframe thead th {\n",
       "        text-align: right;\n",
       "    }\n",
       "</style>\n",
       "<table border=\"1\" class=\"dataframe\">\n",
       "  <thead>\n",
       "    <tr style=\"text-align: right;\">\n",
       "      <th></th>\n",
       "      <th>Classifier</th>\n",
       "      <th>Best Hyperparameters</th>\n",
       "      <th>Avg test accuracy</th>\n",
       "      <th>Avg test AIC</th>\n",
       "      <th>Avg test BIC</th>\n",
       "      <th>Avg test sensitivity</th>\n",
       "      <th>Avg test specificity</th>\n",
       "      <th>Avg test precision for positive class</th>\n",
       "      <th>Avg test precision for negative class</th>\n",
       "      <th>Avg test recall for positive class</th>\n",
       "      <th>Avg test recall for negative class</th>\n",
       "      <th>Avg test support for positive class</th>\n",
       "      <th>Avg test support for negative class</th>\n",
       "      <th>Avg test f1-score for positive class</th>\n",
       "      <th>Avg test f1-score for negative class</th>\n",
       "    </tr>\n",
       "  </thead>\n",
       "  <tbody>\n",
       "    <tr>\n",
       "      <th>0</th>\n",
       "      <td>LogisticRegression</td>\n",
       "      <td>{'C': 0.8, 'penalty': 'l1'}</td>\n",
       "      <td>0.944999</td>\n",
       "      <td>540.965681</td>\n",
       "      <td>-2795.611794</td>\n",
       "      <td>0.309779</td>\n",
       "      <td>0.990156</td>\n",
       "      <td>0.955791</td>\n",
       "      <td>0.952803</td>\n",
       "      <td>0.993464</td>\n",
       "      <td>0.990156</td>\n",
       "      <td>3112.0</td>\n",
       "      <td>1556.0</td>\n",
       "      <td>0.974263</td>\n",
       "      <td>0.971112</td>\n",
       "    </tr>\n",
       "    <tr>\n",
       "      <th>1</th>\n",
       "      <td>KNNClassifier</td>\n",
       "      <td>{'n_neighbors': 9}</td>\n",
       "      <td>0.934599</td>\n",
       "      <td>540.619327</td>\n",
       "      <td>-2506.982811</td>\n",
       "      <td>0.187570</td>\n",
       "      <td>0.987797</td>\n",
       "      <td>0.949823</td>\n",
       "      <td>0.944693</td>\n",
       "      <td>0.993357</td>\n",
       "      <td>0.987797</td>\n",
       "      <td>3112.0</td>\n",
       "      <td>1556.0</td>\n",
       "      <td>0.971099</td>\n",
       "      <td>0.965755</td>\n",
       "    </tr>\n",
       "  </tbody>\n",
       "</table>\n",
       "</div>"
      ],
      "text/plain": [
       "           Classifier         Best Hyperparameters  Avg test accuracy  \\\n",
       "0  LogisticRegression  {'C': 0.8, 'penalty': 'l1'}           0.944999   \n",
       "1       KNNClassifier           {'n_neighbors': 9}           0.934599   \n",
       "\n",
       "   Avg test AIC  Avg test BIC  Avg test sensitivity  Avg test specificity  \\\n",
       "0    540.965681  -2795.611794              0.309779              0.990156   \n",
       "1    540.619327  -2506.982811              0.187570              0.987797   \n",
       "\n",
       "   Avg test precision for positive class  \\\n",
       "0                               0.955791   \n",
       "1                               0.949823   \n",
       "\n",
       "   Avg test precision for negative class  Avg test recall for positive class  \\\n",
       "0                               0.952803                            0.993464   \n",
       "1                               0.944693                            0.993357   \n",
       "\n",
       "   Avg test recall for negative class  Avg test support for positive class  \\\n",
       "0                            0.990156                               3112.0   \n",
       "1                            0.987797                               3112.0   \n",
       "\n",
       "   Avg test support for negative class  Avg test f1-score for positive class  \\\n",
       "0                               1556.0                              0.974263   \n",
       "1                               1556.0                              0.971099   \n",
       "\n",
       "   Avg test f1-score for negative class  \n",
       "0                              0.971112  \n",
       "1                              0.965755  "
      ]
     },
     "execution_count": 58,
     "metadata": {},
     "output_type": "execute_result"
    }
   ],
   "source": [
    "report_df[test_columns]"
   ]
  },
  {
   "cell_type": "code",
   "execution_count": 59,
   "metadata": {},
   "outputs": [
    {
     "data": {
      "text/plain": [
       "Text(0, 0.5, 'KNN Classifier Score')"
      ]
     },
     "execution_count": 59,
     "metadata": {},
     "output_type": "execute_result"
    },
    {
     "data": {
      "image/png": "[encoded data removed]",
      "text/plain": [
       "<Figure size 432x288 with 1 Axes>"
      ]
     },
     "metadata": {},
     "output_type": "display_data"
    }
   ],
   "source": [
    "plt.plot([1,2,3],train_score_list, c = 'g', label = 'Train Score')\n",
    "plt.plot([1,2,3],test_score_list, c = 'b', label = 'Test Score')\n",
    "plt.legend()\n",
    "plt.xlabel('CV splits')\n",
    "plt.ylabel('KNN Classifier Score')"
   ]
  },
  {
   "cell_type": "code",
   "execution_count": 60,
   "metadata": {},
   "outputs": [
    {
     "data": {
      "image/png": "[encoded data removed]",
      "text/plain": [
       "<Figure size 432x288 with 1 Axes>"
      ]
     },
     "metadata": {},
     "output_type": "display_data"
    }
   ],
   "source": [
    "y_pred_proba = knn.predict_proba(X_test_cv)[::,1]\n",
    "fpr, tpr, _ = metrics.roc_curve(y_test_cv,  y_pred_proba)\n",
    "auc = metrics.roc_auc_score(y_test_cv, y_pred_proba)\n",
    "plt.plot(fpr,tpr,label=\"data 1, auc=\"+str(auc))\n",
    "plt.legend(loc=4)\n",
    "plt.show()"
   ]
  },
  {
   "cell_type": "code",
   "execution_count": 61,
   "metadata": {},
   "outputs": [
    {
     "data": {
      "text/html": [
       "<div>\n",
       "<style scoped>\n",
       "    .dataframe tbody tr th:only-of-type {\n",
       "        vertical-align: middle;\n",
       "    }\n",
       "\n",
       "    .dataframe tbody tr th {\n",
       "        vertical-align: top;\n",
       "    }\n",
       "\n",
       "    .dataframe thead th {\n",
       "        text-align: right;\n",
       "    }\n",
       "</style>\n",
       "<table border=\"1\" class=\"dataframe\">\n",
       "  <thead>\n",
       "    <tr style=\"text-align: right;\">\n",
       "      <th></th>\n",
       "      <th>Predicted Income not&gt;50k</th>\n",
       "      <th>Predicted Income&gt;50k</th>\n",
       "    </tr>\n",
       "  </thead>\n",
       "  <tbody>\n",
       "    <tr>\n",
       "      <th>True Income not&gt;50k</th>\n",
       "      <td>1534</td>\n",
       "      <td>19</td>\n",
       "    </tr>\n",
       "    <tr>\n",
       "      <th>True Income&gt;50k</th>\n",
       "      <td>96</td>\n",
       "      <td>17</td>\n",
       "    </tr>\n",
       "  </tbody>\n",
       "</table>\n",
       "</div>"
      ],
      "text/plain": [
       "                     Predicted Income not>50k  Predicted Income>50k\n",
       "True Income not>50k                      1534                    19\n",
       "True Income>50k                            96                    17"
      ]
     },
     "execution_count": 61,
     "metadata": {},
     "output_type": "execute_result"
    }
   ],
   "source": [
    "pd.DataFrame(\n",
    "    confusion_matrix(y_test_cv, y_test_preds),\n",
    "    columns=['Predicted Income not>50k', 'Predicted Income>50k'],\n",
    "    index=['True Income not>50k', 'True Income>50k']\n",
    ")"
   ]
  },
  {
   "cell_type": "markdown",
   "metadata": {},
   "source": [
    "# LINEAR SVC Classifier"
   ]
  },
  {
   "cell_type": "code",
   "execution_count": 62,
   "metadata": {},
   "outputs": [
    {
     "name": "stdout",
     "output_type": "stream",
     "text": [
      "Grid search best score: 0.9416\n",
      "Grid search best parameters: {'C': 0.1}\n"
     ]
    }
   ],
   "source": [
    "parameters = [{'C':[0.001, 0.01, 0.1, 1, 10, 100]}]\n",
    "\n",
    "grid_search = GridSearchCV(estimator = LinearSVC(), param_grid = parameters, scoring='accuracy', cv=3, n_jobs = -1)\n",
    "\n",
    "grid_search = grid_search.fit(X,y)\n",
    "\n",
    "print(\"Grid search best score:\", grid_search.best_score_)\n",
    "print(\"Grid search best parameters:\", grid_search.best_params_)"
   ]
  },
  {
   "cell_type": "code",
   "execution_count": 63,
   "metadata": {},
   "outputs": [],
   "source": [
    "kf = KFold(n_splits=3) # Define the split - into 6 folds \n",
    "\n",
    "train_score_list = []\n",
    "test_score_list = []\n",
    "train_AIC_score_list = []\n",
    "test_AIC_score_list = []\n",
    "train_BIC_score_list = []\n",
    "test_BIC_score_list = []\n",
    "sensitivity_train_list = []\n",
    "specificity_train_list = []\n",
    "sensitivity_test_list = []\n",
    "specificity_test_list = []\n",
    "precision_train_positive_class = []\n",
    "precision_train_negative_class = []\n",
    "precision_test_positive_class = []\n",
    "precision_test_negative_class = []\n",
    "recall_train_positive_class = []\n",
    "recall_train_negative_class = []\n",
    "recall_test_positive_class = []\n",
    "recall_test_negative_class = []\n",
    "support_train_positive_class = []\n",
    "support_train_negative_class = []\n",
    "support_test_positive_class = []\n",
    "support_test_negative_class = []\n",
    "f1_train_score_positive_class = []\n",
    "f1_train_score_negative_class = []\n",
    "f1_test_score_positive_class = []\n",
    "f1_test_score_negative_class = []\n",
    "\n",
    "for train_index, test_index in kf.split(X):\n",
    "    X_train_cv, X_test_cv = X.iloc[train_index], X.iloc[test_index]\n",
    "    y_train_cv, y_test_cv = y.iloc[train_index], y.iloc[test_index]\n",
    "    \n",
    "    lsvc = LinearSVC(C=grid_search.best_params_['C'])\n",
    "    lsvc.fit(X_train_cv,y_train_cv)\n",
    "    train_score_list.append(lsvc.score(X_train_cv,y_train_cv))\n",
    "    test_score_list.append(lsvc.score(X_test_cv, y_test_cv))\n",
    "    \n",
    "    y_train_preds = lsvc.predict(X_train_cv)\n",
    "    y_test_preds = lsvc.predict(X_test_cv)\n",
    "    \n",
    "    resid_train = np.array([i for i in y_train_cv.values.tolist()]) - np.array(y_train_preds.tolist())\n",
    "    resid_test = np.array([i for i in y_test_cv.values.tolist()]) - np.array(y_test_preds.tolist())\n",
    "    sse_train = sum(resid_train**2)\n",
    "    sse_test = sum(resid_test**2)\n",
    "    k = len(X.columns.tolist())\n",
    "    n_train = y_train_cv.shape[0]\n",
    "    n_test = y_test_cv.shape[0]\n",
    "\n",
    "    AIC_train = (2*k) - (2*np.log(sse_train))\n",
    "    BIC_train = (n_train*np.log(sse_train/n_train)) + (k*np.log(n_train))\n",
    "    \n",
    "    AIC_test = (2*k) - (2*np.log(sse_test))\n",
    "    BIC_test = (n_test*np.log(sse_test/n_test)) + (k*np.log(n_test))\n",
    "    \n",
    "    train_AIC_score_list.append(AIC_train)\n",
    "    train_BIC_score_list.append(BIC_train)\n",
    "    test_AIC_score_list.append(AIC_test)\n",
    "    test_BIC_score_list.append(BIC_test)\n",
    "    \n",
    "    clf_report_train = classification_report(y_train_cv,y_train_preds,output_dict=True)\n",
    "    clf_report_test = classification_report(y_test_cv,y_test_preds,output_dict=True)\n",
    "    \n",
    "    sensitivity_train_list.append(clf_report_train['1']['recall'])\n",
    "    specificity_train_list.append(clf_report_train['0']['recall'])\n",
    "    sensitivity_test_list.append(clf_report_test['1']['recall'])\n",
    "    specificity_test_list.append(clf_report_test['0']['recall'])\n",
    "    precision_train_positive_class.append(clf_report_train['1']['precision'])\n",
    "    precision_train_negative_class.append(clf_report_train['0']['precision'])\n",
    "    precision_test_positive_class.append(clf_report_test['1']['precision'])\n",
    "    precision_test_negative_class.append(clf_report_test['0']['precision'])\n",
    "    recall_train_positive_class.append(clf_report_train['1']['recall'])\n",
    "    recall_train_negative_class.append(clf_report_train['0']['recall'])\n",
    "    recall_test_positive_class.append(clf_report_test['1']['recall'])\n",
    "    recall_test_negative_class.append(clf_report_test['0']['recall'])\n",
    "    support_train_positive_class.append(clf_report_train['1']['support'])\n",
    "    support_train_negative_class.append(clf_report_train['0']['support'])\n",
    "    support_test_positive_class.append(clf_report_test['1']['support'])\n",
    "    support_test_negative_class.append(clf_report_test['0']['support'])\n",
    "    f1_train_score_positive_class.append(clf_report_train['1']['f1-score'])\n",
    "    f1_train_score_negative_class.append(clf_report_train['0']['f1-score'])\n",
    "    f1_test_score_positive_class.append(clf_report_test['1']['f1-score'])\n",
    "    f1_test_score_negative_class.append(clf_report_test['0']['f1-score'])\n",
    "\n",
    "report_df = report_df.append({\"Classifier\":\"LinearSVC\", \n",
    "                              \"Avg train accuracy\":sum(train_score_list) / 3, \"Avg test accuracy\":sum(test_score_list) / 3, \n",
    "                              \"Avg train AIC\":sum(train_AIC_score_list) / 3, \"Avg test AIC\":sum(test_AIC_score_list) / 3, \n",
    "                              \"Avg train BIC\":sum(train_BIC_score_list) / 3, \"Avg test BIC\":sum(test_BIC_score_list) / 3, \n",
    "                              \"Avg train sensitivity\" : sum(sensitivity_train_list) / 3, \"Avg test sensitivity\" : sum(sensitivity_test_list) / 3, \n",
    "                              \"Avg train specificity\" : sum(specificity_train_list) / 3, \"Avg test specificity\" : sum(specificity_test_list) / 3,\n",
    "                              \"Avg train precision for positive class\":sum(precision_train_positive_class) / 3, \"Avg test precision for positive class\":sum(precision_train_negative_class) / 3, \n",
    "                              \"Avg train precision for negative class\":sum(precision_test_positive_class) / 3, \"Avg test precision for negative class\":sum(precision_test_negative_class) / 3,\n",
    "                              \"Avg train recall for positive class\":sum(recall_train_positive_class) / 3, \"Avg test recall for positive class\":sum(recall_train_negative_class) / 3, \n",
    "                              \"Avg train recall for negative class\":sum(recall_test_positive_class) / 3, \"Avg test recall for negative class\":sum(recall_test_negative_class) / 3,\n",
    "                              \"Avg train support for positive class\":sum(support_train_positive_class) / 3, \"Avg test support for positive class\":sum(support_train_negative_class) / 3, \n",
    "                              \"Avg train support for negative class\":sum(support_test_positive_class) / 3, \"Avg test support for negative class\":sum(support_test_negative_class) / 3,\n",
    "                              \"Avg train f1-score for positive class\":sum(f1_train_score_positive_class) / 3, \"Avg test f1-score for positive class\":sum(f1_train_score_negative_class) / 3, \n",
    "                              \"Avg train f1-score for negative class\":sum(f1_test_score_positive_class) / 3, \"Avg test f1-score for negative class\":sum(f1_test_score_negative_class) / 3,\n",
    "                              \"Best Hyperparameters\" : grid_search.best_params_}, ignore_index=True)"
   ]
  },
  {
   "cell_type": "code",
   "execution_count": 64,
   "metadata": {},
   "outputs": [
    {
     "data": {
      "text/html": [
       "<div>\n",
       "<style scoped>\n",
       "    .dataframe tbody tr th:only-of-type {\n",
       "        vertical-align: middle;\n",
       "    }\n",
       "\n",
       "    .dataframe tbody tr th {\n",
       "        vertical-align: top;\n",
       "    }\n",
       "\n",
       "    .dataframe thead th {\n",
       "        text-align: right;\n",
       "    }\n",
       "</style>\n",
       "<table border=\"1\" class=\"dataframe\">\n",
       "  <thead>\n",
       "    <tr style=\"text-align: right;\">\n",
       "      <th></th>\n",
       "      <th>Classifier</th>\n",
       "      <th>Best Hyperparameters</th>\n",
       "      <th>Avg train accuracy</th>\n",
       "      <th>Avg train AIC</th>\n",
       "      <th>Avg train BIC</th>\n",
       "      <th>Avg train sensitivity</th>\n",
       "      <th>Avg train specificity</th>\n",
       "      <th>Avg train precision for positive class</th>\n",
       "      <th>Avg train precision for negative class</th>\n",
       "      <th>Avg train recall for positive class</th>\n",
       "      <th>Avg train recall for negative class</th>\n",
       "      <th>Avg train support for positive class</th>\n",
       "      <th>Avg train support for negative class</th>\n",
       "      <th>Avg train f1-score for positive class</th>\n",
       "      <th>Avg train f1-score for negative class</th>\n",
       "    </tr>\n",
       "  </thead>\n",
       "  <tbody>\n",
       "    <tr>\n",
       "      <th>0</th>\n",
       "      <td>LogisticRegression</td>\n",
       "      <td>{'C': 0.8, 'penalty': 'l1'}</td>\n",
       "      <td>0.9510</td>\n",
       "      <td>539.810174</td>\n",
       "      <td>-7825.344602</td>\n",
       "      <td>0.353453</td>\n",
       "      <td>0.993464</td>\n",
       "      <td>0.794353</td>\n",
       "      <td>0.690676</td>\n",
       "      <td>0.353453</td>\n",
       "      <td>0.309779</td>\n",
       "      <td>221.333333</td>\n",
       "      <td>110.666667</td>\n",
       "      <td>0.488869</td>\n",
       "      <td>0.426108</td>\n",
       "    </tr>\n",
       "    <tr>\n",
       "      <th>1</th>\n",
       "      <td>KNNClassifier</td>\n",
       "      <td>{'n_neighbors': 9}</td>\n",
       "      <td>0.9448</td>\n",
       "      <td>539.571094</td>\n",
       "      <td>-7426.871283</td>\n",
       "      <td>0.261500</td>\n",
       "      <td>0.993357</td>\n",
       "      <td>0.741443</td>\n",
       "      <td>0.522125</td>\n",
       "      <td>0.261500</td>\n",
       "      <td>0.187570</td>\n",
       "      <td>221.333333</td>\n",
       "      <td>110.666667</td>\n",
       "      <td>0.383958</td>\n",
       "      <td>0.274761</td>\n",
       "    </tr>\n",
       "    <tr>\n",
       "      <th>2</th>\n",
       "      <td>LinearSVC</td>\n",
       "      <td>{'C': 0.1}</td>\n",
       "      <td>0.9489</td>\n",
       "      <td>539.725070</td>\n",
       "      <td>-7683.495593</td>\n",
       "      <td>0.294699</td>\n",
       "      <td>0.995393</td>\n",
       "      <td>0.820258</td>\n",
       "      <td>0.671987</td>\n",
       "      <td>0.294699</td>\n",
       "      <td>0.239456</td>\n",
       "      <td>221.333333</td>\n",
       "      <td>110.666667</td>\n",
       "      <td>0.433190</td>\n",
       "      <td>0.349408</td>\n",
       "    </tr>\n",
       "  </tbody>\n",
       "</table>\n",
       "</div>"
      ],
      "text/plain": [
       "           Classifier         Best Hyperparameters  Avg train accuracy  \\\n",
       "0  LogisticRegression  {'C': 0.8, 'penalty': 'l1'}              0.9510   \n",
       "1       KNNClassifier           {'n_neighbors': 9}              0.9448   \n",
       "2           LinearSVC                   {'C': 0.1}              0.9489   \n",
       "\n",
       "   Avg train AIC  Avg train BIC  Avg train sensitivity  Avg train specificity  \\\n",
       "0     539.810174   -7825.344602               0.353453               0.993464   \n",
       "1     539.571094   -7426.871283               0.261500               0.993357   \n",
       "2     539.725070   -7683.495593               0.294699               0.995393   \n",
       "\n",
       "   Avg train precision for positive class  \\\n",
       "0                                0.794353   \n",
       "1                                0.741443   \n",
       "2                                0.820258   \n",
       "\n",
       "   Avg train precision for negative class  \\\n",
       "0                                0.690676   \n",
       "1                                0.522125   \n",
       "2                                0.671987   \n",
       "\n",
       "   Avg train recall for positive class  Avg train recall for negative class  \\\n",
       "0                             0.353453                             0.309779   \n",
       "1                             0.261500                             0.187570   \n",
       "2                             0.294699                             0.239456   \n",
       "\n",
       "   Avg train support for positive class  Avg train support for negative class  \\\n",
       "0                            221.333333                            110.666667   \n",
       "1                            221.333333                            110.666667   \n",
       "2                            221.333333                            110.666667   \n",
       "\n",
       "   Avg train f1-score for positive class  \\\n",
       "0                               0.488869   \n",
       "1                               0.383958   \n",
       "2                               0.433190   \n",
       "\n",
       "   Avg train f1-score for negative class  \n",
       "0                               0.426108  \n",
       "1                               0.274761  \n",
       "2                               0.349408  "
      ]
     },
     "execution_count": 64,
     "metadata": {},
     "output_type": "execute_result"
    }
   ],
   "source": [
    "report_df[train_columns]"
   ]
  },
  {
   "cell_type": "code",
   "execution_count": 65,
   "metadata": {
    "scrolled": true
   },
   "outputs": [
    {
     "data": {
      "text/html": [
       "<div>\n",
       "<style scoped>\n",
       "    .dataframe tbody tr th:only-of-type {\n",
       "        vertical-align: middle;\n",
       "    }\n",
       "\n",
       "    .dataframe tbody tr th {\n",
       "        vertical-align: top;\n",
       "    }\n",
       "\n",
       "    .dataframe thead th {\n",
       "        text-align: right;\n",
       "    }\n",
       "</style>\n",
       "<table border=\"1\" class=\"dataframe\">\n",
       "  <thead>\n",
       "    <tr style=\"text-align: right;\">\n",
       "      <th></th>\n",
       "      <th>Classifier</th>\n",
       "      <th>Best Hyperparameters</th>\n",
       "      <th>Avg test accuracy</th>\n",
       "      <th>Avg test AIC</th>\n",
       "      <th>Avg test BIC</th>\n",
       "      <th>Avg test sensitivity</th>\n",
       "      <th>Avg test specificity</th>\n",
       "      <th>Avg test precision for positive class</th>\n",
       "      <th>Avg test precision for negative class</th>\n",
       "      <th>Avg test recall for positive class</th>\n",
       "      <th>Avg test recall for negative class</th>\n",
       "      <th>Avg test support for positive class</th>\n",
       "      <th>Avg test support for negative class</th>\n",
       "      <th>Avg test f1-score for positive class</th>\n",
       "      <th>Avg test f1-score for negative class</th>\n",
       "    </tr>\n",
       "  </thead>\n",
       "  <tbody>\n",
       "    <tr>\n",
       "      <th>0</th>\n",
       "      <td>LogisticRegression</td>\n",
       "      <td>{'C': 0.8, 'penalty': 'l1'}</td>\n",
       "      <td>0.944999</td>\n",
       "      <td>540.965681</td>\n",
       "      <td>-2795.611794</td>\n",
       "      <td>0.309779</td>\n",
       "      <td>0.990156</td>\n",
       "      <td>0.955791</td>\n",
       "      <td>0.952803</td>\n",
       "      <td>0.993464</td>\n",
       "      <td>0.990156</td>\n",
       "      <td>3112.0</td>\n",
       "      <td>1556.0</td>\n",
       "      <td>0.974263</td>\n",
       "      <td>0.971112</td>\n",
       "    </tr>\n",
       "    <tr>\n",
       "      <th>1</th>\n",
       "      <td>KNNClassifier</td>\n",
       "      <td>{'n_neighbors': 9}</td>\n",
       "      <td>0.934599</td>\n",
       "      <td>540.619327</td>\n",
       "      <td>-2506.982811</td>\n",
       "      <td>0.187570</td>\n",
       "      <td>0.987797</td>\n",
       "      <td>0.949823</td>\n",
       "      <td>0.944693</td>\n",
       "      <td>0.993357</td>\n",
       "      <td>0.987797</td>\n",
       "      <td>3112.0</td>\n",
       "      <td>1556.0</td>\n",
       "      <td>0.971099</td>\n",
       "      <td>0.965755</td>\n",
       "    </tr>\n",
       "    <tr>\n",
       "      <th>2</th>\n",
       "      <td>LinearSVC</td>\n",
       "      <td>{'C': 0.1}</td>\n",
       "      <td>0.941799</td>\n",
       "      <td>540.855824</td>\n",
       "      <td>-2704.072101</td>\n",
       "      <td>0.239456</td>\n",
       "      <td>0.991865</td>\n",
       "      <td>0.952054</td>\n",
       "      <td>0.948210</td>\n",
       "      <td>0.995393</td>\n",
       "      <td>0.991865</td>\n",
       "      <td>3112.0</td>\n",
       "      <td>1556.0</td>\n",
       "      <td>0.973241</td>\n",
       "      <td>0.969533</td>\n",
       "    </tr>\n",
       "  </tbody>\n",
       "</table>\n",
       "</div>"
      ],
      "text/plain": [
       "           Classifier         Best Hyperparameters  Avg test accuracy  \\\n",
       "0  LogisticRegression  {'C': 0.8, 'penalty': 'l1'}           0.944999   \n",
       "1       KNNClassifier           {'n_neighbors': 9}           0.934599   \n",
       "2           LinearSVC                   {'C': 0.1}           0.941799   \n",
       "\n",
       "   Avg test AIC  Avg test BIC  Avg test sensitivity  Avg test specificity  \\\n",
       "0    540.965681  -2795.611794              0.309779              0.990156   \n",
       "1    540.619327  -2506.982811              0.187570              0.987797   \n",
       "2    540.855824  -2704.072101              0.239456              0.991865   \n",
       "\n",
       "   Avg test precision for positive class  \\\n",
       "0                               0.955791   \n",
       "1                               0.949823   \n",
       "2                               0.952054   \n",
       "\n",
       "   Avg test precision for negative class  Avg test recall for positive class  \\\n",
       "0                               0.952803                            0.993464   \n",
       "1                               0.944693                            0.993357   \n",
       "2                               0.948210                            0.995393   \n",
       "\n",
       "   Avg test recall for negative class  Avg test support for positive class  \\\n",
       "0                            0.990156                               3112.0   \n",
       "1                            0.987797                               3112.0   \n",
       "2                            0.991865                               3112.0   \n",
       "\n",
       "   Avg test support for negative class  Avg test f1-score for positive class  \\\n",
       "0                               1556.0                              0.974263   \n",
       "1                               1556.0                              0.971099   \n",
       "2                               1556.0                              0.973241   \n",
       "\n",
       "   Avg test f1-score for negative class  \n",
       "0                              0.971112  \n",
       "1                              0.965755  \n",
       "2                              0.969533  "
      ]
     },
     "execution_count": 65,
     "metadata": {},
     "output_type": "execute_result"
    }
   ],
   "source": [
    "report_df[test_columns]"
   ]
  },
  {
   "cell_type": "code",
   "execution_count": 66,
   "metadata": {},
   "outputs": [
    {
     "data": {
      "text/plain": [
       "Text(0, 0.5, 'LinearSVC Classifier Score')"
      ]
     },
     "execution_count": 66,
     "metadata": {},
     "output_type": "execute_result"
    },
    {
     "data": {
      "image/png": "[encoded data removed]",
      "text/plain": [
       "<Figure size 432x288 with 1 Axes>"
      ]
     },
     "metadata": {},
     "output_type": "display_data"
    }
   ],
   "source": [
    "plt.plot([1,2,3], train_score_list, c = 'g', label = 'Train Score')\n",
    "plt.plot([1,2,3], test_score_list, c = 'b', label = 'Test Score')\n",
    "plt.legend()\n",
    "plt.xlabel('CV splits')\n",
    "plt.ylabel('LinearSVC Classifier Score')"
   ]
  },
  {
   "cell_type": "code",
   "execution_count": 67,
   "metadata": {
    "scrolled": true
   },
   "outputs": [
    {
     "data": {
      "text/plain": [
       "<matplotlib.legend.Legend at 0x180f312b550>"
      ]
     },
     "execution_count": 67,
     "metadata": {},
     "output_type": "execute_result"
    },
    {
     "data": {
      "image/png": "[encoded data removed]",
      "text/plain": [
       "<Figure size 432x288 with 1 Axes>"
      ]
     },
     "metadata": {
      "needs_background": "light"
     },
     "output_type": "display_data"
    }
   ],
   "source": [
    "%matplotlib inline\n",
    "\n",
    "from sklearn.metrics import roc_curve\n",
    "fpr, tpr, thresholds = roc_curve(y_test_cv, lsvc.decision_function(X_test_cv))\n",
    "\n",
    "plt.plot(fpr, tpr, label=\"ROC Curve\")\n",
    "plt.xlabel(\"FPR\")\n",
    "plt.ylabel(\"TPR (recall)\")\n",
    "# find threshold closest to zero\n",
    "close_zero = np.argmin(np.abs(thresholds))\n",
    "plt.plot(fpr[close_zero], tpr[close_zero], 'o', markersize=10,\n",
    "         label=\"threshold zero\", fillstyle=\"none\", c='k', mew=2)\n",
    "plt.legend(loc=4)"
   ]
  },
  {
   "cell_type": "code",
   "execution_count": 68,
   "metadata": {},
   "outputs": [
    {
     "data": {
      "text/html": [
       "<div>\n",
       "<style scoped>\n",
       "    .dataframe tbody tr th:only-of-type {\n",
       "        vertical-align: middle;\n",
       "    }\n",
       "\n",
       "    .dataframe tbody tr th {\n",
       "        vertical-align: top;\n",
       "    }\n",
       "\n",
       "    .dataframe thead th {\n",
       "        text-align: right;\n",
       "    }\n",
       "</style>\n",
       "<table border=\"1\" class=\"dataframe\">\n",
       "  <thead>\n",
       "    <tr style=\"text-align: right;\">\n",
       "      <th></th>\n",
       "      <th>Predicted Income not&gt;50k</th>\n",
       "      <th>Predicted Income&gt;50k</th>\n",
       "    </tr>\n",
       "  </thead>\n",
       "  <tbody>\n",
       "    <tr>\n",
       "      <th>True Income not&gt;50k</th>\n",
       "      <td>1543</td>\n",
       "      <td>10</td>\n",
       "    </tr>\n",
       "    <tr>\n",
       "      <th>True Income&gt;50k</th>\n",
       "      <td>95</td>\n",
       "      <td>18</td>\n",
       "    </tr>\n",
       "  </tbody>\n",
       "</table>\n",
       "</div>"
      ],
      "text/plain": [
       "                     Predicted Income not>50k  Predicted Income>50k\n",
       "True Income not>50k                      1543                    10\n",
       "True Income>50k                            95                    18"
      ]
     },
     "execution_count": 68,
     "metadata": {},
     "output_type": "execute_result"
    }
   ],
   "source": [
    "pd.DataFrame(\n",
    "    confusion_matrix(y_test_cv, y_test_preds),\n",
    "    columns=['Predicted Income not>50k', 'Predicted Income>50k'],\n",
    "    index=['True Income not>50k', 'True Income>50k']\n",
    ")"
   ]
  },
  {
   "cell_type": "markdown",
   "metadata": {},
   "source": [
    "# Kernalized SVC Classifier"
   ]
  },
  {
   "cell_type": "code",
   "execution_count": 69,
   "metadata": {},
   "outputs": [
    {
     "name": "stdout",
     "output_type": "stream",
     "text": [
      "Grid search best score: 0.9438\n",
      "Grid search best parameters: {'C': 100, 'gamma': 0.001, 'kernel': 'linear'}\n"
     ]
    }
   ],
   "source": [
    "parameters = [{'C':[0.001, 0.01, 0.1, 1, 10, 100], 'kernel':['rbf','linear','poly'], 'gamma':[0.001, 0.01, 0.1, 1, 10, 100]}]\n",
    "\n",
    "grid_search = GridSearchCV(estimator = SVC(), param_grid = parameters, scoring='accuracy', cv=3, n_jobs = -1)\n",
    "\n",
    "grid_search = grid_search.fit(X,y)\n",
    "\n",
    "print(\"Grid search best score:\", grid_search.best_score_)\n",
    "print(\"Grid search best parameters:\", grid_search.best_params_)"
   ]
  },
  {
   "cell_type": "code",
   "execution_count": 70,
   "metadata": {},
   "outputs": [],
   "source": [
    "kf = KFold(n_splits=3) # Define the split - into 6 folds \n",
    "\n",
    "train_score_list = []\n",
    "test_score_list = []\n",
    "train_AIC_score_list = []\n",
    "test_AIC_score_list = []\n",
    "train_BIC_score_list = []\n",
    "test_BIC_score_list = []\n",
    "sensitivity_train_list = []\n",
    "specificity_train_list = []\n",
    "sensitivity_test_list = []\n",
    "specificity_test_list = []\n",
    "precision_train_positive_class = []\n",
    "precision_train_negative_class = []\n",
    "precision_test_positive_class = []\n",
    "precision_test_negative_class = []\n",
    "recall_train_positive_class = []\n",
    "recall_train_negative_class = []\n",
    "recall_test_positive_class = []\n",
    "recall_test_negative_class = []\n",
    "support_train_positive_class = []\n",
    "support_train_negative_class = []\n",
    "support_test_positive_class = []\n",
    "support_test_negative_class = []\n",
    "f1_train_score_positive_class = []\n",
    "f1_train_score_negative_class = []\n",
    "f1_test_score_positive_class = []\n",
    "f1_test_score_negative_class = []\n",
    "\n",
    "for train_index, test_index in kf.split(X):\n",
    "    X_train_cv, X_test_cv = X.iloc[train_index], X.iloc[test_index]\n",
    "    y_train_cv, y_test_cv = y.iloc[train_index], y.iloc[test_index]\n",
    "    \n",
    "    ksvc = SVC(C=grid_search.best_params_['C'], gamma=grid_search.best_params_['gamma'], kernel=grid_search.best_params_['kernel'])\n",
    "    ksvc.fit(X_train_cv,y_train_cv)\n",
    "    train_score_list.append(ksvc.score(X_train_cv,y_train_cv))\n",
    "    test_score_list.append(ksvc.score(X_test_cv, y_test_cv))\n",
    "    \n",
    "    y_train_preds = ksvc.predict(X_train_cv)\n",
    "    y_test_preds = ksvc.predict(X_test_cv)\n",
    "    \n",
    "    resid_train = np.array([i for i in y_train_cv.values.tolist()]) - np.array(y_train_preds.tolist())\n",
    "    resid_test = np.array([i for i in y_test_cv.values.tolist()]) - np.array(y_test_preds.tolist())\n",
    "    sse_train = sum(resid_train**2)\n",
    "    sse_test = sum(resid_test**2)\n",
    "    k = len(X.columns.tolist())\n",
    "    n_train = y_train_cv.shape[0]\n",
    "    n_test = y_test_cv.shape[0]\n",
    "\n",
    "    AIC_train = (2*k) - (2*np.log(sse_train))\n",
    "    BIC_train = (n_train*np.log(sse_train/n_train)) + (k*np.log(n_train))\n",
    "    \n",
    "    AIC_test = (2*k) - (2*np.log(sse_test))\n",
    "    BIC_test = (n_test*np.log(sse_test/n_test)) + (k*np.log(n_test))\n",
    "    \n",
    "    train_AIC_score_list.append(AIC_train)\n",
    "    train_BIC_score_list.append(BIC_train)\n",
    "    test_AIC_score_list.append(AIC_test)\n",
    "    test_BIC_score_list.append(BIC_test)\n",
    "    \n",
    "    clf_report_train = classification_report(y_train_cv,y_train_preds,output_dict=True)\n",
    "    clf_report_test = classification_report(y_test_cv,y_test_preds,output_dict=True)\n",
    "    \n",
    "    sensitivity_train_list.append(clf_report_train['1']['recall'])\n",
    "    specificity_train_list.append(clf_report_train['0']['recall'])\n",
    "    sensitivity_test_list.append(clf_report_test['1']['recall'])\n",
    "    specificity_test_list.append(clf_report_test['0']['recall'])\n",
    "    precision_train_positive_class.append(clf_report_train['1']['precision'])\n",
    "    precision_train_negative_class.append(clf_report_train['0']['precision'])\n",
    "    precision_test_positive_class.append(clf_report_test['1']['precision'])\n",
    "    precision_test_negative_class.append(clf_report_test['0']['precision'])\n",
    "    recall_train_positive_class.append(clf_report_train['1']['recall'])\n",
    "    recall_train_negative_class.append(clf_report_train['0']['recall'])\n",
    "    recall_test_positive_class.append(clf_report_test['1']['recall'])\n",
    "    recall_test_negative_class.append(clf_report_test['0']['recall'])\n",
    "    support_train_positive_class.append(clf_report_train['1']['support'])\n",
    "    support_train_negative_class.append(clf_report_train['0']['support'])\n",
    "    support_test_positive_class.append(clf_report_test['1']['support'])\n",
    "    support_test_negative_class.append(clf_report_test['0']['support'])\n",
    "    f1_train_score_positive_class.append(clf_report_train['1']['f1-score'])\n",
    "    f1_train_score_negative_class.append(clf_report_train['0']['f1-score'])\n",
    "    f1_test_score_positive_class.append(clf_report_test['1']['f1-score'])\n",
    "    f1_test_score_negative_class.append(clf_report_test['0']['f1-score'])\n",
    "\n",
    "report_df = report_df.append({\"Classifier\":\"KernalizedSVC\", \n",
    "                              \"Avg train accuracy\":sum(train_score_list) / 3, \"Avg test accuracy\":sum(test_score_list) / 3, \n",
    "                              \"Avg train AIC\":sum(train_AIC_score_list) / 3, \"Avg test AIC\":sum(test_AIC_score_list) / 3, \n",
    "                              \"Avg train BIC\":sum(train_BIC_score_list) / 3, \"Avg test BIC\":sum(test_BIC_score_list) / 3, \n",
    "                              \"Avg train sensitivity\" : sum(sensitivity_train_list) / 3, \"Avg test sensitivity\" : sum(sensitivity_test_list) / 3, \n",
    "                              \"Avg train specificity\" : sum(specificity_train_list) / 3, \"Avg test specificity\" : sum(specificity_test_list) / 3,\n",
    "                              \"Avg train precision for positive class\":sum(precision_train_positive_class) / 3, \"Avg test precision for positive class\":sum(precision_train_negative_class) / 3, \n",
    "                              \"Avg train precision for negative class\":sum(precision_test_positive_class) / 3, \"Avg test precision for negative class\":sum(precision_test_negative_class) / 3,\n",
    "                              \"Avg train recall for positive class\":sum(recall_train_positive_class) / 3, \"Avg test recall for positive class\":sum(recall_train_negative_class) / 3, \n",
    "                              \"Avg train recall for negative class\":sum(recall_test_positive_class) / 3, \"Avg test recall for negative class\":sum(recall_test_negative_class) / 3,\n",
    "                              \"Avg train support for positive class\":sum(support_train_positive_class) / 3, \"Avg test support for positive class\":sum(support_train_negative_class) / 3, \n",
    "                              \"Avg train support for negative class\":sum(support_test_positive_class) / 3, \"Avg test support for negative class\":sum(support_test_negative_class) / 3,\n",
    "                              \"Avg train f1-score for positive class\":sum(f1_train_score_positive_class) / 3, \"Avg test f1-score for positive class\":sum(f1_train_score_negative_class) / 3, \n",
    "                              \"Avg train f1-score for negative class\":sum(f1_test_score_positive_class) / 3, \"Avg test f1-score for negative class\":sum(f1_test_score_negative_class) / 3,\n",
    "                              \"Best Hyperparameters\" : grid_search.best_params_}, ignore_index=True)"
   ]
  },
  {
   "cell_type": "code",
   "execution_count": 71,
   "metadata": {},
   "outputs": [
    {
     "data": {
      "text/html": [
       "<div>\n",
       "<style scoped>\n",
       "    .dataframe tbody tr th:only-of-type {\n",
       "        vertical-align: middle;\n",
       "    }\n",
       "\n",
       "    .dataframe tbody tr th {\n",
       "        vertical-align: top;\n",
       "    }\n",
       "\n",
       "    .dataframe thead th {\n",
       "        text-align: right;\n",
       "    }\n",
       "</style>\n",
       "<table border=\"1\" class=\"dataframe\">\n",
       "  <thead>\n",
       "    <tr style=\"text-align: right;\">\n",
       "      <th></th>\n",
       "      <th>Classifier</th>\n",
       "      <th>Best Hyperparameters</th>\n",
       "      <th>Avg train accuracy</th>\n",
       "      <th>Avg train AIC</th>\n",
       "      <th>Avg train BIC</th>\n",
       "      <th>Avg train sensitivity</th>\n",
       "      <th>Avg train specificity</th>\n",
       "      <th>Avg train precision for positive class</th>\n",
       "      <th>Avg train precision for negative class</th>\n",
       "      <th>Avg train recall for positive class</th>\n",
       "      <th>Avg train recall for negative class</th>\n",
       "      <th>Avg train support for positive class</th>\n",
       "      <th>Avg train support for negative class</th>\n",
       "      <th>Avg train f1-score for positive class</th>\n",
       "      <th>Avg train f1-score for negative class</th>\n",
       "    </tr>\n",
       "  </thead>\n",
       "  <tbody>\n",
       "    <tr>\n",
       "      <th>0</th>\n",
       "      <td>LogisticRegression</td>\n",
       "      <td>{'C': 0.8, 'penalty': 'l1'}</td>\n",
       "      <td>0.9510</td>\n",
       "      <td>539.810174</td>\n",
       "      <td>-7825.344602</td>\n",
       "      <td>0.353453</td>\n",
       "      <td>0.993464</td>\n",
       "      <td>0.794353</td>\n",
       "      <td>0.690676</td>\n",
       "      <td>0.353453</td>\n",
       "      <td>0.309779</td>\n",
       "      <td>221.333333</td>\n",
       "      <td>110.666667</td>\n",
       "      <td>0.488869</td>\n",
       "      <td>0.426108</td>\n",
       "    </tr>\n",
       "    <tr>\n",
       "      <th>1</th>\n",
       "      <td>KNNClassifier</td>\n",
       "      <td>{'n_neighbors': 9}</td>\n",
       "      <td>0.9448</td>\n",
       "      <td>539.571094</td>\n",
       "      <td>-7426.871283</td>\n",
       "      <td>0.261500</td>\n",
       "      <td>0.993357</td>\n",
       "      <td>0.741443</td>\n",
       "      <td>0.522125</td>\n",
       "      <td>0.261500</td>\n",
       "      <td>0.187570</td>\n",
       "      <td>221.333333</td>\n",
       "      <td>110.666667</td>\n",
       "      <td>0.383958</td>\n",
       "      <td>0.274761</td>\n",
       "    </tr>\n",
       "    <tr>\n",
       "      <th>2</th>\n",
       "      <td>LinearSVC</td>\n",
       "      <td>{'C': 0.1}</td>\n",
       "      <td>0.9489</td>\n",
       "      <td>539.725070</td>\n",
       "      <td>-7683.495593</td>\n",
       "      <td>0.294699</td>\n",
       "      <td>0.995393</td>\n",
       "      <td>0.820258</td>\n",
       "      <td>0.671987</td>\n",
       "      <td>0.294699</td>\n",
       "      <td>0.239456</td>\n",
       "      <td>221.333333</td>\n",
       "      <td>110.666667</td>\n",
       "      <td>0.433190</td>\n",
       "      <td>0.349408</td>\n",
       "    </tr>\n",
       "    <tr>\n",
       "      <th>3</th>\n",
       "      <td>KernalizedSVC</td>\n",
       "      <td>{'C': 100, 'gamma': 0.001, 'kernel': 'linear'}</td>\n",
       "      <td>0.9615</td>\n",
       "      <td>540.291403</td>\n",
       "      <td>-8627.371150</td>\n",
       "      <td>0.546636</td>\n",
       "      <td>0.991002</td>\n",
       "      <td>0.812042</td>\n",
       "      <td>0.600379</td>\n",
       "      <td>0.546636</td>\n",
       "      <td>0.409297</td>\n",
       "      <td>221.333333</td>\n",
       "      <td>110.666667</td>\n",
       "      <td>0.653373</td>\n",
       "      <td>0.486499</td>\n",
       "    </tr>\n",
       "  </tbody>\n",
       "</table>\n",
       "</div>"
      ],
      "text/plain": [
       "           Classifier                            Best Hyperparameters  \\\n",
       "0  LogisticRegression                     {'C': 0.8, 'penalty': 'l1'}   \n",
       "1       KNNClassifier                              {'n_neighbors': 9}   \n",
       "2           LinearSVC                                      {'C': 0.1}   \n",
       "3       KernalizedSVC  {'C': 100, 'gamma': 0.001, 'kernel': 'linear'}   \n",
       "\n",
       "   Avg train accuracy  Avg train AIC  Avg train BIC  Avg train sensitivity  \\\n",
       "0              0.9510     539.810174   -7825.344602               0.353453   \n",
       "1              0.9448     539.571094   -7426.871283               0.261500   \n",
       "2              0.9489     539.725070   -7683.495593               0.294699   \n",
       "3              0.9615     540.291403   -8627.371150               0.546636   \n",
       "\n",
       "   Avg train specificity  Avg train precision for positive class  \\\n",
       "0               0.993464                                0.794353   \n",
       "1               0.993357                                0.741443   \n",
       "2               0.995393                                0.820258   \n",
       "3               0.991002                                0.812042   \n",
       "\n",
       "   Avg train precision for negative class  \\\n",
       "0                                0.690676   \n",
       "1                                0.522125   \n",
       "2                                0.671987   \n",
       "3                                0.600379   \n",
       "\n",
       "   Avg train recall for positive class  Avg train recall for negative class  \\\n",
       "0                             0.353453                             0.309779   \n",
       "1                             0.261500                             0.187570   \n",
       "2                             0.294699                             0.239456   \n",
       "3                             0.546636                             0.409297   \n",
       "\n",
       "   Avg train support for positive class  Avg train support for negative class  \\\n",
       "0                            221.333333                            110.666667   \n",
       "1                            221.333333                            110.666667   \n",
       "2                            221.333333                            110.666667   \n",
       "3                            221.333333                            110.666667   \n",
       "\n",
       "   Avg train f1-score for positive class  \\\n",
       "0                               0.488869   \n",
       "1                               0.383958   \n",
       "2                               0.433190   \n",
       "3                               0.653373   \n",
       "\n",
       "   Avg train f1-score for negative class  \n",
       "0                               0.426108  \n",
       "1                               0.274761  \n",
       "2                               0.349408  \n",
       "3                               0.486499  "
      ]
     },
     "execution_count": 71,
     "metadata": {},
     "output_type": "execute_result"
    }
   ],
   "source": [
    "report_df[train_columns]"
   ]
  },
  {
   "cell_type": "code",
   "execution_count": 72,
   "metadata": {
    "scrolled": true
   },
   "outputs": [
    {
     "data": {
      "text/html": [
       "<div>\n",
       "<style scoped>\n",
       "    .dataframe tbody tr th:only-of-type {\n",
       "        vertical-align: middle;\n",
       "    }\n",
       "\n",
       "    .dataframe tbody tr th {\n",
       "        vertical-align: top;\n",
       "    }\n",
       "\n",
       "    .dataframe thead th {\n",
       "        text-align: right;\n",
       "    }\n",
       "</style>\n",
       "<table border=\"1\" class=\"dataframe\">\n",
       "  <thead>\n",
       "    <tr style=\"text-align: right;\">\n",
       "      <th></th>\n",
       "      <th>Classifier</th>\n",
       "      <th>Best Hyperparameters</th>\n",
       "      <th>Avg test accuracy</th>\n",
       "      <th>Avg test AIC</th>\n",
       "      <th>Avg test BIC</th>\n",
       "      <th>Avg test sensitivity</th>\n",
       "      <th>Avg test specificity</th>\n",
       "      <th>Avg test precision for positive class</th>\n",
       "      <th>Avg test precision for negative class</th>\n",
       "      <th>Avg test recall for positive class</th>\n",
       "      <th>Avg test recall for negative class</th>\n",
       "      <th>Avg test support for positive class</th>\n",
       "      <th>Avg test support for negative class</th>\n",
       "      <th>Avg test f1-score for positive class</th>\n",
       "      <th>Avg test f1-score for negative class</th>\n",
       "    </tr>\n",
       "  </thead>\n",
       "  <tbody>\n",
       "    <tr>\n",
       "      <th>0</th>\n",
       "      <td>LogisticRegression</td>\n",
       "      <td>{'C': 0.8, 'penalty': 'l1'}</td>\n",
       "      <td>0.944999</td>\n",
       "      <td>540.965681</td>\n",
       "      <td>-2795.611794</td>\n",
       "      <td>0.309779</td>\n",
       "      <td>0.990156</td>\n",
       "      <td>0.955791</td>\n",
       "      <td>0.952803</td>\n",
       "      <td>0.993464</td>\n",
       "      <td>0.990156</td>\n",
       "      <td>3112.0</td>\n",
       "      <td>1556.0</td>\n",
       "      <td>0.974263</td>\n",
       "      <td>0.971112</td>\n",
       "    </tr>\n",
       "    <tr>\n",
       "      <th>1</th>\n",
       "      <td>KNNClassifier</td>\n",
       "      <td>{'n_neighbors': 9}</td>\n",
       "      <td>0.934599</td>\n",
       "      <td>540.619327</td>\n",
       "      <td>-2506.982811</td>\n",
       "      <td>0.187570</td>\n",
       "      <td>0.987797</td>\n",
       "      <td>0.949823</td>\n",
       "      <td>0.944693</td>\n",
       "      <td>0.993357</td>\n",
       "      <td>0.987797</td>\n",
       "      <td>3112.0</td>\n",
       "      <td>1556.0</td>\n",
       "      <td>0.971099</td>\n",
       "      <td>0.965755</td>\n",
       "    </tr>\n",
       "    <tr>\n",
       "      <th>2</th>\n",
       "      <td>LinearSVC</td>\n",
       "      <td>{'C': 0.1}</td>\n",
       "      <td>0.941799</td>\n",
       "      <td>540.855824</td>\n",
       "      <td>-2704.072101</td>\n",
       "      <td>0.239456</td>\n",
       "      <td>0.991865</td>\n",
       "      <td>0.952054</td>\n",
       "      <td>0.948210</td>\n",
       "      <td>0.995393</td>\n",
       "      <td>0.991865</td>\n",
       "      <td>3112.0</td>\n",
       "      <td>1556.0</td>\n",
       "      <td>0.973241</td>\n",
       "      <td>0.969533</td>\n",
       "    </tr>\n",
       "    <tr>\n",
       "      <th>3</th>\n",
       "      <td>KernalizedSVC</td>\n",
       "      <td>{'C': 100, 'gamma': 0.001, 'kernel': 'linear'}</td>\n",
       "      <td>0.942799</td>\n",
       "      <td>540.887633</td>\n",
       "      <td>-2730.575893</td>\n",
       "      <td>0.409297</td>\n",
       "      <td>0.980724</td>\n",
       "      <td>0.968491</td>\n",
       "      <td>0.958944</td>\n",
       "      <td>0.991002</td>\n",
       "      <td>0.980724</td>\n",
       "      <td>3112.0</td>\n",
       "      <td>1556.0</td>\n",
       "      <td>0.979617</td>\n",
       "      <td>0.969709</td>\n",
       "    </tr>\n",
       "  </tbody>\n",
       "</table>\n",
       "</div>"
      ],
      "text/plain": [
       "           Classifier                            Best Hyperparameters  \\\n",
       "0  LogisticRegression                     {'C': 0.8, 'penalty': 'l1'}   \n",
       "1       KNNClassifier                              {'n_neighbors': 9}   \n",
       "2           LinearSVC                                      {'C': 0.1}   \n",
       "3       KernalizedSVC  {'C': 100, 'gamma': 0.001, 'kernel': 'linear'}   \n",
       "\n",
       "   Avg test accuracy  Avg test AIC  Avg test BIC  Avg test sensitivity  \\\n",
       "0           0.944999    540.965681  -2795.611794              0.309779   \n",
       "1           0.934599    540.619327  -2506.982811              0.187570   \n",
       "2           0.941799    540.855824  -2704.072101              0.239456   \n",
       "3           0.942799    540.887633  -2730.575893              0.409297   \n",
       "\n",
       "   Avg test specificity  Avg test precision for positive class  \\\n",
       "0              0.990156                               0.955791   \n",
       "1              0.987797                               0.949823   \n",
       "2              0.991865                               0.952054   \n",
       "3              0.980724                               0.968491   \n",
       "\n",
       "   Avg test precision for negative class  Avg test recall for positive class  \\\n",
       "0                               0.952803                            0.993464   \n",
       "1                               0.944693                            0.993357   \n",
       "2                               0.948210                            0.995393   \n",
       "3                               0.958944                            0.991002   \n",
       "\n",
       "   Avg test recall for negative class  Avg test support for positive class  \\\n",
       "0                            0.990156                               3112.0   \n",
       "1                            0.987797                               3112.0   \n",
       "2                            0.991865                               3112.0   \n",
       "3                            0.980724                               3112.0   \n",
       "\n",
       "   Avg test support for negative class  Avg test f1-score for positive class  \\\n",
       "0                               1556.0                              0.974263   \n",
       "1                               1556.0                              0.971099   \n",
       "2                               1556.0                              0.973241   \n",
       "3                               1556.0                              0.979617   \n",
       "\n",
       "   Avg test f1-score for negative class  \n",
       "0                              0.971112  \n",
       "1                              0.965755  \n",
       "2                              0.969533  \n",
       "3                              0.969709  "
      ]
     },
     "execution_count": 72,
     "metadata": {},
     "output_type": "execute_result"
    }
   ],
   "source": [
    "report_df[test_columns]"
   ]
  },
  {
   "cell_type": "code",
   "execution_count": 73,
   "metadata": {},
   "outputs": [
    {
     "data": {
      "text/plain": [
       "Text(0, 0.5, 'KernalizedSVC Classifier Score')"
      ]
     },
     "execution_count": 73,
     "metadata": {},
     "output_type": "execute_result"
    },
    {
     "data": {
      "image/png": "[encoded data removed]",
      "text/plain": [
       "<Figure size 432x288 with 1 Axes>"
      ]
     },
     "metadata": {
      "needs_background": "light"
     },
     "output_type": "display_data"
    }
   ],
   "source": [
    "plt.plot([1,2,3],train_score_list, c = 'g', label = 'Train Score')\n",
    "plt.plot([1,2,3],test_score_list, c = 'b', label = 'Test Score')\n",
    "plt.legend()\n",
    "plt.xlabel('CV splits')\n",
    "plt.ylabel('KernalizedSVC Classifier Score')"
   ]
  },
  {
   "cell_type": "code",
   "execution_count": 74,
   "metadata": {
    "scrolled": true
   },
   "outputs": [
    {
     "data": {
      "text/plain": [
       "<matplotlib.legend.Legend at 0x180f4edd1d0>"
      ]
     },
     "execution_count": 74,
     "metadata": {},
     "output_type": "execute_result"
    },
    {
     "data": {
      "image/png": "[encoded data removed]",
      "text/plain": [
       "<Figure size 432x288 with 1 Axes>"
      ]
     },
     "metadata": {
      "needs_background": "light"
     },
     "output_type": "display_data"
    }
   ],
   "source": [
    "%matplotlib inline \n",
    "\n",
    "from sklearn.metrics import roc_curve\n",
    "fpr, tpr, thresholds = roc_curve(y_test_cv, ksvc.decision_function(X_test_cv))\n",
    "\n",
    "plt.plot(fpr, tpr, label=\"ROC Curve\")\n",
    "plt.xlabel(\"FPR\")\n",
    "plt.ylabel(\"TPR (recall)\")\n",
    "# find threshold closest to zero\n",
    "close_zero = np.argmin(np.abs(thresholds))\n",
    "plt.plot(fpr[close_zero], tpr[close_zero], 'o', markersize=10,\n",
    "         label=\"threshold zero\", fillstyle=\"none\", c='k', mew=2)\n",
    "plt.legend(loc=4)"
   ]
  },
  {
   "cell_type": "code",
   "execution_count": 75,
   "metadata": {},
   "outputs": [
    {
     "data": {
      "text/html": [
       "<div>\n",
       "<style scoped>\n",
       "    .dataframe tbody tr th:only-of-type {\n",
       "        vertical-align: middle;\n",
       "    }\n",
       "\n",
       "    .dataframe tbody tr th {\n",
       "        vertical-align: top;\n",
       "    }\n",
       "\n",
       "    .dataframe thead th {\n",
       "        text-align: right;\n",
       "    }\n",
       "</style>\n",
       "<table border=\"1\" class=\"dataframe\">\n",
       "  <thead>\n",
       "    <tr style=\"text-align: right;\">\n",
       "      <th></th>\n",
       "      <th>Predicted Income not&gt;50k</th>\n",
       "      <th>Predicted Income&gt;50k</th>\n",
       "    </tr>\n",
       "  </thead>\n",
       "  <tbody>\n",
       "    <tr>\n",
       "      <th>True Income not&gt;50k</th>\n",
       "      <td>1522</td>\n",
       "      <td>31</td>\n",
       "    </tr>\n",
       "    <tr>\n",
       "      <th>True Income&gt;50k</th>\n",
       "      <td>71</td>\n",
       "      <td>42</td>\n",
       "    </tr>\n",
       "  </tbody>\n",
       "</table>\n",
       "</div>"
      ],
      "text/plain": [
       "                     Predicted Income not>50k  Predicted Income>50k\n",
       "True Income not>50k                      1522                    31\n",
       "True Income>50k                            71                    42"
      ]
     },
     "execution_count": 75,
     "metadata": {},
     "output_type": "execute_result"
    }
   ],
   "source": [
    "pd.DataFrame(\n",
    "    confusion_matrix(y_test_cv, y_test_preds),\n",
    "    columns=['Predicted Income not>50k', 'Predicted Income>50k'],\n",
    "    index=['True Income not>50k', 'True Income>50k']\n",
    ")"
   ]
  },
  {
   "cell_type": "markdown",
   "metadata": {},
   "source": [
    "# DecisionTree Classifier"
   ]
  },
  {
   "cell_type": "code",
   "execution_count": 76,
   "metadata": {},
   "outputs": [
    {
     "name": "stdout",
     "output_type": "stream",
     "text": [
      "Grid search best score: 0.944\n",
      "Grid search best parameters: {'max_depth': 5, 'min_samples_leaf': 25}\n"
     ]
    }
   ],
   "source": [
    "parameters = [{'max_depth':np.arange(1, 21), 'min_samples_leaf':[1, 5, 10, 15, 20, 25, 50, 100]}]\n",
    "\n",
    "grid_search = GridSearchCV(estimator = DecisionTreeClassifier(), param_grid = parameters, scoring='accuracy', cv=3, n_jobs = -1)\n",
    "\n",
    "grid_search = grid_search.fit(census[features],census[target])\n",
    "\n",
    "print(\"Grid search best score:\", grid_search.best_score_)\n",
    "print(\"Grid search best parameters:\", grid_search.best_params_)"
   ]
  },
  {
   "cell_type": "code",
   "execution_count": 77,
   "metadata": {},
   "outputs": [],
   "source": [
    "kf = KFold(n_splits=3) # Define the split - into 6 folds \n",
    "\n",
    "train_score_list = []\n",
    "test_score_list = []\n",
    "train_AIC_score_list = []\n",
    "test_AIC_score_list = []\n",
    "train_BIC_score_list = []\n",
    "test_BIC_score_list = []\n",
    "sensitivity_train_list = []\n",
    "specificity_train_list = []\n",
    "sensitivity_test_list = []\n",
    "specificity_test_list = []\n",
    "precision_train_positive_class = []\n",
    "precision_train_negative_class = []\n",
    "precision_test_positive_class = []\n",
    "precision_test_negative_class = []\n",
    "recall_train_positive_class = []\n",
    "recall_train_negative_class = []\n",
    "recall_test_positive_class = []\n",
    "recall_test_negative_class = []\n",
    "support_train_positive_class = []\n",
    "support_train_negative_class = []\n",
    "support_test_positive_class = []\n",
    "support_test_negative_class = []\n",
    "f1_train_score_positive_class = []\n",
    "f1_train_score_negative_class = []\n",
    "f1_test_score_positive_class = []\n",
    "f1_test_score_negative_class = []\n",
    "\n",
    "for train_index, test_index in kf.split(X):\n",
    "    X_train_cv, X_test_cv = census[features].iloc[train_index], census[features].iloc[test_index]\n",
    "    y_train_cv, y_test_cv = census[target].iloc[train_index], census[target].iloc[test_index]\n",
    "    \n",
    "    dtc = DecisionTreeClassifier(max_depth=grid_search.best_params_['max_depth'], min_samples_leaf=grid_search.best_params_['min_samples_leaf'])\n",
    "    dtc.fit(X_train_cv,y_train_cv)\n",
    "    train_score_list.append(dtc.score(X_train_cv,y_train_cv))\n",
    "    test_score_list.append(dtc.score(X_test_cv, y_test_cv))\n",
    "    \n",
    "    y_train_preds = dtc.predict(X_train_cv)\n",
    "    y_test_preds = dtc.predict(X_test_cv)\n",
    "    \n",
    "    resid_train = np.array([i for i in y_train_cv.values.tolist()]) - np.array(y_train_preds.tolist())\n",
    "    resid_test = np.array([i for i in y_test_cv.values.tolist()]) - np.array(y_test_preds.tolist())\n",
    "    sse_train = sum(resid_train**2)\n",
    "    sse_test = sum(resid_test**2)\n",
    "    k = len(X.columns.tolist())\n",
    "    n_train = y_train_cv.shape[0]\n",
    "    n_test = y_test_cv.shape[0]\n",
    "\n",
    "    AIC_train = (2*k) - (2*np.log(sse_train))\n",
    "    BIC_train = (n_train*np.log(sse_train/n_train)) + (k*np.log(n_train))\n",
    "    \n",
    "    AIC_test = (2*k) - (2*np.log(sse_test))\n",
    "    BIC_test = (n_test*np.log(sse_test/n_test)) + (k*np.log(n_test))\n",
    "    \n",
    "    train_AIC_score_list.append(AIC_train)\n",
    "    train_BIC_score_list.append(BIC_train)\n",
    "    test_AIC_score_list.append(AIC_test)\n",
    "    test_BIC_score_list.append(BIC_test)\n",
    "    \n",
    "    clf_report_train = classification_report(y_train_cv,y_train_preds,output_dict=True)\n",
    "    clf_report_test = classification_report(y_test_cv,y_test_preds,output_dict=True)\n",
    "    \n",
    "    sensitivity_train_list.append(clf_report_train['1']['recall'])\n",
    "    specificity_train_list.append(clf_report_train['0']['recall'])\n",
    "    sensitivity_test_list.append(clf_report_test['1']['recall'])\n",
    "    specificity_test_list.append(clf_report_test['0']['recall'])\n",
    "    precision_train_positive_class.append(clf_report_train['1']['precision'])\n",
    "    precision_train_negative_class.append(clf_report_train['0']['precision'])\n",
    "    precision_test_positive_class.append(clf_report_test['1']['precision'])\n",
    "    precision_test_negative_class.append(clf_report_test['0']['precision'])\n",
    "    recall_train_positive_class.append(clf_report_train['1']['recall'])\n",
    "    recall_train_negative_class.append(clf_report_train['0']['recall'])\n",
    "    recall_test_positive_class.append(clf_report_test['1']['recall'])\n",
    "    recall_test_negative_class.append(clf_report_test['0']['recall'])\n",
    "    support_train_positive_class.append(clf_report_train['1']['support'])\n",
    "    support_train_negative_class.append(clf_report_train['0']['support'])\n",
    "    support_test_positive_class.append(clf_report_test['1']['support'])\n",
    "    support_test_negative_class.append(clf_report_test['0']['support'])\n",
    "    f1_train_score_positive_class.append(clf_report_train['1']['f1-score'])\n",
    "    f1_train_score_negative_class.append(clf_report_train['0']['f1-score'])\n",
    "    f1_test_score_positive_class.append(clf_report_test['1']['f1-score'])\n",
    "    f1_test_score_negative_class.append(clf_report_test['0']['f1-score'])\n",
    "\n",
    "report_df = report_df.append({\"Classifier\":\"DecisionTreeClassifier\", \n",
    "                              \"Avg train accuracy\":sum(train_score_list) / 3, \"Avg test accuracy\":sum(test_score_list) / 3, \n",
    "                              \"Avg train AIC\":sum(train_AIC_score_list) / 3, \"Avg test AIC\":sum(test_AIC_score_list) / 3, \n",
    "                              \"Avg train BIC\":sum(train_BIC_score_list) / 3, \"Avg test BIC\":sum(test_BIC_score_list) / 3, \n",
    "                              \"Avg train sensitivity\" : sum(sensitivity_train_list) / 3, \"Avg test sensitivity\" : sum(sensitivity_test_list) / 3, \n",
    "                              \"Avg train specificity\" : sum(specificity_train_list) / 3, \"Avg test specificity\" : sum(specificity_test_list) / 3,\n",
    "                              \"Avg train precision for positive class\":sum(precision_train_positive_class) / 3, \"Avg test precision for positive class\":sum(precision_train_negative_class) / 3, \n",
    "                              \"Avg train precision for negative class\":sum(precision_test_positive_class) / 3, \"Avg test precision for negative class\":sum(precision_test_negative_class) / 3,\n",
    "                              \"Avg train recall for positive class\":sum(recall_train_positive_class) / 3, \"Avg test recall for positive class\":sum(recall_train_negative_class) / 3, \n",
    "                              \"Avg train recall for negative class\":sum(recall_test_positive_class) / 3, \"Avg test recall for negative class\":sum(recall_test_negative_class) / 3,\n",
    "                              \"Avg train support for positive class\":sum(support_train_positive_class) / 3, \"Avg test support for positive class\":sum(support_train_negative_class) / 3, \n",
    "                              \"Avg train support for negative class\":sum(support_test_positive_class) / 3, \"Avg test support for negative class\":sum(support_test_negative_class) / 3,\n",
    "                              \"Avg train f1-score for positive class\":sum(f1_train_score_positive_class) / 3, \"Avg test f1-score for positive class\":sum(f1_train_score_negative_class) / 3, \n",
    "                              \"Avg train f1-score for negative class\":sum(f1_test_score_positive_class) / 3, \"Avg test f1-score for negative class\":sum(f1_test_score_negative_class) / 3,\n",
    "                              \"Best Hyperparameters\" : grid_search.best_params_}, ignore_index=True)"
   ]
  },
  {
   "cell_type": "code",
   "execution_count": 78,
   "metadata": {},
   "outputs": [
    {
     "data": {
      "text/html": [
       "<div>\n",
       "<style scoped>\n",
       "    .dataframe tbody tr th:only-of-type {\n",
       "        vertical-align: middle;\n",
       "    }\n",
       "\n",
       "    .dataframe tbody tr th {\n",
       "        vertical-align: top;\n",
       "    }\n",
       "\n",
       "    .dataframe thead th {\n",
       "        text-align: right;\n",
       "    }\n",
       "</style>\n",
       "<table border=\"1\" class=\"dataframe\">\n",
       "  <thead>\n",
       "    <tr style=\"text-align: right;\">\n",
       "      <th></th>\n",
       "      <th>Classifier</th>\n",
       "      <th>Best Hyperparameters</th>\n",
       "      <th>Avg train accuracy</th>\n",
       "      <th>Avg train AIC</th>\n",
       "      <th>Avg train BIC</th>\n",
       "      <th>Avg train sensitivity</th>\n",
       "      <th>Avg train specificity</th>\n",
       "      <th>Avg train precision for positive class</th>\n",
       "      <th>Avg train precision for negative class</th>\n",
       "      <th>Avg train recall for positive class</th>\n",
       "      <th>Avg train recall for negative class</th>\n",
       "      <th>Avg train support for positive class</th>\n",
       "      <th>Avg train support for negative class</th>\n",
       "      <th>Avg train f1-score for positive class</th>\n",
       "      <th>Avg train f1-score for negative class</th>\n",
       "    </tr>\n",
       "  </thead>\n",
       "  <tbody>\n",
       "    <tr>\n",
       "      <th>0</th>\n",
       "      <td>LogisticRegression</td>\n",
       "      <td>{'C': 0.8, 'penalty': 'l1'}</td>\n",
       "      <td>0.9510</td>\n",
       "      <td>539.810174</td>\n",
       "      <td>-7825.344602</td>\n",
       "      <td>0.353453</td>\n",
       "      <td>0.993464</td>\n",
       "      <td>0.794353</td>\n",
       "      <td>0.690676</td>\n",
       "      <td>0.353453</td>\n",
       "      <td>0.309779</td>\n",
       "      <td>221.333333</td>\n",
       "      <td>110.666667</td>\n",
       "      <td>0.488869</td>\n",
       "      <td>0.426108</td>\n",
       "    </tr>\n",
       "    <tr>\n",
       "      <th>1</th>\n",
       "      <td>KNNClassifier</td>\n",
       "      <td>{'n_neighbors': 9}</td>\n",
       "      <td>0.9448</td>\n",
       "      <td>539.571094</td>\n",
       "      <td>-7426.871283</td>\n",
       "      <td>0.261500</td>\n",
       "      <td>0.993357</td>\n",
       "      <td>0.741443</td>\n",
       "      <td>0.522125</td>\n",
       "      <td>0.261500</td>\n",
       "      <td>0.187570</td>\n",
       "      <td>221.333333</td>\n",
       "      <td>110.666667</td>\n",
       "      <td>0.383958</td>\n",
       "      <td>0.274761</td>\n",
       "    </tr>\n",
       "    <tr>\n",
       "      <th>2</th>\n",
       "      <td>LinearSVC</td>\n",
       "      <td>{'C': 0.1}</td>\n",
       "      <td>0.9489</td>\n",
       "      <td>539.725070</td>\n",
       "      <td>-7683.495593</td>\n",
       "      <td>0.294699</td>\n",
       "      <td>0.995393</td>\n",
       "      <td>0.820258</td>\n",
       "      <td>0.671987</td>\n",
       "      <td>0.294699</td>\n",
       "      <td>0.239456</td>\n",
       "      <td>221.333333</td>\n",
       "      <td>110.666667</td>\n",
       "      <td>0.433190</td>\n",
       "      <td>0.349408</td>\n",
       "    </tr>\n",
       "    <tr>\n",
       "      <th>3</th>\n",
       "      <td>KernalizedSVC</td>\n",
       "      <td>{'C': 100, 'gamma': 0.001, 'kernel': 'linear'}</td>\n",
       "      <td>0.9615</td>\n",
       "      <td>540.291403</td>\n",
       "      <td>-8627.371150</td>\n",
       "      <td>0.546636</td>\n",
       "      <td>0.991002</td>\n",
       "      <td>0.812042</td>\n",
       "      <td>0.600379</td>\n",
       "      <td>0.546636</td>\n",
       "      <td>0.409297</td>\n",
       "      <td>221.333333</td>\n",
       "      <td>110.666667</td>\n",
       "      <td>0.653373</td>\n",
       "      <td>0.486499</td>\n",
       "    </tr>\n",
       "    <tr>\n",
       "      <th>4</th>\n",
       "      <td>DecisionTreeClassifier</td>\n",
       "      <td>{'max_depth': 5, 'min_samples_leaf': 25}</td>\n",
       "      <td>0.9473</td>\n",
       "      <td>539.663280</td>\n",
       "      <td>-7580.506536</td>\n",
       "      <td>0.356198</td>\n",
       "      <td>0.989285</td>\n",
       "      <td>0.711225</td>\n",
       "      <td>0.626021</td>\n",
       "      <td>0.356198</td>\n",
       "      <td>0.326321</td>\n",
       "      <td>221.333333</td>\n",
       "      <td>110.666667</td>\n",
       "      <td>0.471065</td>\n",
       "      <td>0.425832</td>\n",
       "    </tr>\n",
       "  </tbody>\n",
       "</table>\n",
       "</div>"
      ],
      "text/plain": [
       "               Classifier                            Best Hyperparameters  \\\n",
       "0      LogisticRegression                     {'C': 0.8, 'penalty': 'l1'}   \n",
       "1           KNNClassifier                              {'n_neighbors': 9}   \n",
       "2               LinearSVC                                      {'C': 0.1}   \n",
       "3           KernalizedSVC  {'C': 100, 'gamma': 0.001, 'kernel': 'linear'}   \n",
       "4  DecisionTreeClassifier        {'max_depth': 5, 'min_samples_leaf': 25}   \n",
       "\n",
       "   Avg train accuracy  Avg train AIC  Avg train BIC  Avg train sensitivity  \\\n",
       "0              0.9510     539.810174   -7825.344602               0.353453   \n",
       "1              0.9448     539.571094   -7426.871283               0.261500   \n",
       "2              0.9489     539.725070   -7683.495593               0.294699   \n",
       "3              0.9615     540.291403   -8627.371150               0.546636   \n",
       "4              0.9473     539.663280   -7580.506536               0.356198   \n",
       "\n",
       "   Avg train specificity  Avg train precision for positive class  \\\n",
       "0               0.993464                                0.794353   \n",
       "1               0.993357                                0.741443   \n",
       "2               0.995393                                0.820258   \n",
       "3               0.991002                                0.812042   \n",
       "4               0.989285                                0.711225   \n",
       "\n",
       "   Avg train precision for negative class  \\\n",
       "0                                0.690676   \n",
       "1                                0.522125   \n",
       "2                                0.671987   \n",
       "3                                0.600379   \n",
       "4                                0.626021   \n",
       "\n",
       "   Avg train recall for positive class  Avg train recall for negative class  \\\n",
       "0                             0.353453                             0.309779   \n",
       "1                             0.261500                             0.187570   \n",
       "2                             0.294699                             0.239456   \n",
       "3                             0.546636                             0.409297   \n",
       "4                             0.356198                             0.326321   \n",
       "\n",
       "   Avg train support for positive class  Avg train support for negative class  \\\n",
       "0                            221.333333                            110.666667   \n",
       "1                            221.333333                            110.666667   \n",
       "2                            221.333333                            110.666667   \n",
       "3                            221.333333                            110.666667   \n",
       "4                            221.333333                            110.666667   \n",
       "\n",
       "   Avg train f1-score for positive class  \\\n",
       "0                               0.488869   \n",
       "1                               0.383958   \n",
       "2                               0.433190   \n",
       "3                               0.653373   \n",
       "4                               0.471065   \n",
       "\n",
       "   Avg train f1-score for negative class  \n",
       "0                               0.426108  \n",
       "1                               0.274761  \n",
       "2                               0.349408  \n",
       "3                               0.486499  \n",
       "4                               0.425832  "
      ]
     },
     "execution_count": 78,
     "metadata": {},
     "output_type": "execute_result"
    }
   ],
   "source": [
    "report_df[train_columns]"
   ]
  },
  {
   "cell_type": "code",
   "execution_count": 79,
   "metadata": {
    "scrolled": true
   },
   "outputs": [
    {
     "data": {
      "text/html": [
       "<div>\n",
       "<style scoped>\n",
       "    .dataframe tbody tr th:only-of-type {\n",
       "        vertical-align: middle;\n",
       "    }\n",
       "\n",
       "    .dataframe tbody tr th {\n",
       "        vertical-align: top;\n",
       "    }\n",
       "\n",
       "    .dataframe thead th {\n",
       "        text-align: right;\n",
       "    }\n",
       "</style>\n",
       "<table border=\"1\" class=\"dataframe\">\n",
       "  <thead>\n",
       "    <tr style=\"text-align: right;\">\n",
       "      <th></th>\n",
       "      <th>Classifier</th>\n",
       "      <th>Best Hyperparameters</th>\n",
       "      <th>Avg test accuracy</th>\n",
       "      <th>Avg test AIC</th>\n",
       "      <th>Avg test BIC</th>\n",
       "      <th>Avg test sensitivity</th>\n",
       "      <th>Avg test specificity</th>\n",
       "      <th>Avg test precision for positive class</th>\n",
       "      <th>Avg test precision for negative class</th>\n",
       "      <th>Avg test recall for positive class</th>\n",
       "      <th>Avg test recall for negative class</th>\n",
       "      <th>Avg test support for positive class</th>\n",
       "      <th>Avg test support for negative class</th>\n",
       "      <th>Avg test f1-score for positive class</th>\n",
       "      <th>Avg test f1-score for negative class</th>\n",
       "    </tr>\n",
       "  </thead>\n",
       "  <tbody>\n",
       "    <tr>\n",
       "      <th>0</th>\n",
       "      <td>LogisticRegression</td>\n",
       "      <td>{'C': 0.8, 'penalty': 'l1'}</td>\n",
       "      <td>0.944999</td>\n",
       "      <td>540.965681</td>\n",
       "      <td>-2795.611794</td>\n",
       "      <td>0.309779</td>\n",
       "      <td>0.990156</td>\n",
       "      <td>0.955791</td>\n",
       "      <td>0.952803</td>\n",
       "      <td>0.993464</td>\n",
       "      <td>0.990156</td>\n",
       "      <td>3112.0</td>\n",
       "      <td>1556.0</td>\n",
       "      <td>0.974263</td>\n",
       "      <td>0.971112</td>\n",
       "    </tr>\n",
       "    <tr>\n",
       "      <th>1</th>\n",
       "      <td>KNNClassifier</td>\n",
       "      <td>{'n_neighbors': 9}</td>\n",
       "      <td>0.934599</td>\n",
       "      <td>540.619327</td>\n",
       "      <td>-2506.982811</td>\n",
       "      <td>0.187570</td>\n",
       "      <td>0.987797</td>\n",
       "      <td>0.949823</td>\n",
       "      <td>0.944693</td>\n",
       "      <td>0.993357</td>\n",
       "      <td>0.987797</td>\n",
       "      <td>3112.0</td>\n",
       "      <td>1556.0</td>\n",
       "      <td>0.971099</td>\n",
       "      <td>0.965755</td>\n",
       "    </tr>\n",
       "    <tr>\n",
       "      <th>2</th>\n",
       "      <td>LinearSVC</td>\n",
       "      <td>{'C': 0.1}</td>\n",
       "      <td>0.941799</td>\n",
       "      <td>540.855824</td>\n",
       "      <td>-2704.072101</td>\n",
       "      <td>0.239456</td>\n",
       "      <td>0.991865</td>\n",
       "      <td>0.952054</td>\n",
       "      <td>0.948210</td>\n",
       "      <td>0.995393</td>\n",
       "      <td>0.991865</td>\n",
       "      <td>3112.0</td>\n",
       "      <td>1556.0</td>\n",
       "      <td>0.973241</td>\n",
       "      <td>0.969533</td>\n",
       "    </tr>\n",
       "    <tr>\n",
       "      <th>3</th>\n",
       "      <td>KernalizedSVC</td>\n",
       "      <td>{'C': 100, 'gamma': 0.001, 'kernel': 'linear'}</td>\n",
       "      <td>0.942799</td>\n",
       "      <td>540.887633</td>\n",
       "      <td>-2730.575893</td>\n",
       "      <td>0.409297</td>\n",
       "      <td>0.980724</td>\n",
       "      <td>0.968491</td>\n",
       "      <td>0.958944</td>\n",
       "      <td>0.991002</td>\n",
       "      <td>0.980724</td>\n",
       "      <td>3112.0</td>\n",
       "      <td>1556.0</td>\n",
       "      <td>0.979617</td>\n",
       "      <td>0.969709</td>\n",
       "    </tr>\n",
       "    <tr>\n",
       "      <th>4</th>\n",
       "      <td>DecisionTreeClassifier</td>\n",
       "      <td>{'max_depth': 5, 'min_samples_leaf': 25}</td>\n",
       "      <td>0.942000</td>\n",
       "      <td>540.858346</td>\n",
       "      <td>-2706.148319</td>\n",
       "      <td>0.326321</td>\n",
       "      <td>0.985870</td>\n",
       "      <td>0.955825</td>\n",
       "      <td>0.953601</td>\n",
       "      <td>0.989285</td>\n",
       "      <td>0.985870</td>\n",
       "      <td>3112.0</td>\n",
       "      <td>1556.0</td>\n",
       "      <td>0.972259</td>\n",
       "      <td>0.969453</td>\n",
       "    </tr>\n",
       "  </tbody>\n",
       "</table>\n",
       "</div>"
      ],
      "text/plain": [
       "               Classifier                            Best Hyperparameters  \\\n",
       "0      LogisticRegression                     {'C': 0.8, 'penalty': 'l1'}   \n",
       "1           KNNClassifier                              {'n_neighbors': 9}   \n",
       "2               LinearSVC                                      {'C': 0.1}   \n",
       "3           KernalizedSVC  {'C': 100, 'gamma': 0.001, 'kernel': 'linear'}   \n",
       "4  DecisionTreeClassifier        {'max_depth': 5, 'min_samples_leaf': 25}   \n",
       "\n",
       "   Avg test accuracy  Avg test AIC  Avg test BIC  Avg test sensitivity  \\\n",
       "0           0.944999    540.965681  -2795.611794              0.309779   \n",
       "1           0.934599    540.619327  -2506.982811              0.187570   \n",
       "2           0.941799    540.855824  -2704.072101              0.239456   \n",
       "3           0.942799    540.887633  -2730.575893              0.409297   \n",
       "4           0.942000    540.858346  -2706.148319              0.326321   \n",
       "\n",
       "   Avg test specificity  Avg test precision for positive class  \\\n",
       "0              0.990156                               0.955791   \n",
       "1              0.987797                               0.949823   \n",
       "2              0.991865                               0.952054   \n",
       "3              0.980724                               0.968491   \n",
       "4              0.985870                               0.955825   \n",
       "\n",
       "   Avg test precision for negative class  Avg test recall for positive class  \\\n",
       "0                               0.952803                            0.993464   \n",
       "1                               0.944693                            0.993357   \n",
       "2                               0.948210                            0.995393   \n",
       "3                               0.958944                            0.991002   \n",
       "4                               0.953601                            0.989285   \n",
       "\n",
       "   Avg test recall for negative class  Avg test support for positive class  \\\n",
       "0                            0.990156                               3112.0   \n",
       "1                            0.987797                               3112.0   \n",
       "2                            0.991865                               3112.0   \n",
       "3                            0.980724                               3112.0   \n",
       "4                            0.985870                               3112.0   \n",
       "\n",
       "   Avg test support for negative class  Avg test f1-score for positive class  \\\n",
       "0                               1556.0                              0.974263   \n",
       "1                               1556.0                              0.971099   \n",
       "2                               1556.0                              0.973241   \n",
       "3                               1556.0                              0.979617   \n",
       "4                               1556.0                              0.972259   \n",
       "\n",
       "   Avg test f1-score for negative class  \n",
       "0                              0.971112  \n",
       "1                              0.965755  \n",
       "2                              0.969533  \n",
       "3                              0.969709  \n",
       "4                              0.969453  "
      ]
     },
     "execution_count": 79,
     "metadata": {},
     "output_type": "execute_result"
    }
   ],
   "source": [
    "report_df[test_columns]"
   ]
  },
  {
   "cell_type": "code",
   "execution_count": 80,
   "metadata": {},
   "outputs": [
    {
     "data": {
      "text/plain": [
       "Text(0, 0.5, 'DecisionTree Classifier Score')"
      ]
     },
     "execution_count": 80,
     "metadata": {},
     "output_type": "execute_result"
    },
    {
     "data": {
      "image/png": "[encoded data removed]",
      "text/plain": [
       "<Figure size 432x288 with 1 Axes>"
      ]
     },
     "metadata": {
      "needs_background": "light"
     },
     "output_type": "display_data"
    }
   ],
   "source": [
    "plt.plot([1,2,3],train_score_list, c = 'g', label = 'Train Score')\n",
    "plt.plot([1,2,3],test_score_list, c = 'b', label = 'Test Score')\n",
    "plt.legend()\n",
    "plt.xlabel('CV splits')\n",
    "plt.ylabel('DecisionTree Classifier Score')"
   ]
  },
  {
   "cell_type": "code",
   "execution_count": 81,
   "metadata": {},
   "outputs": [
    {
     "data": {
      "image/png": "[encoded data removed]",
      "text/plain": [
       "<Figure size 432x288 with 1 Axes>"
      ]
     },
     "metadata": {
      "needs_background": "light"
     },
     "output_type": "display_data"
    }
   ],
   "source": [
    "y_pred_proba = dtc.predict_proba(X_test_cv)[::,1]\n",
    "fpr, tpr, _ = metrics.roc_curve(y_test_cv,  y_pred_proba)\n",
    "auc = metrics.roc_auc_score(y_test_cv, y_pred_proba)\n",
    "plt.plot(fpr,tpr,label=\"data 1, auc=\"+str(auc))\n",
    "plt.legend(loc=4)\n",
    "plt.show()"
   ]
  },
  {
   "cell_type": "code",
   "execution_count": 82,
   "metadata": {},
   "outputs": [
    {
     "data": {
      "text/html": [
       "<div>\n",
       "<style scoped>\n",
       "    .dataframe tbody tr th:only-of-type {\n",
       "        vertical-align: middle;\n",
       "    }\n",
       "\n",
       "    .dataframe tbody tr th {\n",
       "        vertical-align: top;\n",
       "    }\n",
       "\n",
       "    .dataframe thead th {\n",
       "        text-align: right;\n",
       "    }\n",
       "</style>\n",
       "<table border=\"1\" class=\"dataframe\">\n",
       "  <thead>\n",
       "    <tr style=\"text-align: right;\">\n",
       "      <th></th>\n",
       "      <th>Predicted Income not&gt;50k</th>\n",
       "      <th>Predicted Income&gt;50k</th>\n",
       "    </tr>\n",
       "  </thead>\n",
       "  <tbody>\n",
       "    <tr>\n",
       "      <th>True Income not&gt;50k</th>\n",
       "      <td>1538</td>\n",
       "      <td>15</td>\n",
       "    </tr>\n",
       "    <tr>\n",
       "      <th>True Income&gt;50k</th>\n",
       "      <td>82</td>\n",
       "      <td>31</td>\n",
       "    </tr>\n",
       "  </tbody>\n",
       "</table>\n",
       "</div>"
      ],
      "text/plain": [
       "                     Predicted Income not>50k  Predicted Income>50k\n",
       "True Income not>50k                      1538                    15\n",
       "True Income>50k                            82                    31"
      ]
     },
     "execution_count": 82,
     "metadata": {},
     "output_type": "execute_result"
    }
   ],
   "source": [
    "pd.DataFrame(\n",
    "    confusion_matrix(y_test_cv, y_test_preds),\n",
    "    columns=['Predicted Income not>50k', 'Predicted Income>50k'],\n",
    "    index=['True Income not>50k', 'True Income>50k']\n",
    ")"
   ]
  },
  {
   "cell_type": "markdown",
   "metadata": {},
   "source": [
    "# Evaluation parameters report for train set."
   ]
  },
  {
   "cell_type": "code",
   "execution_count": 89,
   "metadata": {},
   "outputs": [
    {
     "data": {
      "text/html": [
       "<div>\n",
       "<style scoped>\n",
       "    .dataframe tbody tr th:only-of-type {\n",
       "        vertical-align: middle;\n",
       "    }\n",
       "\n",
       "    .dataframe tbody tr th {\n",
       "        vertical-align: top;\n",
       "    }\n",
       "\n",
       "    .dataframe thead th {\n",
       "        text-align: right;\n",
       "    }\n",
       "</style>\n",
       "<table border=\"1\" class=\"dataframe\">\n",
       "  <thead>\n",
       "    <tr style=\"text-align: right;\">\n",
       "      <th></th>\n",
       "      <th>Classifier</th>\n",
       "      <th>Best Hyperparameters</th>\n",
       "      <th>Avg train accuracy</th>\n",
       "      <th>Avg train AIC</th>\n",
       "      <th>Avg train BIC</th>\n",
       "      <th>Avg train sensitivity</th>\n",
       "      <th>Avg train specificity</th>\n",
       "      <th>Avg train precision for positive class</th>\n",
       "      <th>Avg train precision for negative class</th>\n",
       "      <th>Avg train recall for positive class</th>\n",
       "      <th>Avg train recall for negative class</th>\n",
       "      <th>Avg train support for positive class</th>\n",
       "      <th>Avg train support for negative class</th>\n",
       "      <th>Avg train f1-score for positive class</th>\n",
       "      <th>Avg train f1-score for negative class</th>\n",
       "    </tr>\n",
       "  </thead>\n",
       "  <tbody>\n",
       "    <tr>\n",
       "      <th>2</th>\n",
       "      <td>LinearSVC</td>\n",
       "      <td>{'C': 0.1}</td>\n",
       "      <td>0.9489</td>\n",
       "      <td>539.725070</td>\n",
       "      <td>-7683.495593</td>\n",
       "      <td>0.294699</td>\n",
       "      <td>0.995393</td>\n",
       "      <td>0.820258</td>\n",
       "      <td>0.671987</td>\n",
       "      <td>0.294699</td>\n",
       "      <td>0.239456</td>\n",
       "      <td>221.333333</td>\n",
       "      <td>110.666667</td>\n",
       "      <td>0.433190</td>\n",
       "      <td>0.349408</td>\n",
       "    </tr>\n",
       "    <tr>\n",
       "      <th>3</th>\n",
       "      <td>KernalizedSVC</td>\n",
       "      <td>{'C': 100, 'gamma': 0.001, 'kernel': 'linear'}</td>\n",
       "      <td>0.9615</td>\n",
       "      <td>540.291403</td>\n",
       "      <td>-8627.371150</td>\n",
       "      <td>0.546636</td>\n",
       "      <td>0.991002</td>\n",
       "      <td>0.812042</td>\n",
       "      <td>0.600379</td>\n",
       "      <td>0.546636</td>\n",
       "      <td>0.409297</td>\n",
       "      <td>221.333333</td>\n",
       "      <td>110.666667</td>\n",
       "      <td>0.653373</td>\n",
       "      <td>0.486499</td>\n",
       "    </tr>\n",
       "    <tr>\n",
       "      <th>0</th>\n",
       "      <td>LogisticRegression</td>\n",
       "      <td>{'C': 0.8, 'penalty': 'l1'}</td>\n",
       "      <td>0.9510</td>\n",
       "      <td>539.810174</td>\n",
       "      <td>-7825.344602</td>\n",
       "      <td>0.353453</td>\n",
       "      <td>0.993464</td>\n",
       "      <td>0.794353</td>\n",
       "      <td>0.690676</td>\n",
       "      <td>0.353453</td>\n",
       "      <td>0.309779</td>\n",
       "      <td>221.333333</td>\n",
       "      <td>110.666667</td>\n",
       "      <td>0.488869</td>\n",
       "      <td>0.426108</td>\n",
       "    </tr>\n",
       "    <tr>\n",
       "      <th>1</th>\n",
       "      <td>KNNClassifier</td>\n",
       "      <td>{'n_neighbors': 9}</td>\n",
       "      <td>0.9448</td>\n",
       "      <td>539.571094</td>\n",
       "      <td>-7426.871283</td>\n",
       "      <td>0.261500</td>\n",
       "      <td>0.993357</td>\n",
       "      <td>0.741443</td>\n",
       "      <td>0.522125</td>\n",
       "      <td>0.261500</td>\n",
       "      <td>0.187570</td>\n",
       "      <td>221.333333</td>\n",
       "      <td>110.666667</td>\n",
       "      <td>0.383958</td>\n",
       "      <td>0.274761</td>\n",
       "    </tr>\n",
       "    <tr>\n",
       "      <th>4</th>\n",
       "      <td>DecisionTreeClassifier</td>\n",
       "      <td>{'max_depth': 5, 'min_samples_leaf': 25}</td>\n",
       "      <td>0.9473</td>\n",
       "      <td>539.663280</td>\n",
       "      <td>-7580.506536</td>\n",
       "      <td>0.356198</td>\n",
       "      <td>0.989285</td>\n",
       "      <td>0.711225</td>\n",
       "      <td>0.626021</td>\n",
       "      <td>0.356198</td>\n",
       "      <td>0.326321</td>\n",
       "      <td>221.333333</td>\n",
       "      <td>110.666667</td>\n",
       "      <td>0.471065</td>\n",
       "      <td>0.425832</td>\n",
       "    </tr>\n",
       "  </tbody>\n",
       "</table>\n",
       "</div>"
      ],
      "text/plain": [
       "               Classifier                            Best Hyperparameters  \\\n",
       "2               LinearSVC                                      {'C': 0.1}   \n",
       "3           KernalizedSVC  {'C': 100, 'gamma': 0.001, 'kernel': 'linear'}   \n",
       "0      LogisticRegression                     {'C': 0.8, 'penalty': 'l1'}   \n",
       "1           KNNClassifier                              {'n_neighbors': 9}   \n",
       "4  DecisionTreeClassifier        {'max_depth': 5, 'min_samples_leaf': 25}   \n",
       "\n",
       "   Avg train accuracy  Avg train AIC  Avg train BIC  Avg train sensitivity  \\\n",
       "2              0.9489     539.725070   -7683.495593               0.294699   \n",
       "3              0.9615     540.291403   -8627.371150               0.546636   \n",
       "0              0.9510     539.810174   -7825.344602               0.353453   \n",
       "1              0.9448     539.571094   -7426.871283               0.261500   \n",
       "4              0.9473     539.663280   -7580.506536               0.356198   \n",
       "\n",
       "   Avg train specificity  Avg train precision for positive class  \\\n",
       "2               0.995393                                0.820258   \n",
       "3               0.991002                                0.812042   \n",
       "0               0.993464                                0.794353   \n",
       "1               0.993357                                0.741443   \n",
       "4               0.989285                                0.711225   \n",
       "\n",
       "   Avg train precision for negative class  \\\n",
       "2                                0.671987   \n",
       "3                                0.600379   \n",
       "0                                0.690676   \n",
       "1                                0.522125   \n",
       "4                                0.626021   \n",
       "\n",
       "   Avg train recall for positive class  Avg train recall for negative class  \\\n",
       "2                             0.294699                             0.239456   \n",
       "3                             0.546636                             0.409297   \n",
       "0                             0.353453                             0.309779   \n",
       "1                             0.261500                             0.187570   \n",
       "4                             0.356198                             0.326321   \n",
       "\n",
       "   Avg train support for positive class  Avg train support for negative class  \\\n",
       "2                            221.333333                            110.666667   \n",
       "3                            221.333333                            110.666667   \n",
       "0                            221.333333                            110.666667   \n",
       "1                            221.333333                            110.666667   \n",
       "4                            221.333333                            110.666667   \n",
       "\n",
       "   Avg train f1-score for positive class  \\\n",
       "2                               0.433190   \n",
       "3                               0.653373   \n",
       "0                               0.488869   \n",
       "1                               0.383958   \n",
       "4                               0.471065   \n",
       "\n",
       "   Avg train f1-score for negative class  \n",
       "2                               0.349408  \n",
       "3                               0.486499  \n",
       "0                               0.426108  \n",
       "1                               0.274761  \n",
       "4                               0.425832  "
      ]
     },
     "execution_count": 89,
     "metadata": {},
     "output_type": "execute_result"
    }
   ],
   "source": [
    "report_df[train_columns].sort_values(by=[\"Avg train precision for positive class\", \"Avg train recall for positive class\", \"Avg train accuracy\"], ascending=False)"
   ]
  },
  {
   "cell_type": "markdown",
   "metadata": {},
   "source": [
    "# Evaluation parameters report for test set."
   ]
  },
  {
   "cell_type": "code",
   "execution_count": 90,
   "metadata": {},
   "outputs": [
    {
     "data": {
      "text/html": [
       "<div>\n",
       "<style scoped>\n",
       "    .dataframe tbody tr th:only-of-type {\n",
       "        vertical-align: middle;\n",
       "    }\n",
       "\n",
       "    .dataframe tbody tr th {\n",
       "        vertical-align: top;\n",
       "    }\n",
       "\n",
       "    .dataframe thead th {\n",
       "        text-align: right;\n",
       "    }\n",
       "</style>\n",
       "<table border=\"1\" class=\"dataframe\">\n",
       "  <thead>\n",
       "    <tr style=\"text-align: right;\">\n",
       "      <th></th>\n",
       "      <th>Classifier</th>\n",
       "      <th>Best Hyperparameters</th>\n",
       "      <th>Avg test accuracy</th>\n",
       "      <th>Avg test AIC</th>\n",
       "      <th>Avg test BIC</th>\n",
       "      <th>Avg test sensitivity</th>\n",
       "      <th>Avg test specificity</th>\n",
       "      <th>Avg test precision for positive class</th>\n",
       "      <th>Avg test precision for negative class</th>\n",
       "      <th>Avg test recall for positive class</th>\n",
       "      <th>Avg test recall for negative class</th>\n",
       "      <th>Avg test support for positive class</th>\n",
       "      <th>Avg test support for negative class</th>\n",
       "      <th>Avg test f1-score for positive class</th>\n",
       "      <th>Avg test f1-score for negative class</th>\n",
       "    </tr>\n",
       "  </thead>\n",
       "  <tbody>\n",
       "    <tr>\n",
       "      <th>3</th>\n",
       "      <td>KernalizedSVC</td>\n",
       "      <td>{'C': 100, 'gamma': 0.001, 'kernel': 'linear'}</td>\n",
       "      <td>0.942799</td>\n",
       "      <td>540.887633</td>\n",
       "      <td>-2730.575893</td>\n",
       "      <td>0.409297</td>\n",
       "      <td>0.980724</td>\n",
       "      <td>0.968491</td>\n",
       "      <td>0.958944</td>\n",
       "      <td>0.991002</td>\n",
       "      <td>0.980724</td>\n",
       "      <td>3112.0</td>\n",
       "      <td>1556.0</td>\n",
       "      <td>0.979617</td>\n",
       "      <td>0.969709</td>\n",
       "    </tr>\n",
       "    <tr>\n",
       "      <th>4</th>\n",
       "      <td>DecisionTreeClassifier</td>\n",
       "      <td>{'max_depth': 5, 'min_samples_leaf': 25}</td>\n",
       "      <td>0.942000</td>\n",
       "      <td>540.858346</td>\n",
       "      <td>-2706.148319</td>\n",
       "      <td>0.326321</td>\n",
       "      <td>0.985870</td>\n",
       "      <td>0.955825</td>\n",
       "      <td>0.953601</td>\n",
       "      <td>0.989285</td>\n",
       "      <td>0.985870</td>\n",
       "      <td>3112.0</td>\n",
       "      <td>1556.0</td>\n",
       "      <td>0.972259</td>\n",
       "      <td>0.969453</td>\n",
       "    </tr>\n",
       "    <tr>\n",
       "      <th>0</th>\n",
       "      <td>LogisticRegression</td>\n",
       "      <td>{'C': 0.8, 'penalty': 'l1'}</td>\n",
       "      <td>0.944999</td>\n",
       "      <td>540.965681</td>\n",
       "      <td>-2795.611794</td>\n",
       "      <td>0.309779</td>\n",
       "      <td>0.990156</td>\n",
       "      <td>0.955791</td>\n",
       "      <td>0.952803</td>\n",
       "      <td>0.993464</td>\n",
       "      <td>0.990156</td>\n",
       "      <td>3112.0</td>\n",
       "      <td>1556.0</td>\n",
       "      <td>0.974263</td>\n",
       "      <td>0.971112</td>\n",
       "    </tr>\n",
       "    <tr>\n",
       "      <th>2</th>\n",
       "      <td>LinearSVC</td>\n",
       "      <td>{'C': 0.1}</td>\n",
       "      <td>0.941799</td>\n",
       "      <td>540.855824</td>\n",
       "      <td>-2704.072101</td>\n",
       "      <td>0.239456</td>\n",
       "      <td>0.991865</td>\n",
       "      <td>0.952054</td>\n",
       "      <td>0.948210</td>\n",
       "      <td>0.995393</td>\n",
       "      <td>0.991865</td>\n",
       "      <td>3112.0</td>\n",
       "      <td>1556.0</td>\n",
       "      <td>0.973241</td>\n",
       "      <td>0.969533</td>\n",
       "    </tr>\n",
       "    <tr>\n",
       "      <th>1</th>\n",
       "      <td>KNNClassifier</td>\n",
       "      <td>{'n_neighbors': 9}</td>\n",
       "      <td>0.934599</td>\n",
       "      <td>540.619327</td>\n",
       "      <td>-2506.982811</td>\n",
       "      <td>0.187570</td>\n",
       "      <td>0.987797</td>\n",
       "      <td>0.949823</td>\n",
       "      <td>0.944693</td>\n",
       "      <td>0.993357</td>\n",
       "      <td>0.987797</td>\n",
       "      <td>3112.0</td>\n",
       "      <td>1556.0</td>\n",
       "      <td>0.971099</td>\n",
       "      <td>0.965755</td>\n",
       "    </tr>\n",
       "  </tbody>\n",
       "</table>\n",
       "</div>"
      ],
      "text/plain": [
       "               Classifier                            Best Hyperparameters  \\\n",
       "3           KernalizedSVC  {'C': 100, 'gamma': 0.001, 'kernel': 'linear'}   \n",
       "4  DecisionTreeClassifier        {'max_depth': 5, 'min_samples_leaf': 25}   \n",
       "0      LogisticRegression                     {'C': 0.8, 'penalty': 'l1'}   \n",
       "2               LinearSVC                                      {'C': 0.1}   \n",
       "1           KNNClassifier                              {'n_neighbors': 9}   \n",
       "\n",
       "   Avg test accuracy  Avg test AIC  Avg test BIC  Avg test sensitivity  \\\n",
       "3           0.942799    540.887633  -2730.575893              0.409297   \n",
       "4           0.942000    540.858346  -2706.148319              0.326321   \n",
       "0           0.944999    540.965681  -2795.611794              0.309779   \n",
       "2           0.941799    540.855824  -2704.072101              0.239456   \n",
       "1           0.934599    540.619327  -2506.982811              0.187570   \n",
       "\n",
       "   Avg test specificity  Avg test precision for positive class  \\\n",
       "3              0.980724                               0.968491   \n",
       "4              0.985870                               0.955825   \n",
       "0              0.990156                               0.955791   \n",
       "2              0.991865                               0.952054   \n",
       "1              0.987797                               0.949823   \n",
       "\n",
       "   Avg test precision for negative class  Avg test recall for positive class  \\\n",
       "3                               0.958944                            0.991002   \n",
       "4                               0.953601                            0.989285   \n",
       "0                               0.952803                            0.993464   \n",
       "2                               0.948210                            0.995393   \n",
       "1                               0.944693                            0.993357   \n",
       "\n",
       "   Avg test recall for negative class  Avg test support for positive class  \\\n",
       "3                            0.980724                               3112.0   \n",
       "4                            0.985870                               3112.0   \n",
       "0                            0.990156                               3112.0   \n",
       "2                            0.991865                               3112.0   \n",
       "1                            0.987797                               3112.0   \n",
       "\n",
       "   Avg test support for negative class  Avg test f1-score for positive class  \\\n",
       "3                               1556.0                              0.979617   \n",
       "4                               1556.0                              0.972259   \n",
       "0                               1556.0                              0.974263   \n",
       "2                               1556.0                              0.973241   \n",
       "1                               1556.0                              0.971099   \n",
       "\n",
       "   Avg test f1-score for negative class  \n",
       "3                              0.969709  \n",
       "4                              0.969453  \n",
       "0                              0.971112  \n",
       "2                              0.969533  \n",
       "1                              0.965755  "
      ]
     },
     "execution_count": 90,
     "metadata": {},
     "output_type": "execute_result"
    }
   ],
   "source": [
    "report_df[test_columns].sort_values(by=[\"Avg test precision for positive class\", \"Avg test recall for positive class\", \"Avg test accuracy\"], ascending=False)"
   ]
  },
  {
   "cell_type": "markdown",
   "metadata": {},
   "source": [
    "# Model evaluation strategy and conclusion"
   ]
  },
  {
   "cell_type": "markdown",
   "metadata": {},
   "source": [
    "Before discussing which evaluation strategy we should choose lets look at what Precision, Recall and Accuracy of the model mean .<br /><br />\n",
    "\n",
    "Precision - The precision is the ratio tp / (tp + fp) where tp is the number of true positives and fp the number of false positives. The precision is intuitively the ability of the classifier not to label as positive a sample that is negative. The best value is 1 and the worst value is 0.<br /><br />\n",
    "\n",
    "Recall - The recall is the ratio tp / (tp + fn) where tp is the number of true positives and fn the number of false negatives. The recall is intuitively the ability of the classifier to find all the positive samples. The best value is 1 and the worst value is 0.<br /><br />\n",
    "\n",
    "Accuracy - Accuracy is the fraction of predictions our model got right.<br /><br /><br />\n",
    "\n",
    "\n",
    "We decide our evaluation strategy as Precision and Recall value for the positive class in our data set and then thirdly the accuracy. The reason for choosing Precision and Recall over Accuracy is because our dataset is highly imbalanced with respect to the target variable INCOME. Only 6.63% of the labels have positive class. So due to less number of positive class samples it is not reliable to choose accuracy.<br /><br />\n",
    "\n",
    "We will choose testing data results to determine best model for the dataset.<br />\n",
    "\n",
    "From above evaluation report of test datasets we can see that KernalizedSVC gives best precision and recall. <br /><br />\n",
    "So the winning model here is <b>KernalizedSVC</b>."
   ]
  }
 ],
 "metadata": {
  "kernelspec": {
   "display_name": "Python 3",
   "language": "python",
   "name": "python3"
  },
  "language_info": {
   "codemirror_mode": {
    "name": "ipython",
    "version": 3
   },
   "file_extension": ".py",
   "mimetype": "text/x-python",
   "name": "python",
   "nbconvert_exporter": "python",
   "pygments_lexer": "ipython3",
   "version": "3.7.1"
  }
 },
 "nbformat": 4,
 "nbformat_minor": 2
}
